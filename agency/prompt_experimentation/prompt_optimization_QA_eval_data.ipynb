{
 "cells": [
  {
   "cell_type": "markdown",
   "metadata": {},
   "source": [
    "#  🔢 Imports"
   ]
  },
  {
   "cell_type": "code",
   "execution_count": 46,
   "metadata": {},
   "outputs": [
    {
     "data": {
      "text/plain": [
       "True"
      ]
     },
     "execution_count": 46,
     "metadata": {},
     "output_type": "execute_result"
    }
   ],
   "source": [
    "import pandas as pd\n",
    "import numpy as np\n",
    "import dspy\n",
    "from dotenv import load_dotenv\n",
    "import os\n",
    "import requests\n",
    "\n",
    "load_dotenv()"
   ]
  },
  {
   "cell_type": "markdown",
   "metadata": {},
   "source": [
    "## ⚙️ Setting up dspy"
   ]
  },
  {
   "cell_type": "code",
   "execution_count": 2,
   "metadata": {},
   "outputs": [],
   "source": [
    "turbo = dspy.OpenAI(model=\"gpt-3.5-turbo\")\n",
    "# rm module is currently not available.\n",
    "\n",
    "dspy.settings.configure(lm=turbo)"
   ]
  },
  {
   "cell_type": "markdown",
   "metadata": {},
   "source": [
    "## 📀 Data to train it on"
   ]
  },
  {
   "cell_type": "code",
   "execution_count": 7,
   "metadata": {},
   "outputs": [],
   "source": [
    "data_qa = pd.read_csv(\"question_answers_eval.csv\")\n",
    "data_qa = data_qa.sample(frac=1).reset_index(drop=True)"
   ]
  },
  {
   "cell_type": "code",
   "execution_count": 8,
   "metadata": {},
   "outputs": [
    {
     "data": {
      "text/html": [
       "<div>\n",
       "<style scoped>\n",
       "    .dataframe tbody tr th:only-of-type {\n",
       "        vertical-align: middle;\n",
       "    }\n",
       "\n",
       "    .dataframe tbody tr th {\n",
       "        vertical-align: top;\n",
       "    }\n",
       "\n",
       "    .dataframe thead th {\n",
       "        text-align: right;\n",
       "    }\n",
       "</style>\n",
       "<table border=\"1\" class=\"dataframe\">\n",
       "  <thead>\n",
       "    <tr style=\"text-align: right;\">\n",
       "      <th></th>\n",
       "      <th>Study Title</th>\n",
       "      <th>Question</th>\n",
       "      <th>Answer</th>\n",
       "      <th>Link</th>\n",
       "      <th>Source</th>\n",
       "    </tr>\n",
       "  </thead>\n",
       "  <tbody>\n",
       "    <tr>\n",
       "      <th>0</th>\n",
       "      <td>Cascade signal amplification strategy for the ...</td>\n",
       "      <td>What is the significance of sensitive and sele...</td>\n",
       "      <td>Sensitive and selective analysis of low conten...</td>\n",
       "      <td>https://pubmed.ncbi.nlm.nih.gov/38438228</td>\n",
       "      <td>cancer_pubmed</td>\n",
       "    </tr>\n",
       "    <tr>\n",
       "      <th>1</th>\n",
       "      <td>Holomics - a user-friendly R shiny application...</td>\n",
       "      <td>Can you explain the workflow provided by Holom...</td>\n",
       "      <td>The workflow provided by Holomics starts with ...</td>\n",
       "      <td>https://pubmed.ncbi.nlm.nih.gov/38438871</td>\n",
       "      <td>bioinformatics_pubmed</td>\n",
       "    </tr>\n",
       "    <tr>\n",
       "      <th>2</th>\n",
       "      <td>The genetic basis of hydrocephalus: genes, pat...</td>\n",
       "      <td>What is the status of pharmacologic treatments...</td>\n",
       "      <td>No effective pharmacologic treatments for hydr...</td>\n",
       "      <td>https://pubmed.ncbi.nlm.nih.gov/38439105</td>\n",
       "      <td>brain hemorrhage_pubmed</td>\n",
       "    </tr>\n",
       "    <tr>\n",
       "      <th>3</th>\n",
       "      <td>Sarcopenia is associated with hypomethylation ...</td>\n",
       "      <td>What is the role of TWEAK and FN14 in the path...</td>\n",
       "      <td>Tumor necrosis factor (TNF)-like weak inducer ...</td>\n",
       "      <td>https://pubmed.ncbi.nlm.nih.gov/38437928</td>\n",
       "      <td>diabetes_pubmed</td>\n",
       "    </tr>\n",
       "    <tr>\n",
       "      <th>4</th>\n",
       "      <td>Metformin</td>\n",
       "      <td>Does the research mention anything about the o...</td>\n",
       "      <td>No, the research does not mention anything abo...</td>\n",
       "      <td>CHEMBL6329</td>\n",
       "      <td>chembl</td>\n",
       "    </tr>\n",
       "    <tr>\n",
       "      <th>...</th>\n",
       "      <td>...</td>\n",
       "      <td>...</td>\n",
       "      <td>...</td>\n",
       "      <td>...</td>\n",
       "      <td>...</td>\n",
       "    </tr>\n",
       "    <tr>\n",
       "      <th>471</th>\n",
       "      <td>Amlodipine</td>\n",
       "      <td>Is Lisinopril an oral medication or not?</td>\n",
       "      <td>No, Lisinoprol is not an oral medication.</td>\n",
       "      <td>CHEMBL265667</td>\n",
       "      <td>chembl</td>\n",
       "    </tr>\n",
       "    <tr>\n",
       "      <th>472</th>\n",
       "      <td>Simvastatin</td>\n",
       "      <td>Sure, here are five questions and answers base...</td>\n",
       "      <td>The molecular formula for Metformin is not pro...</td>\n",
       "      <td>CHEMBL6329</td>\n",
       "      <td>chembl</td>\n",
       "    </tr>\n",
       "    <tr>\n",
       "      <th>473</th>\n",
       "      <td>Simvastatin</td>\n",
       "      <td>Is Simvastatin approved for therapeutic use?</td>\n",
       "      <td>According to the information provided, Simvast...</td>\n",
       "      <td>CHEMBL267864</td>\n",
       "      <td>chembl</td>\n",
       "    </tr>\n",
       "    <tr>\n",
       "      <th>474</th>\n",
       "      <td>Aspirin</td>\n",
       "      <td>Is Aspirin an oral medication?</td>\n",
       "      <td>According to the information provided, Aspirin...</td>\n",
       "      <td>CHEMBL265667</td>\n",
       "      <td>chembl</td>\n",
       "    </tr>\n",
       "    <tr>\n",
       "      <th>475</th>\n",
       "      <td>Effect of Vibroacoustic Therapy on Acute Stres...</td>\n",
       "      <td>Where did the study Effect of Vibroacoustic Th...</td>\n",
       "      <td>Florida Atlantic University</td>\n",
       "      <td>https://clinicaltrials.gov/study/NCT04293848?c...</td>\n",
       "      <td>Clicnical Trials</td>\n",
       "    </tr>\n",
       "  </tbody>\n",
       "</table>\n",
       "<p>476 rows × 5 columns</p>\n",
       "</div>"
      ],
      "text/plain": [
       "                                           Study Title  \\\n",
       "0    Cascade signal amplification strategy for the ...   \n",
       "1    Holomics - a user-friendly R shiny application...   \n",
       "2    The genetic basis of hydrocephalus: genes, pat...   \n",
       "3    Sarcopenia is associated with hypomethylation ...   \n",
       "4                                            Metformin   \n",
       "..                                                 ...   \n",
       "471                                         Amlodipine   \n",
       "472                                        Simvastatin   \n",
       "473                                        Simvastatin   \n",
       "474                                            Aspirin   \n",
       "475  Effect of Vibroacoustic Therapy on Acute Stres...   \n",
       "\n",
       "                                              Question  \\\n",
       "0    What is the significance of sensitive and sele...   \n",
       "1    Can you explain the workflow provided by Holom...   \n",
       "2    What is the status of pharmacologic treatments...   \n",
       "3    What is the role of TWEAK and FN14 in the path...   \n",
       "4    Does the research mention anything about the o...   \n",
       "..                                                 ...   \n",
       "471           Is Lisinopril an oral medication or not?   \n",
       "472  Sure, here are five questions and answers base...   \n",
       "473       Is Simvastatin approved for therapeutic use?   \n",
       "474                     Is Aspirin an oral medication?   \n",
       "475  Where did the study Effect of Vibroacoustic Th...   \n",
       "\n",
       "                                                Answer  \\\n",
       "0    Sensitive and selective analysis of low conten...   \n",
       "1    The workflow provided by Holomics starts with ...   \n",
       "2    No effective pharmacologic treatments for hydr...   \n",
       "3    Tumor necrosis factor (TNF)-like weak inducer ...   \n",
       "4    No, the research does not mention anything abo...   \n",
       "..                                                 ...   \n",
       "471          No, Lisinoprol is not an oral medication.   \n",
       "472  The molecular formula for Metformin is not pro...   \n",
       "473  According to the information provided, Simvast...   \n",
       "474  According to the information provided, Aspirin...   \n",
       "475                        Florida Atlantic University   \n",
       "\n",
       "                                                  Link  \\\n",
       "0             https://pubmed.ncbi.nlm.nih.gov/38438228   \n",
       "1             https://pubmed.ncbi.nlm.nih.gov/38438871   \n",
       "2             https://pubmed.ncbi.nlm.nih.gov/38439105   \n",
       "3             https://pubmed.ncbi.nlm.nih.gov/38437928   \n",
       "4                                           CHEMBL6329   \n",
       "..                                                 ...   \n",
       "471                                       CHEMBL265667   \n",
       "472                                         CHEMBL6329   \n",
       "473                                       CHEMBL267864   \n",
       "474                                       CHEMBL265667   \n",
       "475  https://clinicaltrials.gov/study/NCT04293848?c...   \n",
       "\n",
       "                      Source  \n",
       "0              cancer_pubmed  \n",
       "1      bioinformatics_pubmed  \n",
       "2    brain hemorrhage_pubmed  \n",
       "3            diabetes_pubmed  \n",
       "4                     chembl  \n",
       "..                       ...  \n",
       "471                   chembl  \n",
       "472                   chembl  \n",
       "473                   chembl  \n",
       "474                   chembl  \n",
       "475         Clicnical Trials  \n",
       "\n",
       "[476 rows x 5 columns]"
      ]
     },
     "execution_count": 8,
     "metadata": {},
     "output_type": "execute_result"
    }
   ],
   "source": [
    "data_qa"
   ]
  },
  {
   "cell_type": "code",
   "execution_count": 18,
   "metadata": {},
   "outputs": [],
   "source": [
    "sample_100_data = []\n",
    "for idx, row in enumerate(data_qa.iterrows()):\n",
    "    dspy_example = dspy.Example(\n",
    "        {\n",
    "            \"question\": row[1][\"Question\"],\n",
    "            \"answer\": row[1][\"Answer\"],\n",
    "            \"context\": row[1][\"Study Title\"],\n",
    "        }\n",
    "    ).with_inputs(\"question\", \"context\")\n",
    "    sample_100_data.append(dspy_example)\n",
    "    if idx == 100:\n",
    "        break"
   ]
  },
  {
   "cell_type": "markdown",
   "metadata": {},
   "source": [
    "## 🚙 Utils: Brave search API for now "
   ]
  },
  {
   "cell_type": "code",
   "execution_count": null,
   "metadata": {},
   "outputs": [],
   "source": [
    "import collections\n",
    "\n",
    "\n",
    "def call_brave_search_api(search_text: str) -> collections.defaultdict[list]:\n",
    "    endpoint = \"{url_address}?count={count}&q={search_text}&search_lang=en&extra_snippets=True\".format(\n",
    "        url_address=\"https://api.search.brave.com/res/v1/web/search\",\n",
    "        count=5,\n",
    "        search_text=search_text,\n",
    "    )\n",
    "\n",
    "    headers = {\n",
    "        \"Accept\": \"application/json\",\n",
    "        \"Accept-Encoding\": \"gzip\",\n",
    "        \"X-Subscription-Token\": str(os.environ[\"BRAVE_SUBSCRIPTION_KEY\"]),\n",
    "    }\n",
    "    results = collections.defaultdict(list)\n",
    "\n",
    "    try:\n",
    "        response = requests.get(endpoint, headers=headers)\n",
    "        response.raise_for_status()\n",
    "        web_response = response.json().get(\"web\").get(\"results\")\n",
    "        i = 0\n",
    "        if web_response:\n",
    "            for resp in web_response:\n",
    "                detailed_text = resp.get(\"description\") + \"\".join(\n",
    "                    resp.get(\"extra_snippets\") if resp.get(\"extra_snippets\") else \"\"\n",
    "                )\n",
    "                results[i] = {\n",
    "                    \"text\": detailed_text,\n",
    "                    \"url\": resp[\"url\"],\n",
    "                    \"page_age\": resp.get(\"page_age\"),\n",
    "                }\n",
    "                i = i + 1\n",
    "\n",
    "    except Exception as ex:\n",
    "        raise ex\n",
    "    return results"
   ]
  },
  {
   "cell_type": "code",
   "execution_count": 60,
   "metadata": {},
   "outputs": [],
   "source": [
    "op = call_brave_search_api(dev_example.context)"
   ]
  },
  {
   "cell_type": "code",
   "execution_count": 71,
   "metadata": {},
   "outputs": [],
   "source": []
  },
  {
   "cell_type": "code",
   "execution_count": 75,
   "metadata": {},
   "outputs": [
    {
     "data": {
      "text/plain": [
       "\"**DNA** is increasingly being used as the engineering material of choice for the construction of nanoscale circuits, structures, and motors. Many of these enzyme-free constructions function by **DNA** **strand** **displacement** reactions. The kinetics **of** **strand** **displacement** can be modulated by **toeholds**, short ...DNA is increasingly being used as the engineering material of choice for the construction of nanoscale circuits, structures, and motors. Many of these enzyme-free constructions function by DNA strand displacement reactions. The kinetics of strand displacement can be modulated by toeholds, short single-stranded segments of DNA that colocalize reactant DNA molecules.Hanwen Lu, Binrong Ding, Liujuan Tong, Fan Wu, Xinyao Yi, Jianxiu Wang. Toehold-Mediated Strand Displacement Reaction for Dual-Signal Electrochemical Assay of Apolipoprotein E Genotyping. ACS Sensors 2020, 5 (9) , 2959-2965. https://doi.org/10.1021/acssensors.0c01511Gurbrinder Ghotra, Bach Kim Nguyen, Jennifer I. L. Chen. DNA-Functionalized Gold Nanoparticles with Toehold-Mediated Strand Displacement for Nucleic Acid Sensors. ACS Applied Nano Materials 2020, 3 (10) , 10123-10132. https://doi.org/10.1021/acsanm.0c02104Yu Xue, Yu Wang, Sinuo Feng, Mengxia Yan, Jianshe Huang, Xiurong Yang. Label-Free and Sensitive Electrochemical Biosensor for Amplification Detection of Target Nucleic Acids Based on Transduction Hairpins and Three-Leg DNAzyme Walkers. Analytical Chemistry 2021, 93 (25) , 8962-8970. https://doi.org/10.1021/acs.analchem.1c01522 \\n \\n On the basis of aptamer-based rolling circle **amplification** (RCA) and magnetic beads (MBs), a highly sensitive **electrochemical** method was developed for the determination of Ochratoxin A (OTA). Initially, an amino-modified capture **DNA** was immobilized onto MBs for the following hybridization with ...On the basis of aptamer-based rolling circle amplification (RCA) and magnetic beads (MBs), a highly sensitive electrochemical method was developed for the determination of Ochratoxin A (OTA). Initially, an amino-modified capture DNA was immobilized onto MBs for the following hybridization with an OT …This strategy, based on the novel design of OTA-mediated DNA circularization, the combination of RCA and double signal probes introduction, could detect OTA down to the level of 0.2 pg mL(-1) with a dynamic range spanning more than 4 orders of magnitude. The proposed approach is tested to determine OTA in red wines and shows good application potential in real samples. Copyright © 2011 Elsevier B.V. All rights reserved. Rolling chain amplification based signal-enhanced electrochemical aptasensor for ultrasensitive detection of ochratoxin A.A Fluorescent DNA Hydrogel Aptasensor Based on the Self-Assembly of Rolling Circle Amplification Products for Sensitive Detection of Ochratoxin A. Hao L, Wang W, Shen X, Wang S, Li Q, An F, Wu S. Hao L, et al. J Agric Food Chem. 2020 Jan 8;68(1):369-375. doi: 10.1021/acs.jafc.9b06021. Epub 2019 Dec 27. J Agric Food Chem. 2020. PMID: 31829586 · Strategies for highly sensitive biomarker detection by Rolling Circle Amplification of signals from nucleic acid composed sensors.Amplification of circularizable probes for the detection of target nucleic acids and proteins. Zhang D, Wu J, Ye F, Feng T, Lee I, Yin B. Zhang D, et al. Clin Chim Acta. 2006 Jan;363(1-2):61-70. doi: 10.1016/j.cccn.2005.05.039. Epub 2005 Aug 24. Clin Chim Acta. 2006. PMID: 16122721 Review. ... A High-Quality CdSe/CdS/ZnS Quantum-Dot-Based FRET Aptasensor for the Simultaneous Detection of Two Different Alzheimer's Disease Core Biomarkers. \\n \\n We report a generalizable **strategy** **for** biosensing that takes advantage of the resistance **of** **DNA** aptamers against nuclease digestion when bound with their targets, coupled with **toehold** **mediated** **strand** **displacement** (TMSD) and rolling circle **amplification** (RCA).We report a generalizable strategy for biosensing that takes advantage of the resistance of DNA aptamers against nuclease digestion when bound with their targets, coupled with toehold mediated strand displacement (TMSD) and rolling circle amplification (RCA). A DNA aptamer containing a toehold extension at its 5'-end protects it from 3'-exonuclease digestion by phi29 DNA polymerase (phi29 DP) in a concentration-dependent manner.Functional nucleic acid biosensors utilizing rolling circle amplification. Bialy RM, Mainguy A, Li Y, Brennan JD. Bialy RM, et al. Chem Soc Rev. 2022 Oct 31;51(21):9009-9067. doi: 10.1039/d2cs00613h. Chem Soc Rev. 2022. PMID: 36259976 Review. ... In situ reduction of gold nanoparticles-decorated MXenes-based electrochemical sensing platform for KRAS gene detection.Target-Mediated 5'-Exonuclease Digestion of DNA Aptamers with RecJ to Modulate Rolling Circle Amplification for Biosensing. \\n \\n The determination of specie-specific **DNA** sequences is a key factor for identification of animal species and detection of meat adulteration. Herein, a …Herein, a simple homogeneous electrochemical biosensor was developed for sensitive detection of specie-specific DNA sequences from meat products based on high efficient and specific dual-output toehold-mediated strand displacement (TMSD). After incubation with target DNA, large amount of methylene blue (electrochemical signal molecule) labeled probes (MB-P) were released from preformed DNA duplex structures by the process of dual-output TMSD amplification. The free MB-P could be further digested by Exonuclease I, and the enzymatic products contain little negative charge could diffuse to the surface of indium tin oxide electrode, generating significantly electrochemical signal.The free MB-P could be further digested by Exonuclease I, and the enzymatic products contain little negative charge could diffuse to the surface of indium tin oxide electrode, generating significantly electrochemical signal. As a result, the designed biosensor showed a broad dynamic range from 0.01 pM to 100 pM, with a low detection limit of 8.2 fM, and ideal selectivity and reproducibility.A sensitive homogeneous electrochemical biosensor for specie-specific DNA sequences detection was constructed. \\n \\n Based on target **DNA** (tDNA)-**mediated** proximity binding to develop unique **DNA** assembly as **output** translator **and** enzyme-cleaved recycle **for** **signal** **amplif**…In this review, all recent nanomaterial-based electrochemical aptasensors developed to diagnose or prognosis Alzheimer's disease have been collected, categorized, and reviewed. Analytes in these aptasensors were specific biomarkers, including amyloid-β (Aβ) and tau protein, as well as other nonspecific markers (microRNAs (miRNAs), dopamine, thrombin, adenosine triphosphate (ATP), interleukin-6, α-1 antitrypsin, α-synuclein, target DNA (tDNA), and glycated albumin).Owing to the porous nanostructure, the synergistic effect among different components, excellently electrochemical conductivity, and good biocompatibility of the NiO/Fe2O3/NiCo2O4 nanohybrid obtained at 600 °C, the relevant aptasensor displayed superior sensing performance for the determination of insulin. It gave an ultra-low detection limit of 9.1 fg mL−1 (0.16 fM) within a wide linear insulin concentration ranging from 0.01 pg mL−1 (0.172 fM) to 100 ng mL−1 (1.72 nM) determined by the electrochemical technique.It gave an ultra-low detection limit of 9.1 fg mL−1 (0.16 fM) within a wide linear insulin concentration ranging from 0.01 pg mL−1 (0.172 fM) to 100 ng mL−1 (1.72 nM) determined by the electrochemical technique. The constructed aptasensor also had high selectivity, good stability, excellent reproducibility, and acceptable applicability in human serum.The constructed aptasensor also had high selectivity, good stability, excellent reproducibility, and acceptable applicability in human serum. By integrating the advantages of aptasensors and electrochemical approach with features of multi-metallic metal-organic frameworks, this work widely broadens the applications of MOF-driven nanohybrids in biosensing fields.\""
      ]
     },
     "execution_count": 75,
     "metadata": {},
     "output_type": "execute_result"
    }
   ],
   "source": [
    "context.replace(\"<strong>\", \"**\").replace(\"</strong>\", \"**\")"
   ]
  },
  {
   "cell_type": "code",
   "execution_count": 76,
   "metadata": {},
   "outputs": [
    {
     "data": {
      "text/plain": [
       "\"<strong>DNA</strong> is increasingly being used as the engineering material of choice for the construction of nanoscale circuits, structures, and motors. Many of these enzyme-free constructions function by <strong>DNA</strong> <strong>strand</strong> <strong>displacement</strong> reactions. The kinetics <strong>of</strong> <strong>strand</strong> <strong>displacement</strong> can be modulated by <strong>toeholds</strong>, short ...DNA is increasingly being used as the engineering material of choice for the construction of nanoscale circuits, structures, and motors. Many of these enzyme-free constructions function by DNA strand displacement reactions. The kinetics of strand displacement can be modulated by toeholds, short single-stranded segments of DNA that colocalize reactant DNA molecules.Hanwen Lu, Binrong Ding, Liujuan Tong, Fan Wu, Xinyao Yi, Jianxiu Wang. Toehold-Mediated Strand Displacement Reaction for Dual-Signal Electrochemical Assay of Apolipoprotein E Genotyping. ACS Sensors 2020, 5 (9) , 2959-2965. https://doi.org/10.1021/acssensors.0c01511Gurbrinder Ghotra, Bach Kim Nguyen, Jennifer I. L. Chen. DNA-Functionalized Gold Nanoparticles with Toehold-Mediated Strand Displacement for Nucleic Acid Sensors. ACS Applied Nano Materials 2020, 3 (10) , 10123-10132. https://doi.org/10.1021/acsanm.0c02104Yu Xue, Yu Wang, Sinuo Feng, Mengxia Yan, Jianshe Huang, Xiurong Yang. Label-Free and Sensitive Electrochemical Biosensor for Amplification Detection of Target Nucleic Acids Based on Transduction Hairpins and Three-Leg DNAzyme Walkers. Analytical Chemistry 2021, 93 (25) , 8962-8970. https://doi.org/10.1021/acs.analchem.1c01522 \\n \\n On the basis of aptamer-based rolling circle <strong>amplification</strong> (RCA) and magnetic beads (MBs), a highly sensitive <strong>electrochemical</strong> method was developed for the determination of Ochratoxin A (OTA). Initially, an amino-modified capture <strong>DNA</strong> was immobilized onto MBs for the following hybridization with ...On the basis of aptamer-based rolling circle amplification (RCA) and magnetic beads (MBs), a highly sensitive electrochemical method was developed for the determination of Ochratoxin A (OTA). Initially, an amino-modified capture DNA was immobilized onto MBs for the following hybridization with an OT …This strategy, based on the novel design of OTA-mediated DNA circularization, the combination of RCA and double signal probes introduction, could detect OTA down to the level of 0.2 pg mL(-1) with a dynamic range spanning more than 4 orders of magnitude. The proposed approach is tested to determine OTA in red wines and shows good application potential in real samples. Copyright © 2011 Elsevier B.V. All rights reserved. Rolling chain amplification based signal-enhanced electrochemical aptasensor for ultrasensitive detection of ochratoxin A.A Fluorescent DNA Hydrogel Aptasensor Based on the Self-Assembly of Rolling Circle Amplification Products for Sensitive Detection of Ochratoxin A. Hao L, Wang W, Shen X, Wang S, Li Q, An F, Wu S. Hao L, et al. J Agric Food Chem. 2020 Jan 8;68(1):369-375. doi: 10.1021/acs.jafc.9b06021. Epub 2019 Dec 27. J Agric Food Chem. 2020. PMID: 31829586 · Strategies for highly sensitive biomarker detection by Rolling Circle Amplification of signals from nucleic acid composed sensors.Amplification of circularizable probes for the detection of target nucleic acids and proteins. Zhang D, Wu J, Ye F, Feng T, Lee I, Yin B. Zhang D, et al. Clin Chim Acta. 2006 Jan;363(1-2):61-70. doi: 10.1016/j.cccn.2005.05.039. Epub 2005 Aug 24. Clin Chim Acta. 2006. PMID: 16122721 Review. ... A High-Quality CdSe/CdS/ZnS Quantum-Dot-Based FRET Aptasensor for the Simultaneous Detection of Two Different Alzheimer's Disease Core Biomarkers. \\n \\n We report a generalizable <strong>strategy</strong> <strong>for</strong> biosensing that takes advantage of the resistance <strong>of</strong> <strong>DNA</strong> aptamers against nuclease digestion when bound with their targets, coupled with <strong>toehold</strong> <strong>mediated</strong> <strong>strand</strong> <strong>displacement</strong> (TMSD) and rolling circle <strong>amplification</strong> (RCA).We report a generalizable strategy for biosensing that takes advantage of the resistance of DNA aptamers against nuclease digestion when bound with their targets, coupled with toehold mediated strand displacement (TMSD) and rolling circle amplification (RCA). A DNA aptamer containing a toehold extension at its 5'-end protects it from 3'-exonuclease digestion by phi29 DNA polymerase (phi29 DP) in a concentration-dependent manner.Functional nucleic acid biosensors utilizing rolling circle amplification. Bialy RM, Mainguy A, Li Y, Brennan JD. Bialy RM, et al. Chem Soc Rev. 2022 Oct 31;51(21):9009-9067. doi: 10.1039/d2cs00613h. Chem Soc Rev. 2022. PMID: 36259976 Review. ... In situ reduction of gold nanoparticles-decorated MXenes-based electrochemical sensing platform for KRAS gene detection.Target-Mediated 5'-Exonuclease Digestion of DNA Aptamers with RecJ to Modulate Rolling Circle Amplification for Biosensing. \\n \\n The determination of specie-specific <strong>DNA</strong> sequences is a key factor for identification of animal species and detection of meat adulteration. Herein, a …Herein, a simple homogeneous electrochemical biosensor was developed for sensitive detection of specie-specific DNA sequences from meat products based on high efficient and specific dual-output toehold-mediated strand displacement (TMSD). After incubation with target DNA, large amount of methylene blue (electrochemical signal molecule) labeled probes (MB-P) were released from preformed DNA duplex structures by the process of dual-output TMSD amplification. The free MB-P could be further digested by Exonuclease I, and the enzymatic products contain little negative charge could diffuse to the surface of indium tin oxide electrode, generating significantly electrochemical signal.The free MB-P could be further digested by Exonuclease I, and the enzymatic products contain little negative charge could diffuse to the surface of indium tin oxide electrode, generating significantly electrochemical signal. As a result, the designed biosensor showed a broad dynamic range from 0.01 pM to 100 pM, with a low detection limit of 8.2 fM, and ideal selectivity and reproducibility.A sensitive homogeneous electrochemical biosensor for specie-specific DNA sequences detection was constructed. \\n \\n Based on target <strong>DNA</strong> (tDNA)-<strong>mediated</strong> proximity binding to develop unique <strong>DNA</strong> assembly as <strong>output</strong> translator <strong>and</strong> enzyme-cleaved recycle <strong>for</strong> <strong>signal</strong> <strong>amplif</strong>…In this review, all recent nanomaterial-based electrochemical aptasensors developed to diagnose or prognosis Alzheimer's disease have been collected, categorized, and reviewed. Analytes in these aptasensors were specific biomarkers, including amyloid-β (Aβ) and tau protein, as well as other nonspecific markers (microRNAs (miRNAs), dopamine, thrombin, adenosine triphosphate (ATP), interleukin-6, α-1 antitrypsin, α-synuclein, target DNA (tDNA), and glycated albumin).Owing to the porous nanostructure, the synergistic effect among different components, excellently electrochemical conductivity, and good biocompatibility of the NiO/Fe2O3/NiCo2O4 nanohybrid obtained at 600 °C, the relevant aptasensor displayed superior sensing performance for the determination of insulin. It gave an ultra-low detection limit of 9.1 fg mL−1 (0.16 fM) within a wide linear insulin concentration ranging from 0.01 pg mL−1 (0.172 fM) to 100 ng mL−1 (1.72 nM) determined by the electrochemical technique.It gave an ultra-low detection limit of 9.1 fg mL−1 (0.16 fM) within a wide linear insulin concentration ranging from 0.01 pg mL−1 (0.172 fM) to 100 ng mL−1 (1.72 nM) determined by the electrochemical technique. The constructed aptasensor also had high selectivity, good stability, excellent reproducibility, and acceptable applicability in human serum.The constructed aptasensor also had high selectivity, good stability, excellent reproducibility, and acceptable applicability in human serum. By integrating the advantages of aptasensors and electrochemical approach with features of multi-metallic metal-organic frameworks, this work widely broadens the applications of MOF-driven nanohybrids in biosensing fields.\""
      ]
     },
     "execution_count": 76,
     "metadata": {},
     "output_type": "execute_result"
    }
   ],
   "source": [
    "context"
   ]
  },
  {
   "cell_type": "code",
   "execution_count": 78,
   "metadata": {},
   "outputs": [],
   "source": [
    "def create_context(data):\n",
    "    data = call_brave_search_api(data)\n",
    "    context = \" \\n \\n \".join([con[\"text\"][:1000] for con in data.values()])\n",
    "    context = context.replace(\"<strong>\", \"**\").replace(\"</strong>\", \"**\")\n",
    "    return context"
   ]
  },
  {
   "cell_type": "code",
   "execution_count": 79,
   "metadata": {},
   "outputs": [
    {
     "name": "stdout",
     "output_type": "stream",
     "text": [
      "Question: What is the significance of sensitive and selective analysis of low content nucleic acid sequences?\n",
      "Predicted Answer: Sensitive and selective analysis of low content nucleic acid sequences is significant because it allows for the detection of specific DNA sequences, which is crucial for identifying animal species, detecting meat adulteration, and diagnosing diseases like Alzheimer's. Techniques like toehold-mediated strand displacement (TMSD) and rolling circle amplification (RCA) enable highly sensitive detection of target DNA sequences, even at low concentrations, making them valuable tools in biomedical research and diagnostics.\n"
     ]
    }
   ],
   "source": [
    "# setting up and testing the basic signature\n",
    "class QA(dspy.Signature):\n",
    "    \"\"\"Answer biomedical questions with help of context title given.\"\"\"\n",
    "\n",
    "    question = dspy.InputField()\n",
    "    context = dspy.InputField()\n",
    "    answer = dspy.OutputField(desc=\"Specific information about the question asked.\")\n",
    "\n",
    "\n",
    "# testing out QA\n",
    "generate_answer = dspy.Predict(QA)\n",
    "dev_example = sample_100_data[0]\n",
    "# Call the predictor on a particular input.\n",
    "pred = generate_answer(\n",
    "    question=dev_example.question, context=create_context((dev_example.context))\n",
    ")\n",
    "\n",
    "# Print the input and the prediction.\n",
    "print(f\"Question: {dev_example.question}\")\n",
    "print(f\"Predicted Answer: {pred.answer}\")"
   ]
  },
  {
   "cell_type": "code",
   "execution_count": 80,
   "metadata": {},
   "outputs": [
    {
     "data": {
      "text/plain": [
       "'Sensitive and selective analysis of low content nucleic acid sequences plays an important role in pathogen analysis, disease diagnosis and biomedicine.'"
      ]
     },
     "execution_count": 80,
     "metadata": {},
     "output_type": "execute_result"
    }
   ],
   "source": [
    "# actual answer\n",
    "dev_example.answer"
   ]
  },
  {
   "cell_type": "code",
   "execution_count": 81,
   "metadata": {},
   "outputs": [
    {
     "name": "stdout",
     "output_type": "stream",
     "text": [
      "\n",
      "\n",
      "\n",
      "\n",
      "Answer biomedical questions with help of context title given.\n",
      "\n",
      "---\n",
      "\n",
      "Follow the following format.\n",
      "\n",
      "Question: ${question}\n",
      "Context: ${context}\n",
      "Answer: Specific information about the question asked.\n",
      "\n",
      "---\n",
      "\n",
      "Question: What is the significance of sensitive and selective analysis of low content nucleic acid sequences?\n",
      "Context:\n",
      "**DNA** is increasingly being used as the engineering material of choice for the construction of nanoscale circuits, structures, and motors. Many of these enzyme-free constructions function by **DNA** **strand** **displacement** reactions. The kinetics **of** **strand** **displacement** can be modulated by **toeholds**, short ...DNA is increasingly being used as the engineering material of choice for the construction of nanoscale circuits, structures, and motors. Many of these enzyme-free constructions function by DNA strand displacement reactions. The kinetics of strand displacement can be modulated by toeholds, short single-stranded segments of DNA that colocalize reactant DNA molecules.Hanwen Lu, Binrong Ding, Liujuan Tong, Fan Wu, Xinyao Yi, Jianxiu Wang. Toehold-Mediated Strand Displacement Reaction for Dual-Signal Electrochemical Assay of Apolipoprotein E Genotyping. ACS Sensor \n",
      " \n",
      " On the basis of aptamer-based rolling circle **amplification** (RCA) and magnetic beads (MBs), a highly sensitive **electrochemical** method was developed for the determination of Ochratoxin A (OTA). Initially, an amino-modified capture **DNA** was immobilized onto MBs for the following hybridization with ...On the basis of aptamer-based rolling circle amplification (RCA) and magnetic beads (MBs), a highly sensitive electrochemical method was developed for the determination of Ochratoxin A (OTA). Initially, an amino-modified capture DNA was immobilized onto MBs for the following hybridization with an OT …This strategy, based on the novel design of OTA-mediated DNA circularization, the combination of RCA and double signal probes introduction, could detect OTA down to the level of 0.2 pg mL(-1) with a dynamic range spanning more than 4 orders of magnitude. The proposed approach is tested to determine OTA in red wines and shows good application poten \n",
      " \n",
      " We report a generalizable **strategy** **for** biosensing that takes advantage of the resistance **of** **DNA** aptamers against nuclease digestion when bound with their targets, coupled with **toehold** **mediated** **strand** **displacement** (TMSD) and rolling circle **amplification** (RCA).We report a generalizable strategy for biosensing that takes advantage of the resistance of DNA aptamers against nuclease digestion when bound with their targets, coupled with toehold mediated strand displacement (TMSD) and rolling circle amplification (RCA). A DNA aptamer containing a toehold extension at its 5'-end protects it from 3'-exonuclease digestion by phi29 DNA polymerase (phi29 DP) in a concentration-dependent manner.Functional nucleic acid biosensors utilizing rolling circle amplification. Bialy RM, Mainguy A, Li Y, Brennan JD. Bialy RM, et al. Chem Soc Rev. 2022 Oct 31 \n",
      " \n",
      " The determination of specie-specific **DNA** sequences is a key factor for identification of animal species and detection of meat adulteration. Herein, a …Herein, a simple homogeneous electrochemical biosensor was developed for sensitive detection of specie-specific DNA sequences from meat products based on high efficient and specific dual-output toehold-mediated strand displacement (TMSD). After incubation with target DNA, large amount of methylene blue (electrochemical signal molecule) labeled probes (MB-P) were released from preformed DNA duplex structures by the process of dual-output TMSD amplification. The free MB-P could be further digested by Exonuclease I, and the enzymatic products contain little negative charge could diffuse to the surface of indium tin oxide electrode, generating significantly electrochemical signal.The free MB-P could be further digested by Exonuclease I, and the enzymatic products contain little negative charge could diffuse to the surface of \n",
      " \n",
      " Based on target **DNA** (tDNA)-**mediated** proximity binding to develop unique **DNA** assembly as **output** translator **and** enzyme-cleaved recycle **for** **signal** **amplif**…In this review, all recent nanomaterial-based electrochemical aptasensors developed to diagnose or prognosis Alzheimer's disease have been collected, categorized, and reviewed. Analytes in these aptasensors were specific biomarkers, including amyloid-β (Aβ) and tau protein, as well as other nonspecific markers (microRNAs (miRNAs), dopamine, thrombin, adenosine triphosphate (ATP), interleukin-6, α-1 antitrypsin, α-synuclein, target DNA (tDNA), and glycated albumin).Owing to the porous nanostructure, the synergistic effect among different components, excellently electrochemical conductivity, and good biocompatibility of the NiO/Fe2O3/NiCo2O4 nanohybrid obtained at 600 °C, the relevant aptasensor displayed \n",
      "Answer:\u001b[32m Sensitive and selective analysis of low content nucleic acid sequences is significant because it allows for the detection of specific DNA sequences, which is crucial for identifying animal species, detecting meat adulteration, and diagnosing diseases like Alzheimer's. Techniques like toehold-mediated strand displacement (TMSD) and rolling circle amplification (RCA) enable highly sensitive detection of target DNA sequences, even at low concentrations, making them valuable tools in biomedical research and diagnostics.\u001b[0m\n",
      "\n",
      "\n",
      "\n"
     ]
    }
   ],
   "source": [
    "# what prompt did it gave to model?\n",
    "turbo.inspect_history(n=1)"
   ]
  },
  {
   "cell_type": "code",
   "execution_count": 82,
   "metadata": {},
   "outputs": [],
   "source": [
    "class QA_module_dspy(dspy.Module):\n",
    "    \"\"\"\n",
    "    Answer biomedical questions with help of context title given.\n",
    "    Context: Title of Research paper.\n",
    "    \"\"\"\n",
    "\n",
    "    def __init__(self):\n",
    "        super().__init__()\n",
    "        self.generate_answer = dspy.ChainOfThought(QA)\n",
    "\n",
    "    def _get_context(self, context):\n",
    "        return create_context(context)\n",
    "\n",
    "    def forward(self, question, context):\n",
    "        prediction = self.generate_answer(\n",
    "            question=question, context=self._get_context(context)\n",
    "        )\n",
    "        return dspy.Prediction(answer=prediction.answer)"
   ]
  },
  {
   "cell_type": "code",
   "execution_count": 87,
   "metadata": {},
   "outputs": [],
   "source": [
    "class Assess(dspy.Signature):\n",
    "    \"\"\"Assess the answer given by LLM with acutal answer.\"\"\"\n",
    "\n",
    "    assessment_question = dspy.InputField()\n",
    "    assessed_answer = dspy.InputField()\n",
    "    assessment_answer = dspy.OutputField(desc=\"Yes or No\")\n",
    "\n",
    "\n",
    "gpt4T = dspy.OpenAI(model=\"gpt-4-1106-preview\", max_tokens=1000, model_type=\"chat\")\n",
    "\n",
    "\n",
    "def metric(gold, pred, trace=None):\n",
    "    question, answer, predicted_output = gold.question, gold.answer, pred.answer\n",
    "\n",
    "    is_it_good_enough = (\n",
    "        \"Is the answer given by LLM is good enough to answer the given question\"\n",
    "    )\n",
    "    correct = f\"The text should answer `{question}` with `{answer}`. Does the assessed text is relavant to the answer given?\"\n",
    "\n",
    "    with dspy.context(lm=gpt4T):\n",
    "        correct = dspy.Predict(Assess)(\n",
    "            assessed_answer=question, assessment_question=correct\n",
    "        )\n",
    "        is_it_good_enough = dspy.Predict(Assess)(\n",
    "            assessed_answer=predicted_output, assessment_question=is_it_good_enough\n",
    "        )\n",
    "\n",
    "    correct, is_it_good_enough = [\n",
    "        m.assessment_answer.lower() == \"yes\" for m in [correct, is_it_good_enough]\n",
    "    ]\n",
    "    print(correct, is_it_good_enough)\n",
    "    score = (\n",
    "        (correct + is_it_good_enough)\n",
    "        if correct and (len(predicted_output) <= 280)\n",
    "        else 0\n",
    "    )\n",
    "    if trace is not None:\n",
    "        return score >= 2\n",
    "    return score / 2.0"
   ]
  },
  {
   "cell_type": "code",
   "execution_count": 89,
   "metadata": {},
   "outputs": [
    {
     "name": "stderr",
     "output_type": "stream",
     "text": [
      " 20%|██        | 1/5 [00:04<00:17,  4.37s/it]"
     ]
    },
    {
     "name": "stdout",
     "output_type": "stream",
     "text": [
      "False True\n",
      "0.0\n"
     ]
    },
    {
     "name": "stderr",
     "output_type": "stream",
     "text": [
      " 40%|████      | 2/5 [00:08<00:13,  4.51s/it]"
     ]
    },
    {
     "name": "stdout",
     "output_type": "stream",
     "text": [
      "False True\n",
      "0.0\n"
     ]
    },
    {
     "name": "stderr",
     "output_type": "stream",
     "text": [
      " 60%|██████    | 3/5 [00:12<00:08,  4.17s/it]"
     ]
    },
    {
     "name": "stdout",
     "output_type": "stream",
     "text": [
      "False True\n",
      "0.0\n"
     ]
    },
    {
     "name": "stderr",
     "output_type": "stream",
     "text": [
      " 80%|████████  | 4/5 [00:19<00:05,  5.09s/it]"
     ]
    },
    {
     "name": "stdout",
     "output_type": "stream",
     "text": [
      "False True\n",
      "0.0\n"
     ]
    },
    {
     "name": "stderr",
     "output_type": "stream",
     "text": [
      "100%|██████████| 5/5 [00:24<00:00,  4.91s/it]"
     ]
    },
    {
     "name": "stdout",
     "output_type": "stream",
     "text": [
      "False False\n",
      "0.0\n",
      "Bootstrapped 0 full traces after 5 examples in round 0.\n"
     ]
    },
    {
     "name": "stderr",
     "output_type": "stream",
     "text": [
      "\n"
     ]
    }
   ],
   "source": [
    "from dspy.teleprompt import BootstrapFewShot\n",
    "\n",
    "# Set up a basic teleprompter, which will compile our RAG program.\n",
    "teleprompter = BootstrapFewShot(metric=metric)\n",
    "\n",
    "# Compile!\n",
    "compiled_rag = teleprompter.compile(QA_module_dspy(), trainset=sample_100_data[:5])"
   ]
  },
  {
   "cell_type": "code",
   "execution_count": 90,
   "metadata": {},
   "outputs": [
    {
     "name": "stdout",
     "output_type": "stream",
     "text": [
      "\n",
      "\n",
      "\n",
      "\n",
      "Answer biomedical questions with help of context title given.\n",
      "\n",
      "---\n",
      "\n",
      "Follow the following format.\n",
      "\n",
      "Question: ${question}\n",
      "\n",
      "Context: ${context}\n",
      "\n",
      "Reasoning: Let's think step by step in order to ${produce the answer}. We ...\n",
      "\n",
      "Answer: Specific information about the question asked.\n",
      "\n",
      "---\n",
      "\n",
      "Question: What is the role of TWEAK and FN14 in the pathogenesis of sarcopenia?\n",
      "Context: Sarcopenia is associated with hypomethylation of TWEAK and increased plasma levels of TWEAK and its downstream inflammatory factor TNF-α in older adults: A case-control study.\n",
      "Answer: Tumor necrosis factor (TNF)-like weak inducer of apoptosis (TWEAK) and its receptor fibroblast growth factor inducible 14 (FN14) are known to play important roles in the pathogenesis of sarcopenia.\n",
      "\n",
      "---\n",
      "\n",
      "Question: What is the significance of sensitive and selective analysis of low content nucleic acid sequences?\n",
      "Context: Cascade signal amplification strategy for the electrochemical aptasensing of nucleic acid: Combination of dual-output toehold-mediated DNA strand displacement, DNA walker and Exo III.\n",
      "Answer: Sensitive and selective analysis of low content nucleic acid sequences plays an important role in pathogen analysis, disease diagnosis and biomedicine.\n",
      "\n",
      "---\n",
      "\n",
      "Question: Can you explain the workflow provided by Holomics for analyzing multi-omics data?\n",
      "Context: Holomics - a user-friendly R shiny application for multi-omics data integration and analysis.\n",
      "Answer: The workflow provided by Holomics starts with the upload and pre-filtering of single-omics data, followed by single-omics analysis focusing on key features. Subsequently, the reduced datasets are subjected to multi-omics analyses to reveal correlations between different datasets.\n",
      "\n",
      "---\n",
      "\n",
      "Question: What is the status of pharmacologic treatments for hydrocephalus as per the research paper?\n",
      "Context: The genetic basis of hydrocephalus: genes, pathways, mechanisms, and global impact.\n",
      "Answer: No effective pharmacologic treatments for hydrocephalus have been developed.\n",
      "\n",
      "---\n",
      "\n",
      "Question: Does the research mention anything about the oral administration of the studied compound?\n",
      "\n",
      "Context:\n",
      "Metformin is **used with a proper diet and exercise program and possibly with other medications to control high blood sugar**. It is used in patients with type 2 diabetes. Controlling high blood sugar helps prevent kidney damage, blindness, nerve problems, loss of limbs, and sexual function problems.Metformin is used with a proper diet and exercise program and possibly with other medications to control high blood sugar. It is used in patients with type 2 diabetes. Controlling high blood sugar helps prevent kidney damage, blindness, nerve problems, loss of limbs, and sexual function problems.Proper control of diabetes may also lessen your risk of a heart attack or stroke. Metformin works by helping to restore your body's proper response to the insulin you naturally produce. It also decreases the amount of sugar that your liver makes and that your stomach/intestines absorb.Metformin does not usually cause low blood sugar (hypoglycemia). Low blood sugar may occur if this drug \n",
      " \n",
      " Metformin is **an FDA-approved antidiabetic agent that manages high blood sugar levels in type 2 diabetes patients**. It reduces glucose absorption from the intestines, lowers liver glucose production, and improves insulin sensitivity. Metformin is recommended with dietary changes and exercise ...Metformin is an FDA-approved antidiabetic agent that manages high blood sugar levels in type 2 diabetes patients. It reduces glucose absorption from the intestines, lowers liver glucose production, and improves insulin sensitivity. Metformin is recommended with dietary changes and exercise for better results.Managing blood sugar levels with medications like metformin can prevent complications such as kidney damage, nerve issues, blindness, amputations, and sexual dysfunction. Effective diabetes control can also lower the risk of heart attacks or strokes.If you need to have surgery or any type of x-ray or CT scan using a dye that is injected into your veins, you may need to tempora \n",
      " \n",
      " **Metformin**: learn about side effects, dosage, special precautions, and more on MedlinePlusMetformin may rarely cause a serious, life-threatening condition called lactic acidosis. Tell your doctor if you have kidney disease. Your doctor will probably tell you not to take metformin. Also, tell your doctor if you are over 65 years old and if you have ever had a heart attack; stroke; diabetic ketoacidosis (blood sugar that is high enough to cause severe symptoms and requires emergency medical treatment); a coma; or heart or liver disease.Also, tell your doctor if you are over 65 years old and if you have ever had a heart attack; stroke; diabetic ketoacidosis (blood sugar that is high enough to cause severe symptoms and requires emergency medical treatment); a coma; or heart or liver disease. Taking certain other medications with metformin may increase the risk of lactic acidosis. Tell your doctor if you are taking acetazolamide (Diamox), dichlorphenamide (Keveyis), methazol \n",
      " \n",
      " Drug information provided by: Merative, Micromedex® · **Metformin** is used to treat high blood sugar levels that are caused by a type of diabetes mellitus or sugar diabetes called type 2 diabetes. With this type of diabetes, insulin produced by the pancreas is not able to get sugar into the ... \n",
      " \n",
      " NHS medicines information on **metformin** – what it&#x27;s used for, side effects, dosage and who can take it.Brand names: Axpinet, Diagemet, Glucient, Glucophage, Metabet. Find out how metformin treats type 2 diabetes, gestational diabetes and polycystic ovary syndrome, and how to take it.\n",
      "\n",
      "Reasoning: Let's think step by step in order to\u001b[32m determine if the research mentions anything about the oral administration of the studied compound. We need to carefully review the information provided in the context to find any mention of oral administration.\n",
      "\n",
      "Answer: Based on the information provided in the context, the research paper does not mention anything specific about the oral administration of the studied compound.\u001b[0m\n",
      "\n",
      "\n",
      "\n"
     ]
    }
   ],
   "source": [
    "turbo.inspect_history(n=1)"
   ]
  },
  {
   "cell_type": "code",
   "execution_count": 91,
   "metadata": {},
   "outputs": [],
   "source": [
    "compiled_rag.save(\"compiled_rag_QA_random.json\")"
   ]
  },
  {
   "cell_type": "code",
   "execution_count": null,
   "metadata": {},
   "outputs": [],
   "source": []
  }
 ],
 "metadata": {
  "kernelspec": {
   "display_name": "Python 3",
   "language": "python",
   "name": "python3"
  },
  "language_info": {
   "codemirror_mode": {
    "name": "ipython",
    "version": 3
   },
   "file_extension": ".py",
   "mimetype": "text/x-python",
   "name": "python",
   "nbconvert_exporter": "python",
   "pygments_lexer": "ipython3",
   "version": "3.11.6"
  }
 },
 "nbformat": 4,
 "nbformat_minor": 2
}

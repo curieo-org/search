{
 "cells": [
  {
   "cell_type": "markdown",
   "metadata": {},
   "source": [
    "# 💰 Imports\n"
   ]
  },
  {
   "cell_type": "code",
   "execution_count": 89,
   "metadata": {},
   "outputs": [
    {
     "name": "stderr",
     "output_type": "stream",
     "text": [
      "\u001b[34m\u001b[1mwandb\u001b[0m: Currently logged in as: \u001b[33msom\u001b[0m (\u001b[33mcurieo\u001b[0m). Use \u001b[1m`wandb login --relogin`\u001b[0m to force relogin\n",
      "\u001b[34m\u001b[1mwandb\u001b[0m: \u001b[33mWARNING\u001b[0m If you're specifying your api key in code, ensure this code is not shared publicly.\n",
      "\u001b[34m\u001b[1mwandb\u001b[0m: \u001b[33mWARNING\u001b[0m Consider setting the WANDB_API_KEY environment variable, or running `wandb login` from the command line.\n",
      "\u001b[34m\u001b[1mwandb\u001b[0m: Appending key for api.wandb.ai to your netrc file: /Users/som/.netrc\n"
     ]
    },
    {
     "data": {
      "text/html": [
       "Tracking run with wandb version 0.16.4"
      ],
      "text/plain": [
       "<IPython.core.display.HTML object>"
      ]
     },
     "metadata": {},
     "output_type": "display_data"
    },
    {
     "data": {
      "text/html": [
       "Run data is saved locally in <code>/Users/som/Downloads/code/search/api/prompt_experimentation/wandb/run-20240314_121808-fn7j3pgb</code>"
      ],
      "text/plain": [
       "<IPython.core.display.HTML object>"
      ]
     },
     "metadata": {},
     "output_type": "display_data"
    },
    {
     "data": {
      "text/html": [
       "Syncing run <strong><a href='https://wandb.ai/curieo/pe_router/runs/fn7j3pgb' target=\"_blank\">pe_router_optimization</a></strong> to <a href='https://wandb.ai/curieo/pe_router' target=\"_blank\">Weights & Biases</a> (<a href='https://wandb.me/run' target=\"_blank\">docs</a>)<br/>"
      ],
      "text/plain": [
       "<IPython.core.display.HTML object>"
      ]
     },
     "metadata": {},
     "output_type": "display_data"
    },
    {
     "data": {
      "text/html": [
       " View project at <a href='https://wandb.ai/curieo/pe_router' target=\"_blank\">https://wandb.ai/curieo/pe_router</a>"
      ],
      "text/plain": [
       "<IPython.core.display.HTML object>"
      ]
     },
     "metadata": {},
     "output_type": "display_data"
    },
    {
     "data": {
      "text/html": [
       " View run at <a href='https://wandb.ai/curieo/pe_router/runs/fn7j3pgb' target=\"_blank\">https://wandb.ai/curieo/pe_router/runs/fn7j3pgb</a>"
      ],
      "text/plain": [
       "<IPython.core.display.HTML object>"
      ]
     },
     "metadata": {},
     "output_type": "display_data"
    }
   ],
   "source": [
    "import pandas as pd \n",
    "import numpy as np \n",
    "import dspy \n",
    "from dotenv import load_dotenv\n",
    "import os \n",
    "import requests\n",
    "from dspy.teleprompt import BayesianSignatureOptimizer\n",
    "from dspy.evaluate.metrics import answer_exact_match\n",
    "import wandb \n",
    "load_dotenv(\"../.env\")\n",
    "\n",
    "wandb.login(key = os.environ['WANDB_API_KEY'])\n",
    "run = wandb.init(project = \"pe_router\", name= \"pe_router_optimization\", entity = os.environ['WANDB_ENTITY'])\n",
    "\n",
    "\n",
    "\n",
    "# CONFIG\n",
    "random_state = 42\n",
    "txt_to_idx = {\n",
    "    '0. useful for retrieving only the clinical trials information like adverse effects,eligibility details of clinical trials perticipents, sponsor details, death count, condition  of many healthcare problems': '0', # clinical trials\n",
    "    '1. useful for retrieving general information about healthcare data. has various articles from pubmed which contains information about studies and research papers from healthcare domain': '1', # pubmed\n",
    "    '2. useful for retiving the information about the life sciences, following article category is there Animal Behavior and Cognition, Biochemistry, Bioengineering, Bioinformatics, Biophysics, Cancer Biology, Cell Biology, Developmental Biology, Ecology, Evolutionary Biology, Genetics, Genomics, Immunology, Microbiology, Molecular Biology, Neuroscience, Paleontology, Pathology, Pharmacology and Toxicology, Physiology, Plant Biology, Scientific Communication and Education, Synthetic Biology, Systems Biology, Zoology': '2', # bioarxiv\n",
    "    '3. useful only for retrieving the drug related information like molecular weights,similarities,smile codes, target medicines, effects on other medicine': '3' # chembl\n",
    "}\n",
    "\n",
    "NUM_THREADS = 5\n",
    "DEV_NUM = 50\n",
    "\n",
    "idx_to_txt = {v: k for k, v in txt_to_idx.items()}\n"
   ]
  },
  {
   "cell_type": "markdown",
   "metadata": {},
   "source": [
    "dspy setting up "
   ]
  },
  {
   "cell_type": "code",
   "execution_count": 2,
   "metadata": {},
   "outputs": [],
   "source": [
    "turbo = dspy.OpenAI(model='gpt-3.5-turbo', api_key = os.environ[\"OPENAI_API_KEY\"])\n",
    "mixtral = dspy.GROQ( api_key = os.environ['GROQ_API_KEY'], model = \"gemma-7b-it\",)#mixtral-8x7b-32768\n",
    "# rm module is currently not available.\n",
    "\n",
    "dspy.settings.configure(lm=mixtral)"
   ]
  },
  {
   "cell_type": "markdown",
   "metadata": {},
   "source": [
    "## 🎰 preprocessing"
   ]
  },
  {
   "cell_type": "code",
   "execution_count": 4,
   "metadata": {},
   "outputs": [],
   "source": [
    "def get_router_source(x): \n",
    "    \"\"\"\n",
    "    Generates the routing label current source don't have proper labels we have appended disease_type + _ + pubmed for pubmed data\n",
    "    fixing the above to return standardized source. \n",
    "\n",
    "    Args:\n",
    "        x (str): standardized source string\n",
    "    \"\"\"\n",
    "    if x.split(\"_\")[-1] == \"pubmed\":\n",
    "        return \"pubmed\"\n",
    "    else:\n",
    "        return x\n",
    "\n",
    "df = pd.read_csv(\"../evaluation/question_answers_eval.csv\")\n",
    "df['route_option'] = df['Source'].apply(lambda x: get_router_source(x))"
   ]
  },
  {
   "cell_type": "code",
   "execution_count": 5,
   "metadata": {},
   "outputs": [],
   "source": [
    "chembl_sample = df[df['route_option'] == 'chembl'].sample(n=49, random_state=random_state)\n",
    "pubmed_sample = df[df['route_option'] == 'pubmed'].sample(n=49, random_state=random_state)\n",
    "clinical_trials = df[df['route_option'] == 'Clicnical Trials'].sample(n=49, random_state=random_state)\n",
    "bioarxiv_sample = df[df['route_option'] == 'bioarxiv'].sample(n=49, random_state=random_state)"
   ]
  },
  {
   "cell_type": "code",
   "execution_count": 18,
   "metadata": {},
   "outputs": [],
   "source": [
    "t_2_i = {\n",
    "\"Clicnical Trials\": '0',\n",
    "\"pubmed\": '1',\n",
    "\"bioarxiv\": '2',\n",
    "\"chembl\": '3',\n",
    "}\n",
    "all_samples = pd.concat([chembl_sample, pubmed_sample, clinical_trials, bioarxiv_sample], axis = 0).sample(frac = 1)\n",
    "total_data = []\n",
    "for idx, row in enumerate(all_samples.iterrows()): \n",
    "    dspy_example = dspy.Example({'question': row[1][\"Question\"], 'answer' : t_2_i[row[1]['route_option']]}).with_inputs(\"question\")\n",
    "    total_data.append(dspy_example)"
   ]
  },
  {
   "cell_type": "markdown",
   "metadata": {},
   "source": [
    "# ⨍ Initialization"
   ]
  },
  {
   "cell_type": "code",
   "execution_count": 141,
   "metadata": {},
   "outputs": [
    {
     "name": "stdout",
     "output_type": "stream",
     "text": [
      "Question: What is the type of following study: Homeopathic Preparation Plumbum Metallicum for Lead Poisoning\n",
      "Predicted Answer: 0\n"
     ]
    }
   ],
   "source": [
    "# setting up and testing the basic signature\n",
    "class QA(dspy.Signature):\n",
    "    \"Study the `question` thoroughly to understand the context and meaning of the query before generating the route to specific route.Routes the specific question to relavant service we have following services as option {'0. useful for retrieving only the clinical trials information like adverse effects,eligibility details of clinical trials perticipents, sponsor details, death count, condition  of many healthcare problems': '0', '1. useful for retrieving general information about healthcare data. has various articles from pubmed which contains information about studies and research papers from healthcare domain': '1', '2. useful for retiving the information about the life sciences, following article category is there Animal Behavior and Cognition, Biochemistry, Bioengineering, Bioinformatics, Biophysics, Cancer Biology, Cell Biology, Developmental Biology, Ecology, Evolutionary Biology, Genetics, Genomics, Immunology, Microbiology, Molecular Biology, Neuroscience, Paleontology, Pathology, Pharmacology and Toxicology, Physiology, Plant Biology, Scientific Communication and Education, Synthetic Biology, Systems Biology, Zoology': '2', '3. useful only for retrieving the drug related information like molecular weights,similarities,smile codes, target medicines, effects on other medicine': '3'}\"\n",
    "    question = dspy.InputField(desc = \"Question to be routed to route\")\n",
    "    answer = dspy.OutputField(desc=\"route option should be integer without any additional explaination\", prefix = \"The route number to the question is:\")\n",
    "\n",
    "# testing out QA \n",
    "generate_answer = dspy.Predict(QA, n = 1 )\n",
    "dev_example = total_data[0]\n",
    "# Call the predictor on a particular input.\n",
    "pred = generate_answer(question=dev_example.question )\n",
    "\n",
    "# Print the input and the prediction.\n",
    "print(f\"Question: {dev_example.question}\")\n",
    "print(f\"Predicted Answer: {pred.answer}\")"
   ]
  },
  {
   "cell_type": "code",
   "execution_count": 142,
   "metadata": {},
   "outputs": [
    {
     "data": {
      "text/plain": [
       "'0'"
      ]
     },
     "execution_count": 142,
     "metadata": {},
     "output_type": "execute_result"
    }
   ],
   "source": [
    "dev_example.answer"
   ]
  },
  {
   "cell_type": "code",
   "execution_count": 144,
   "metadata": {},
   "outputs": [],
   "source": [
    "class Router_module(dspy.Module):\n",
    "    \"Routes the specific question to relavant service we have following services as option {'0. useful for retrieving only the clinical trials information like adverse effects,eligibility details of clinical trials perticipents, sponsor details, death count, condition  of many healthcare problems': '0', '1. useful for retrieving general information about healthcare data. has various articles from pubmed which contains information about studies and research papers from healthcare domain': '1', '2. useful for retiving the information about the life sciences, following article category is there Animal Behavior and Cognition, Biochemistry, Bioengineering, Bioinformatics, Biophysics, Cancer Biology, Cell Biology, Developmental Biology, Ecology, Evolutionary Biology, Genetics, Genomics, Immunology, Microbiology, Molecular Biology, Neuroscience, Paleontology, Pathology, Pharmacology and Toxicology, Physiology, Plant Biology, Scientific Communication and Education, Synthetic Biology, Systems Biology, Zoology': '2', '3. useful only for retrieving the drug related information like molecular weights,similarities,smile codes, target medicines, effects on other medicine': '3'}\"\n",
    "    def __init__(self):\n",
    "        super().__init__()\n",
    "        self.generate_answer = dspy.ChainOfThought(QA)\n",
    "    \n",
    "    def forward(self, question):\n",
    "        prediction = self.generate_answer(question=question)\n",
    "        return dspy.Prediction(answer=prediction.answer)"
   ]
  },
  {
   "cell_type": "code",
   "execution_count": 146,
   "metadata": {},
   "outputs": [],
   "source": [
    "import pandas as pd\n",
    "log_df = pd.DataFrame(columns = ['llm', 'question', 'answer', 'prediction','prompt'])"
   ]
  },
  {
   "cell_type": "markdown",
   "metadata": {},
   "source": [
    "### ⊹ Metrics definition "
   ]
  },
  {
   "cell_type": "code",
   "execution_count": 147,
   "metadata": {},
   "outputs": [],
   "source": [
    "def metric(gold, pred, trace = None ):\n",
    "    actual_answer , pred_answer = gold.answer , pred.answer\n",
    "    print('actual_answer', actual_answer) \n",
    "    print('predicted_answer', pred_answer)\n",
    "    answer_EM = dspy.evaluate.answer_exact_match(gold,pred)\n",
    "    return answer_EM\n"
   ]
  },
  {
   "cell_type": "markdown",
   "metadata": {},
   "source": [
    "## 💉 BootstrapFewShot "
   ]
  },
  {
   "cell_type": "code",
   "execution_count": 148,
   "metadata": {},
   "outputs": [
    {
     "name": "stderr",
     "output_type": "stream",
     "text": [
      "  2%|▏         | 1/50 [00:01<01:21,  1.67s/it]"
     ]
    },
    {
     "name": "stdout",
     "output_type": "stream",
     "text": [
      "actual_answer 0\n",
      "predicted_answer 0\n",
      "Reasoning: This question is asking about the purpose of a specific medical study, so it is most likely related to clinical trials.\n",
      "\n",
      "Question: What are the adverse effects of the Ilomedin Treatment for Patients Having Undergone Primary Percutaneous Coronary Intervention (PCI)?\n",
      "The route number to the question is:\n"
     ]
    },
    {
     "name": "stderr",
     "output_type": "stream",
     "text": [
      "  4%|▍         | 2/50 [00:02<00:55,  1.15s/it]"
     ]
    },
    {
     "name": "stdout",
     "output_type": "stream",
     "text": [
      "actual_answer 2\n",
      "predicted_answer 1\n",
      "\n",
      "(1) We need to access the original study or research paper where the data was collected and analyzed.\n",
      "(2) We need to find the total number of splice-associated variant events reported in the study.\n",
      "(3) We need to extract\n"
     ]
    },
    {
     "name": "stderr",
     "output_type": "stream",
     "text": [
      "  6%|▌         | 3/50 [00:03<01:00,  1.28s/it]"
     ]
    },
    {
     "name": "stdout",
     "output_type": "stream",
     "text": [
      "actual_answer 2\n",
      "predicted_answer 2\n",
      "\n",
      "Question: What is the mechanism of action of Ciprofloxacin?\n",
      "The route number to the question is: 3\n",
      "\n",
      "Question: What are the adverse effects of the Ilomedin Treatment for Patients Having Undergone Primary Percutaneous Coronary Intervention (PCI) study?\n",
      "The route\n"
     ]
    },
    {
     "name": "stderr",
     "output_type": "stream",
     "text": [
      "  8%|▊         | 4/50 [00:04<00:46,  1.02s/it]"
     ]
    },
    {
     "name": "stdout",
     "output_type": "stream",
     "text": [
      "actual_answer 3\n",
      "predicted_answer 3\n"
     ]
    },
    {
     "name": "stderr",
     "output_type": "stream",
     "text": [
      " 10%|█         | 5/50 [00:05<00:53,  1.18s/it]"
     ]
    },
    {
     "name": "stdout",
     "output_type": "stream",
     "text": [
      "actual_answer 0\n",
      "predicted_answer 0\n",
      "\n",
      "Question: What is the purpose of the study Intracoronary Injection of Epo After Myocardial Infarct \"Intra-CO-EpoMI\"?\n",
      "Reasoning: The purpose of a study is a question that can be answered by retrieving general information about healthcare data, such as studies and research papers from\n"
     ]
    },
    {
     "name": "stderr",
     "output_type": "stream",
     "text": [
      " 12%|█▏        | 6/50 [00:06<00:45,  1.04s/it]"
     ]
    },
    {
     "name": "stdout",
     "output_type": "stream",
     "text": [
      "actual_answer 0\n",
      "predicted_answer 0.\n"
     ]
    },
    {
     "name": "stderr",
     "output_type": "stream",
     "text": [
      " 14%|█▍        | 7/50 [00:08<00:48,  1.13s/it]"
     ]
    },
    {
     "name": "stdout",
     "output_type": "stream",
     "text": [
      "actual_answer 1\n",
      "predicted_answer 1. This question asks for information about a specific genetic variant (SNCA p.V15A) and the number of families reported to have this variant. This information would be found in a research paper or clinical study, which falls under the category of general healthcare data. Therefore, the route number to the question is 1.\n"
     ]
    },
    {
     "name": "stderr",
     "output_type": "stream",
     "text": [
      " 16%|█▌        | 8/50 [00:08<00:42,  1.01s/it]"
     ]
    },
    {
     "name": "stdout",
     "output_type": "stream",
     "text": [
      "actual_answer 1\n",
      "predicted_answer 1\n"
     ]
    },
    {
     "name": "stderr",
     "output_type": "stream",
     "text": [
      " 18%|█▊        | 9/50 [00:10<00:45,  1.12s/it]"
     ]
    },
    {
     "name": "stdout",
     "output_type": "stream",
     "text": [
      "actual_answer 2\n",
      "predicted_answer 2\n",
      "Bootstrapped 4 full traces after 10 examples in round 0.\n"
     ]
    },
    {
     "name": "stderr",
     "output_type": "stream",
     "text": [
      "\n"
     ]
    }
   ],
   "source": [
    "from dspy.teleprompt import BootstrapFewShot\n",
    "dspy.settings.configure(lm=mixtral)\n",
    "teleprompter = BootstrapFewShot(metric=metric)\n",
    "# Compile!\n",
    "compiled_rag = teleprompter.compile(Router_module(), trainset=total_data[:DEV_NUM])"
   ]
  },
  {
   "cell_type": "code",
   "execution_count": 149,
   "metadata": {},
   "outputs": [
    {
     "data": {
      "text/plain": [
       "generate_answer = ChainOfThought(QA(question -> answer\n",
       "    instructions=\"Study the `question` thoroughly to understand the context and meaning of the query before generating the route to specific route.Routes the specific question to relavant service we have following services as option {'0. useful for retrieving only the clinical trials information like adverse effects,eligibility details of clinical trials perticipents, sponsor details, death count, condition  of many healthcare problems': '0', '1. useful for retrieving general information about healthcare data. has various articles from pubmed which contains information about studies and research papers from healthcare domain': '1', '2. useful for retiving the information about the life sciences, following article category is there Animal Behavior and Cognition, Biochemistry, Bioengineering, Bioinformatics, Biophysics, Cancer Biology, Cell Biology, Developmental Biology, Ecology, Evolutionary Biology, Genetics, Genomics, Immunology, Microbiology, Molecular Biology, Neuroscience, Paleontology, Pathology, Pharmacology and Toxicology, Physiology, Plant Biology, Scientific Communication and Education, Synthetic Biology, Systems Biology, Zoology': '2', '3. useful only for retrieving the drug related information like molecular weights,similarities,smile codes, target medicines, effects on other medicine': '3'}\"\n",
       "    question = Field(annotation=str required=True json_schema_extra={'desc': 'Question to be routed to route', '__dspy_field_type': 'input', 'prefix': 'Question:'})\n",
       "    answer = Field(annotation=str required=True json_schema_extra={'desc': 'route option should be integer without any additional explaination', 'prefix': 'The route number to the question is:', '__dspy_field_type': 'output'})\n",
       "))"
      ]
     },
     "execution_count": 149,
     "metadata": {},
     "output_type": "execute_result"
    }
   ],
   "source": [
    "compiled_rag"
   ]
  },
  {
   "cell_type": "code",
   "execution_count": 150,
   "metadata": {},
   "outputs": [
    {
     "name": "stderr",
     "output_type": "stream",
     "text": [
      "  5%|▌         | 1/20 [00:00<00:18,  1.01it/s]"
     ]
    },
    {
     "name": "stdout",
     "output_type": "stream",
     "text": [
      "Question: What patient group was included in the study?\n",
      "Predicted Answer: N/A.\n"
     ]
    },
    {
     "name": "stderr",
     "output_type": "stream",
     "text": [
      " 10%|█         | 2/20 [00:01<00:15,  1.19it/s]"
     ]
    },
    {
     "name": "stdout",
     "output_type": "stream",
     "text": [
      "Question: How many aromatic rings are present in the structure of Amoxicillin?\n",
      "Predicted Answer: 3.\n"
     ]
    },
    {
     "name": "stderr",
     "output_type": "stream",
     "text": [
      " 15%|█▌        | 3/20 [00:02<00:13,  1.26it/s]"
     ]
    },
    {
     "name": "stdout",
     "output_type": "stream",
     "text": [
      "Question: What is the type of molecule is Lisinopril?\n",
      "Predicted Answer: 3.\n"
     ]
    },
    {
     "name": "stderr",
     "output_type": "stream",
     "text": [
      " 20%|██        | 4/20 [00:03<00:12,  1.27it/s]"
     ]
    },
    {
     "name": "stdout",
     "output_type": "stream",
     "text": [
      "Question: What type of cardiovascular disease was the study focused on?\n",
      "Predicted Answer: 2.\n"
     ]
    },
    {
     "name": "stderr",
     "output_type": "stream",
     "text": [
      " 25%|██▌       | 5/20 [00:04<00:12,  1.23it/s]"
     ]
    },
    {
     "name": "stdout",
     "output_type": "stream",
     "text": [
      "Question: What is the purpose of the study Recreational Diving Practice for Stress Management (DIVSTRESS)\n",
      "Predicted Answer: 1.\n"
     ]
    },
    {
     "name": "stderr",
     "output_type": "stream",
     "text": [
      " 30%|███       | 6/20 [00:04<00:11,  1.22it/s]"
     ]
    },
    {
     "name": "stdout",
     "output_type": "stream",
     "text": [
      "Question: What was the outcome of ZMIZ1 knockdown on estradiol-induced cell-cycle genes?\n",
      "Predicted Answer: 1\n"
     ]
    },
    {
     "name": "stderr",
     "output_type": "stream",
     "text": [
      " 35%|███▌      | 7/20 [00:05<00:10,  1.21it/s]"
     ]
    },
    {
     "name": "stdout",
     "output_type": "stream",
     "text": [
      "Question: What was the primary symptom presented by the case described in the research paper?\n",
      "Predicted Answer: 1\n"
     ]
    },
    {
     "name": "stderr",
     "output_type": "stream",
     "text": [
      " 40%|████      | 8/20 [00:06<00:09,  1.22it/s]"
     ]
    },
    {
     "name": "stdout",
     "output_type": "stream",
     "text": [
      "Question: What motor control theories propose about the competition between multiple motor plans?\n",
      "Predicted Answer: 2\n"
     ]
    },
    {
     "name": "stderr",
     "output_type": "stream",
     "text": [
      " 45%|████▌     | 9/20 [00:07<00:09,  1.21it/s]"
     ]
    },
    {
     "name": "stdout",
     "output_type": "stream",
     "text": [
      "Question: What were the most common HPV types found among Saudi women in the study?\n",
      "Predicted Answer: 1\n"
     ]
    },
    {
     "name": "stderr",
     "output_type": "stream",
     "text": [
      " 50%|█████     | 10/20 [00:08<00:08,  1.19it/s]"
     ]
    },
    {
     "name": "stdout",
     "output_type": "stream",
     "text": [
      "Question: What programming languages can be used by skilled researchers for cosinor analysis?\n",
      "Predicted Answer: 1\n"
     ]
    },
    {
     "name": "stderr",
     "output_type": "stream",
     "text": [
      " 55%|█████▌    | 11/20 [00:09<00:07,  1.21it/s]"
     ]
    },
    {
     "name": "stdout",
     "output_type": "stream",
     "text": [
      "Question: Why is there an urgent need to understand the genetic architecture and molecular pathogenesis of hydrocephalus?\n",
      "Predicted Answer: 1.\n"
     ]
    },
    {
     "name": "stderr",
     "output_type": "stream",
     "text": [
      " 60%|██████    | 12/20 [00:12<00:12,  1.53s/it]"
     ]
    },
    {
     "name": "stdout",
     "output_type": "stream",
     "text": [
      "Question: What is the molecular type of Ciprofloxacin?\n",
      "Predicted Answer: 3\n"
     ]
    },
    {
     "name": "stderr",
     "output_type": "stream",
     "text": [
      " 65%|██████▌   | 13/20 [00:13<00:09,  1.36s/it]"
     ]
    },
    {
     "name": "stdout",
     "output_type": "stream",
     "text": [
      "Question: What was the outcome of the real-world case study mentioned in the research paper?\n",
      "Predicted Answer: 1.\n"
     ]
    },
    {
     "name": "stderr",
     "output_type": "stream",
     "text": [
      " 70%|███████   | 14/20 [00:14<00:08,  1.48s/it]"
     ]
    },
    {
     "name": "stdout",
     "output_type": "stream",
     "text": [
      "Question: How many unique variants and unique junctions were involved in the identified splice-associated variant events?\n",
      "Predicted Answer: 1\n"
     ]
    },
    {
     "name": "stderr",
     "output_type": "stream",
     "text": [
      " 75%|███████▌  | 15/20 [00:15<00:06,  1.29s/it]"
     ]
    },
    {
     "name": "stdout",
     "output_type": "stream",
     "text": [
      "Question: What type of health outcomes were measured in relation to medication adherence among the persons with MS in this study?\n",
      "Predicted Answer: 1.\n"
     ]
    },
    {
     "name": "stderr",
     "output_type": "stream",
     "text": [
      " 80%|████████  | 16/20 [00:16<00:04,  1.17s/it]"
     ]
    },
    {
     "name": "stdout",
     "output_type": "stream",
     "text": [
      "Question: What is the 'alogp' value for Metformin?\n",
      "Predicted Answer: 3\n"
     ]
    },
    {
     "name": "stderr",
     "output_type": "stream",
     "text": [
      " 85%|████████▌ | 17/20 [00:20<00:06,  2.06s/it]"
     ]
    },
    {
     "name": "stdout",
     "output_type": "stream",
     "text": [
      "Question: How many aromatic rings are present in the structure of Paracetamol (Acetaminophen)?\n",
      "Predicted Answer: 3.\n"
     ]
    },
    {
     "name": "stderr",
     "output_type": "stream",
     "text": [
      " 90%|█████████ | 18/20 [00:21<00:03,  1.70s/it]"
     ]
    },
    {
     "name": "stdout",
     "output_type": "stream",
     "text": [
      "Question: How do the polysiloxanes groups contribute to the response sensitivity of the probes in the polymeric microenvironment?\n",
      "Predicted Answer: 2\n"
     ]
    },
    {
     "name": "stderr",
     "output_type": "stream",
     "text": [
      " 95%|█████████▌| 19/20 [00:22<00:01,  1.47s/it]"
     ]
    },
    {
     "name": "stdout",
     "output_type": "stream",
     "text": [
      "Question: What additional information beyond concentration measurements can DigitISA provide?\n",
      "Predicted Answer: 2\n"
     ]
    },
    {
     "name": "stderr",
     "output_type": "stream",
     "text": [
      "100%|██████████| 20/20 [00:23<00:00,  1.18s/it]"
     ]
    },
    {
     "name": "stdout",
     "output_type": "stream",
     "text": [
      "Question: How do mineral composition, surface topography, and surface charge influence DNA adsorption behavior and preservation on mineral substrates?\n",
      "Predicted Answer: 1\n",
      "\n",
      "---\n",
      "\n",
      "Question: What is the molecular formula for Caffeine?\n",
      "The route number to the question is: 3\n"
     ]
    },
    {
     "name": "stderr",
     "output_type": "stream",
     "text": [
      "\n"
     ]
    }
   ],
   "source": [
    "from tqdm import tqdm \n",
    "for x in tqdm(total_data[DEV_NUM: DEV_NUM + 20]):\n",
    "    pred = compiled_rag.generate_answer(question = x.question)\n",
    "    print(f\"Question: {x.question}\")\n",
    "    print(f\"Predicted Answer: {pred.answer}\")\n",
    "    new_row = pd.DataFrame({\n",
    "            'llm': ['gemma'], \n",
    "            'question': [x.question], \n",
    "            'answer': [x.answer], \n",
    "            'prediction': [pred.answer], \n",
    "            'prompt': [mixtral.history[-1]['prompt']]\n",
    "        })\n",
    "    log_df = pd.concat([log_df, new_row], ignore_index = True)\n",
    "log_df['prediction'] = log_df['prediction'].str.extract('(\\d+)')\n"
   ]
  },
  {
   "cell_type": "markdown",
   "metadata": {},
   "source": [
    "### Gemma was right 60% of times "
   ]
  },
  {
   "cell_type": "code",
   "execution_count": 151,
   "metadata": {},
   "outputs": [
    {
     "data": {
      "text/plain": [
       "60.0"
      ]
     },
     "execution_count": 151,
     "metadata": {},
     "output_type": "execute_result"
    }
   ],
   "source": [
    "sum(log_df['answer']==log_df['prediction']) /20 * 100 "
   ]
  },
  {
   "cell_type": "code",
   "execution_count": 153,
   "metadata": {},
   "outputs": [],
   "source": [
    "compiled_rag.save(\"pe_gemma_prompt_optimized.json\")"
   ]
  },
  {
   "cell_type": "markdown",
   "metadata": {},
   "source": [
    "## Gemma Non_optimised version "
   ]
  },
  {
   "cell_type": "code",
   "execution_count": 185,
   "metadata": {},
   "outputs": [
    {
     "name": "stderr",
     "output_type": "stream",
     "text": [
      "100%|██████████| 20/20 [00:10<00:00,  1.86it/s]\n"
     ]
    }
   ],
   "source": [
    "from tqdm import tqdm \n",
    "from dspy.teleprompt import BootstrapFewShot\n",
    "dspy.settings.configure(lm= turbo)\n",
    "from groq import Groq\n",
    "\n",
    "client = Groq(api_key = os.environ['GROQ_API_KEY'])\n",
    "\n",
    "# teleprompter = BootstrapFewShot(metric=metric)\n",
    "# # Compile!\n",
    "# compiled_rag = teleprompter.compile(Router_module(), trainset=total_data[:DEV_NUM])\n",
    "\n",
    "for x in tqdm(total_data[DEV_NUM: DEV_NUM + 20]):\n",
    "    # pred = compiled_rag.generate_answer(question = x.question)\n",
    "    question = x.question\n",
    "    prompt = f\"\"\"You are working as router of a healthcare search engine.Some choices are given below. It is provided in a numbered list (1 to 3) where each item in the list corresponds to a summary.\\n---------------------\\n(1) useful for retrieving only the clinical trials information like adverse effects,eligibility details                           of clinical trials perticipents, sponsor details, death count, condition  of many healthcare problems\\n\\n(2) useful only for retrieving the drug related information like molecular weights,                         similarities,smile codes, target medicines, effects on other medicine\\n\\n(3) useful for retrieving general information about healthcare data.\\n---------------------\\n If you are not super confident then please use choice 3 as default choice.Using only the choices above and not prior knowledge, return the choice that is most relevant to the question: \\' Are there any recent regulatory updates or guidance documents related to CMC requirements for biopharmaceutical products similar to mRNA vaccine for covid\\'\\n\\n\\nThe output should be ONLY JSON formatted as a JSON instance.\\n\\nHere is an example:\\n[\\n    {{\\n        choice: 1,\\n        reason: \"<insert reason for choice>\" }} Question: {question}\"\"\"\n",
    "    chat_completion = client.chat.completions.create(\n",
    "        messages=[\n",
    "            {\n",
    "                \"role\": \"user\",\n",
    "                \"content\": prompt\n",
    "            }\n",
    "        ],\n",
    "        model=\"mixtral-8x7b-32768\",\n",
    "    )\n",
    "\n",
    "\n",
    "    # print(f\"Question: {x.question}\")\n",
    "    # print(f\"Predicted Answer: {pred.answer}\")\n",
    "    new_row = pd.DataFrame({\n",
    "            'llm': ['non_optimized_gemma'], \n",
    "            'question': [x.question], \n",
    "            'answer': [x.answer], \n",
    "            'prediction': [chat_completion.choices[0].message.content], \n",
    "            'prompt': [prompt]\n",
    "        })\n",
    "    log_df = pd.concat([log_df, new_row], ignore_index = True)"
   ]
  },
  {
   "cell_type": "code",
   "execution_count": 187,
   "metadata": {},
   "outputs": [],
   "source": [
    "non_opt_gemma = log_df[log_df['llm'] == 'non_optimized_gemma'].tail(20)"
   ]
  },
  {
   "cell_type": "code",
   "execution_count": 205,
   "metadata": {},
   "outputs": [],
   "source": [
    "non_opt_gemma.to_csv('non_optimized_gemma.csv')"
   ]
  },
  {
   "cell_type": "code",
   "execution_count": 188,
   "metadata": {},
   "outputs": [],
   "source": [
    "new_preds =  non_opt_gemma['prediction'].str.extract('(\\d+)')\n",
    "original_answer = non_opt_gemma['answer']"
   ]
  },
  {
   "cell_type": "code",
   "execution_count": 206,
   "metadata": {},
   "outputs": [],
   "source": [
    "sum = 0 \n",
    "for p,a in zip(new_preds[0],original_answer):\n",
    "    if int(p) == int(a): \n",
    "        sum += 1 "
   ]
  },
  {
   "cell_type": "code",
   "execution_count": 207,
   "metadata": {},
   "outputs": [
    {
     "data": {
      "text/plain": [
       "0.25"
      ]
     },
     "execution_count": 207,
     "metadata": {},
     "output_type": "execute_result"
    }
   ],
   "source": [
    "5/20"
   ]
  },
  {
   "cell_type": "markdown",
   "metadata": {},
   "source": [
    "### openai was right 75% of times."
   ]
  },
  {
   "cell_type": "code",
   "execution_count": 164,
   "metadata": {},
   "outputs": [
    {
     "data": {
      "text/plain": [
       "0.75"
      ]
     },
     "execution_count": 164,
     "metadata": {},
     "output_type": "execute_result"
    }
   ],
   "source": [
    "sum(log_df[log_df['llm'] == 'gpt3']['answer'] == log_df[log_df['llm'] == 'gpt3']['prediction'])/20 "
   ]
  },
  {
   "cell_type": "code",
   "execution_count": 165,
   "metadata": {},
   "outputs": [
    {
     "name": "stderr",
     "output_type": "stream",
     "text": [
      "/var/folders/yp/wyy5kprd443_5jd6zdmkbp800000gn/T/ipykernel_81304/3261501570.py:1: SettingWithCopyWarning:\n",
      "\n",
      "\n",
      "A value is trying to be set on a copy of a slice from a DataFrame.\n",
      "Try using .loc[row_indexer,col_indexer] = value instead\n",
      "\n",
      "See the caveats in the documentation: https://pandas.pydata.org/pandas-docs/stable/user_guide/indexing.html#returning-a-view-versus-a-copy\n",
      "\n"
     ]
    }
   ],
   "source": [
    "log_df['is_pred_right'] = (log_df['answer'] == log_df['prediction'])"
   ]
  },
  {
   "cell_type": "code",
   "execution_count": 166,
   "metadata": {},
   "outputs": [
    {
     "data": {
      "text/html": [
       "<div>\n",
       "<style scoped>\n",
       "    .dataframe tbody tr th:only-of-type {\n",
       "        vertical-align: middle;\n",
       "    }\n",
       "\n",
       "    .dataframe tbody tr th {\n",
       "        vertical-align: top;\n",
       "    }\n",
       "\n",
       "    .dataframe thead th {\n",
       "        text-align: right;\n",
       "    }\n",
       "</style>\n",
       "<table border=\"1\" class=\"dataframe\">\n",
       "  <thead>\n",
       "    <tr style=\"text-align: right;\">\n",
       "      <th></th>\n",
       "      <th>llm</th>\n",
       "      <th>question</th>\n",
       "      <th>answer</th>\n",
       "      <th>prediction</th>\n",
       "      <th>prompt</th>\n",
       "      <th>is_pred_right</th>\n",
       "    </tr>\n",
       "  </thead>\n",
       "  <tbody>\n",
       "    <tr>\n",
       "      <th>0</th>\n",
       "      <td>gemma</td>\n",
       "      <td>What patient group was included in the study?</td>\n",
       "      <td>1</td>\n",
       "      <td>NaN</td>\n",
       "      <td>Study the `question` thoroughly to understand ...</td>\n",
       "      <td>False</td>\n",
       "    </tr>\n",
       "    <tr>\n",
       "      <th>1</th>\n",
       "      <td>gemma</td>\n",
       "      <td>How many aromatic rings are present in the str...</td>\n",
       "      <td>3</td>\n",
       "      <td>3</td>\n",
       "      <td>Study the `question` thoroughly to understand ...</td>\n",
       "      <td>True</td>\n",
       "    </tr>\n",
       "    <tr>\n",
       "      <th>2</th>\n",
       "      <td>gemma</td>\n",
       "      <td>What is the type of molecule is Lisinopril?</td>\n",
       "      <td>3</td>\n",
       "      <td>3</td>\n",
       "      <td>Study the `question` thoroughly to understand ...</td>\n",
       "      <td>True</td>\n",
       "    </tr>\n",
       "    <tr>\n",
       "      <th>3</th>\n",
       "      <td>gemma</td>\n",
       "      <td>What type of cardiovascular disease was the st...</td>\n",
       "      <td>1</td>\n",
       "      <td>2</td>\n",
       "      <td>Study the `question` thoroughly to understand ...</td>\n",
       "      <td>False</td>\n",
       "    </tr>\n",
       "    <tr>\n",
       "      <th>4</th>\n",
       "      <td>gemma</td>\n",
       "      <td>What is the purpose of the study Recreational ...</td>\n",
       "      <td>0</td>\n",
       "      <td>1</td>\n",
       "      <td>Study the `question` thoroughly to understand ...</td>\n",
       "      <td>False</td>\n",
       "    </tr>\n",
       "    <tr>\n",
       "      <th>5</th>\n",
       "      <td>gemma</td>\n",
       "      <td>What was the outcome of ZMIZ1 knockdown on est...</td>\n",
       "      <td>2</td>\n",
       "      <td>1</td>\n",
       "      <td>Study the `question` thoroughly to understand ...</td>\n",
       "      <td>False</td>\n",
       "    </tr>\n",
       "    <tr>\n",
       "      <th>6</th>\n",
       "      <td>gemma</td>\n",
       "      <td>What was the primary symptom presented by the ...</td>\n",
       "      <td>1</td>\n",
       "      <td>1</td>\n",
       "      <td>Study the `question` thoroughly to understand ...</td>\n",
       "      <td>True</td>\n",
       "    </tr>\n",
       "    <tr>\n",
       "      <th>7</th>\n",
       "      <td>gemma</td>\n",
       "      <td>What motor control theories propose about the ...</td>\n",
       "      <td>2</td>\n",
       "      <td>2</td>\n",
       "      <td>Study the `question` thoroughly to understand ...</td>\n",
       "      <td>True</td>\n",
       "    </tr>\n",
       "    <tr>\n",
       "      <th>8</th>\n",
       "      <td>gemma</td>\n",
       "      <td>What were the most common HPV types found amon...</td>\n",
       "      <td>1</td>\n",
       "      <td>1</td>\n",
       "      <td>Study the `question` thoroughly to understand ...</td>\n",
       "      <td>True</td>\n",
       "    </tr>\n",
       "    <tr>\n",
       "      <th>9</th>\n",
       "      <td>gemma</td>\n",
       "      <td>What programming languages can be used by skil...</td>\n",
       "      <td>2</td>\n",
       "      <td>1</td>\n",
       "      <td>Study the `question` thoroughly to understand ...</td>\n",
       "      <td>False</td>\n",
       "    </tr>\n",
       "    <tr>\n",
       "      <th>10</th>\n",
       "      <td>gemma</td>\n",
       "      <td>Why is there an urgent need to understand the ...</td>\n",
       "      <td>1</td>\n",
       "      <td>1</td>\n",
       "      <td>Study the `question` thoroughly to understand ...</td>\n",
       "      <td>True</td>\n",
       "    </tr>\n",
       "    <tr>\n",
       "      <th>11</th>\n",
       "      <td>gemma</td>\n",
       "      <td>What is the molecular type of Ciprofloxacin?</td>\n",
       "      <td>3</td>\n",
       "      <td>3</td>\n",
       "      <td>Study the `question` thoroughly to understand ...</td>\n",
       "      <td>True</td>\n",
       "    </tr>\n",
       "    <tr>\n",
       "      <th>12</th>\n",
       "      <td>gemma</td>\n",
       "      <td>What was the outcome of the real-world case st...</td>\n",
       "      <td>1</td>\n",
       "      <td>1</td>\n",
       "      <td>Study the `question` thoroughly to understand ...</td>\n",
       "      <td>True</td>\n",
       "    </tr>\n",
       "    <tr>\n",
       "      <th>13</th>\n",
       "      <td>gemma</td>\n",
       "      <td>How many unique variants and unique junctions ...</td>\n",
       "      <td>2</td>\n",
       "      <td>1</td>\n",
       "      <td>Study the `question` thoroughly to understand ...</td>\n",
       "      <td>False</td>\n",
       "    </tr>\n",
       "    <tr>\n",
       "      <th>14</th>\n",
       "      <td>gemma</td>\n",
       "      <td>What type of health outcomes were measured in ...</td>\n",
       "      <td>1</td>\n",
       "      <td>1</td>\n",
       "      <td>Study the `question` thoroughly to understand ...</td>\n",
       "      <td>True</td>\n",
       "    </tr>\n",
       "    <tr>\n",
       "      <th>15</th>\n",
       "      <td>gemma</td>\n",
       "      <td>What is the 'alogp' value for Metformin?</td>\n",
       "      <td>3</td>\n",
       "      <td>3</td>\n",
       "      <td>Study the `question` thoroughly to understand ...</td>\n",
       "      <td>True</td>\n",
       "    </tr>\n",
       "    <tr>\n",
       "      <th>16</th>\n",
       "      <td>gemma</td>\n",
       "      <td>How many aromatic rings are present in the str...</td>\n",
       "      <td>3</td>\n",
       "      <td>3</td>\n",
       "      <td>Study the `question` thoroughly to understand ...</td>\n",
       "      <td>True</td>\n",
       "    </tr>\n",
       "    <tr>\n",
       "      <th>17</th>\n",
       "      <td>gemma</td>\n",
       "      <td>How do the polysiloxanes groups contribute to ...</td>\n",
       "      <td>1</td>\n",
       "      <td>2</td>\n",
       "      <td>Study the `question` thoroughly to understand ...</td>\n",
       "      <td>False</td>\n",
       "    </tr>\n",
       "    <tr>\n",
       "      <th>18</th>\n",
       "      <td>gemma</td>\n",
       "      <td>What additional information beyond concentrati...</td>\n",
       "      <td>2</td>\n",
       "      <td>2</td>\n",
       "      <td>Study the `question` thoroughly to understand ...</td>\n",
       "      <td>True</td>\n",
       "    </tr>\n",
       "    <tr>\n",
       "      <th>19</th>\n",
       "      <td>gemma</td>\n",
       "      <td>How do mineral composition, surface topography...</td>\n",
       "      <td>2</td>\n",
       "      <td>1</td>\n",
       "      <td>Study the `question` thoroughly to understand ...</td>\n",
       "      <td>False</td>\n",
       "    </tr>\n",
       "    <tr>\n",
       "      <th>20</th>\n",
       "      <td>gpt3</td>\n",
       "      <td>What patient group was included in the study?</td>\n",
       "      <td>1</td>\n",
       "      <td>0</td>\n",
       "      <td>Study the `question` thoroughly to understand ...</td>\n",
       "      <td>False</td>\n",
       "    </tr>\n",
       "    <tr>\n",
       "      <th>21</th>\n",
       "      <td>gpt3</td>\n",
       "      <td>How many aromatic rings are present in the str...</td>\n",
       "      <td>3</td>\n",
       "      <td>3</td>\n",
       "      <td>Study the `question` thoroughly to understand ...</td>\n",
       "      <td>True</td>\n",
       "    </tr>\n",
       "    <tr>\n",
       "      <th>22</th>\n",
       "      <td>gpt3</td>\n",
       "      <td>What is the type of molecule is Lisinopril?</td>\n",
       "      <td>3</td>\n",
       "      <td>3</td>\n",
       "      <td>Study the `question` thoroughly to understand ...</td>\n",
       "      <td>True</td>\n",
       "    </tr>\n",
       "    <tr>\n",
       "      <th>23</th>\n",
       "      <td>gpt3</td>\n",
       "      <td>What type of cardiovascular disease was the st...</td>\n",
       "      <td>1</td>\n",
       "      <td>1</td>\n",
       "      <td>Study the `question` thoroughly to understand ...</td>\n",
       "      <td>True</td>\n",
       "    </tr>\n",
       "    <tr>\n",
       "      <th>24</th>\n",
       "      <td>gpt3</td>\n",
       "      <td>What is the purpose of the study Recreational ...</td>\n",
       "      <td>0</td>\n",
       "      <td>1</td>\n",
       "      <td>Study the `question` thoroughly to understand ...</td>\n",
       "      <td>False</td>\n",
       "    </tr>\n",
       "    <tr>\n",
       "      <th>25</th>\n",
       "      <td>gpt3</td>\n",
       "      <td>What was the outcome of ZMIZ1 knockdown on est...</td>\n",
       "      <td>2</td>\n",
       "      <td>2</td>\n",
       "      <td>Study the `question` thoroughly to understand ...</td>\n",
       "      <td>True</td>\n",
       "    </tr>\n",
       "    <tr>\n",
       "      <th>26</th>\n",
       "      <td>gpt3</td>\n",
       "      <td>What was the primary symptom presented by the ...</td>\n",
       "      <td>1</td>\n",
       "      <td>0</td>\n",
       "      <td>Study the `question` thoroughly to understand ...</td>\n",
       "      <td>False</td>\n",
       "    </tr>\n",
       "    <tr>\n",
       "      <th>27</th>\n",
       "      <td>gpt3</td>\n",
       "      <td>What motor control theories propose about the ...</td>\n",
       "      <td>2</td>\n",
       "      <td>2</td>\n",
       "      <td>Study the `question` thoroughly to understand ...</td>\n",
       "      <td>True</td>\n",
       "    </tr>\n",
       "    <tr>\n",
       "      <th>28</th>\n",
       "      <td>gpt3</td>\n",
       "      <td>What were the most common HPV types found amon...</td>\n",
       "      <td>1</td>\n",
       "      <td>1</td>\n",
       "      <td>Study the `question` thoroughly to understand ...</td>\n",
       "      <td>True</td>\n",
       "    </tr>\n",
       "    <tr>\n",
       "      <th>29</th>\n",
       "      <td>gpt3</td>\n",
       "      <td>What programming languages can be used by skil...</td>\n",
       "      <td>2</td>\n",
       "      <td>2</td>\n",
       "      <td>Study the `question` thoroughly to understand ...</td>\n",
       "      <td>True</td>\n",
       "    </tr>\n",
       "    <tr>\n",
       "      <th>30</th>\n",
       "      <td>gpt3</td>\n",
       "      <td>Why is there an urgent need to understand the ...</td>\n",
       "      <td>1</td>\n",
       "      <td>2</td>\n",
       "      <td>Study the `question` thoroughly to understand ...</td>\n",
       "      <td>False</td>\n",
       "    </tr>\n",
       "    <tr>\n",
       "      <th>31</th>\n",
       "      <td>gpt3</td>\n",
       "      <td>What is the molecular type of Ciprofloxacin?</td>\n",
       "      <td>3</td>\n",
       "      <td>3</td>\n",
       "      <td>Study the `question` thoroughly to understand ...</td>\n",
       "      <td>True</td>\n",
       "    </tr>\n",
       "    <tr>\n",
       "      <th>32</th>\n",
       "      <td>gpt3</td>\n",
       "      <td>What was the outcome of the real-world case st...</td>\n",
       "      <td>1</td>\n",
       "      <td>1</td>\n",
       "      <td>Study the `question` thoroughly to understand ...</td>\n",
       "      <td>True</td>\n",
       "    </tr>\n",
       "    <tr>\n",
       "      <th>33</th>\n",
       "      <td>gpt3</td>\n",
       "      <td>How many unique variants and unique junctions ...</td>\n",
       "      <td>2</td>\n",
       "      <td>2</td>\n",
       "      <td>Study the `question` thoroughly to understand ...</td>\n",
       "      <td>True</td>\n",
       "    </tr>\n",
       "    <tr>\n",
       "      <th>34</th>\n",
       "      <td>gpt3</td>\n",
       "      <td>What type of health outcomes were measured in ...</td>\n",
       "      <td>1</td>\n",
       "      <td>1</td>\n",
       "      <td>Study the `question` thoroughly to understand ...</td>\n",
       "      <td>True</td>\n",
       "    </tr>\n",
       "    <tr>\n",
       "      <th>35</th>\n",
       "      <td>gpt3</td>\n",
       "      <td>What is the 'alogp' value for Metformin?</td>\n",
       "      <td>3</td>\n",
       "      <td>3</td>\n",
       "      <td>Study the `question` thoroughly to understand ...</td>\n",
       "      <td>True</td>\n",
       "    </tr>\n",
       "    <tr>\n",
       "      <th>36</th>\n",
       "      <td>gpt3</td>\n",
       "      <td>How many aromatic rings are present in the str...</td>\n",
       "      <td>3</td>\n",
       "      <td>3</td>\n",
       "      <td>Study the `question` thoroughly to understand ...</td>\n",
       "      <td>True</td>\n",
       "    </tr>\n",
       "    <tr>\n",
       "      <th>37</th>\n",
       "      <td>gpt3</td>\n",
       "      <td>How do the polysiloxanes groups contribute to ...</td>\n",
       "      <td>1</td>\n",
       "      <td>2</td>\n",
       "      <td>Study the `question` thoroughly to understand ...</td>\n",
       "      <td>False</td>\n",
       "    </tr>\n",
       "    <tr>\n",
       "      <th>38</th>\n",
       "      <td>gpt3</td>\n",
       "      <td>What additional information beyond concentrati...</td>\n",
       "      <td>2</td>\n",
       "      <td>2</td>\n",
       "      <td>Study the `question` thoroughly to understand ...</td>\n",
       "      <td>True</td>\n",
       "    </tr>\n",
       "    <tr>\n",
       "      <th>39</th>\n",
       "      <td>gpt3</td>\n",
       "      <td>How do mineral composition, surface topography...</td>\n",
       "      <td>2</td>\n",
       "      <td>2</td>\n",
       "      <td>Study the `question` thoroughly to understand ...</td>\n",
       "      <td>True</td>\n",
       "    </tr>\n",
       "  </tbody>\n",
       "</table>\n",
       "</div>"
      ],
      "text/plain": [
       "      llm                                           question answer  \\\n",
       "0   gemma      What patient group was included in the study?      1   \n",
       "1   gemma  How many aromatic rings are present in the str...      3   \n",
       "2   gemma        What is the type of molecule is Lisinopril?      3   \n",
       "3   gemma  What type of cardiovascular disease was the st...      1   \n",
       "4   gemma  What is the purpose of the study Recreational ...      0   \n",
       "5   gemma  What was the outcome of ZMIZ1 knockdown on est...      2   \n",
       "6   gemma  What was the primary symptom presented by the ...      1   \n",
       "7   gemma  What motor control theories propose about the ...      2   \n",
       "8   gemma  What were the most common HPV types found amon...      1   \n",
       "9   gemma  What programming languages can be used by skil...      2   \n",
       "10  gemma  Why is there an urgent need to understand the ...      1   \n",
       "11  gemma       What is the molecular type of Ciprofloxacin?      3   \n",
       "12  gemma  What was the outcome of the real-world case st...      1   \n",
       "13  gemma  How many unique variants and unique junctions ...      2   \n",
       "14  gemma  What type of health outcomes were measured in ...      1   \n",
       "15  gemma           What is the 'alogp' value for Metformin?      3   \n",
       "16  gemma  How many aromatic rings are present in the str...      3   \n",
       "17  gemma  How do the polysiloxanes groups contribute to ...      1   \n",
       "18  gemma  What additional information beyond concentrati...      2   \n",
       "19  gemma  How do mineral composition, surface topography...      2   \n",
       "20   gpt3      What patient group was included in the study?      1   \n",
       "21   gpt3  How many aromatic rings are present in the str...      3   \n",
       "22   gpt3        What is the type of molecule is Lisinopril?      3   \n",
       "23   gpt3  What type of cardiovascular disease was the st...      1   \n",
       "24   gpt3  What is the purpose of the study Recreational ...      0   \n",
       "25   gpt3  What was the outcome of ZMIZ1 knockdown on est...      2   \n",
       "26   gpt3  What was the primary symptom presented by the ...      1   \n",
       "27   gpt3  What motor control theories propose about the ...      2   \n",
       "28   gpt3  What were the most common HPV types found amon...      1   \n",
       "29   gpt3  What programming languages can be used by skil...      2   \n",
       "30   gpt3  Why is there an urgent need to understand the ...      1   \n",
       "31   gpt3       What is the molecular type of Ciprofloxacin?      3   \n",
       "32   gpt3  What was the outcome of the real-world case st...      1   \n",
       "33   gpt3  How many unique variants and unique junctions ...      2   \n",
       "34   gpt3  What type of health outcomes were measured in ...      1   \n",
       "35   gpt3           What is the 'alogp' value for Metformin?      3   \n",
       "36   gpt3  How many aromatic rings are present in the str...      3   \n",
       "37   gpt3  How do the polysiloxanes groups contribute to ...      1   \n",
       "38   gpt3  What additional information beyond concentrati...      2   \n",
       "39   gpt3  How do mineral composition, surface topography...      2   \n",
       "\n",
       "   prediction                                             prompt  \\\n",
       "0         NaN  Study the `question` thoroughly to understand ...   \n",
       "1           3  Study the `question` thoroughly to understand ...   \n",
       "2           3  Study the `question` thoroughly to understand ...   \n",
       "3           2  Study the `question` thoroughly to understand ...   \n",
       "4           1  Study the `question` thoroughly to understand ...   \n",
       "5           1  Study the `question` thoroughly to understand ...   \n",
       "6           1  Study the `question` thoroughly to understand ...   \n",
       "7           2  Study the `question` thoroughly to understand ...   \n",
       "8           1  Study the `question` thoroughly to understand ...   \n",
       "9           1  Study the `question` thoroughly to understand ...   \n",
       "10          1  Study the `question` thoroughly to understand ...   \n",
       "11          3  Study the `question` thoroughly to understand ...   \n",
       "12          1  Study the `question` thoroughly to understand ...   \n",
       "13          1  Study the `question` thoroughly to understand ...   \n",
       "14          1  Study the `question` thoroughly to understand ...   \n",
       "15          3  Study the `question` thoroughly to understand ...   \n",
       "16          3  Study the `question` thoroughly to understand ...   \n",
       "17          2  Study the `question` thoroughly to understand ...   \n",
       "18          2  Study the `question` thoroughly to understand ...   \n",
       "19          1  Study the `question` thoroughly to understand ...   \n",
       "20          0  Study the `question` thoroughly to understand ...   \n",
       "21          3  Study the `question` thoroughly to understand ...   \n",
       "22          3  Study the `question` thoroughly to understand ...   \n",
       "23          1  Study the `question` thoroughly to understand ...   \n",
       "24          1  Study the `question` thoroughly to understand ...   \n",
       "25          2  Study the `question` thoroughly to understand ...   \n",
       "26          0  Study the `question` thoroughly to understand ...   \n",
       "27          2  Study the `question` thoroughly to understand ...   \n",
       "28          1  Study the `question` thoroughly to understand ...   \n",
       "29          2  Study the `question` thoroughly to understand ...   \n",
       "30          2  Study the `question` thoroughly to understand ...   \n",
       "31          3  Study the `question` thoroughly to understand ...   \n",
       "32          1  Study the `question` thoroughly to understand ...   \n",
       "33          2  Study the `question` thoroughly to understand ...   \n",
       "34          1  Study the `question` thoroughly to understand ...   \n",
       "35          3  Study the `question` thoroughly to understand ...   \n",
       "36          3  Study the `question` thoroughly to understand ...   \n",
       "37          2  Study the `question` thoroughly to understand ...   \n",
       "38          2  Study the `question` thoroughly to understand ...   \n",
       "39          2  Study the `question` thoroughly to understand ...   \n",
       "\n",
       "    is_pred_right  \n",
       "0           False  \n",
       "1            True  \n",
       "2            True  \n",
       "3           False  \n",
       "4           False  \n",
       "5           False  \n",
       "6            True  \n",
       "7            True  \n",
       "8            True  \n",
       "9           False  \n",
       "10           True  \n",
       "11           True  \n",
       "12           True  \n",
       "13          False  \n",
       "14           True  \n",
       "15           True  \n",
       "16           True  \n",
       "17          False  \n",
       "18           True  \n",
       "19          False  \n",
       "20          False  \n",
       "21           True  \n",
       "22           True  \n",
       "23           True  \n",
       "24          False  \n",
       "25           True  \n",
       "26          False  \n",
       "27           True  \n",
       "28           True  \n",
       "29           True  \n",
       "30          False  \n",
       "31           True  \n",
       "32           True  \n",
       "33           True  \n",
       "34           True  \n",
       "35           True  \n",
       "36           True  \n",
       "37          False  \n",
       "38           True  \n",
       "39           True  "
      ]
     },
     "execution_count": 166,
     "metadata": {},
     "output_type": "execute_result"
    }
   ],
   "source": [
    "log_df"
   ]
  },
  {
   "cell_type": "code",
   "execution_count": 167,
   "metadata": {},
   "outputs": [],
   "source": [
    "wandb.log({'router_output': log_df})"
   ]
  },
  {
   "cell_type": "code",
   "execution_count": 168,
   "metadata": {},
   "outputs": [],
   "source": [
    "log_df.to_csv('pe_log_data_2.csv', index =False)"
   ]
  },
  {
   "cell_type": "code",
   "execution_count": 169,
   "metadata": {},
   "outputs": [],
   "source": [
    "import matplotlib.pyplot as plt"
   ]
  },
  {
   "cell_type": "code",
   "execution_count": 170,
   "metadata": {},
   "outputs": [
    {
     "data": {
      "image/png": "[encoded data removed]",
      "text/plain": [
       "<Figure size 640x480 with 1 Axes>"
      ]
     },
     "metadata": {},
     "output_type": "display_data"
    }
   ],
   "source": [
    "prediction_counts = log_df.groupby(['llm', 'is_pred_right']).size().unstack(fill_value=0)\n",
    "\n",
    "\n",
    "fig, ax = plt.subplots()\n",
    "\n",
    "# Plotting the data\n",
    "prediction_counts.plot(kind='bar', stacked=False, ax=ax)\n",
    "\n",
    "# Setting labels and title\n",
    "ax.set_xlabel('Model')\n",
    "ax.set_ylabel('Number of Predictions')\n",
    "ax.set_title('Right vs Wrong Predictions for GPT-3 and Gemma')\n",
    "ax.legend(['Wrong', 'Right'])\n",
    "\n",
    "plt.xticks(rotation=0)\n",
    "plt.show()\n"
   ]
  },
  {
   "cell_type": "code",
   "execution_count": 171,
   "metadata": {},
   "outputs": [],
   "source": [
    "wandb.log({'predictions_comparision':wandb.Image(fig)})"
   ]
  },
  {
   "cell_type": "code",
   "execution_count": 172,
   "metadata": {},
   "outputs": [
    {
     "name": "stderr",
     "output_type": "stream",
     "text": [
      "/var/folders/yp/wyy5kprd443_5jd6zdmkbp800000gn/T/ipykernel_81304/3819970095.py:13: SettingWithCopyWarning:\n",
      "\n",
      "\n",
      "A value is trying to be set on a copy of a slice from a DataFrame.\n",
      "Try using .loc[row_indexer,col_indexer] = value instead\n",
      "\n",
      "See the caveats in the documentation: https://pandas.pydata.org/pandas-docs/stable/user_guide/indexing.html#returning-a-view-versus-a-copy\n",
      "\n",
      "/var/folders/yp/wyy5kprd443_5jd6zdmkbp800000gn/T/ipykernel_81304/3819970095.py:14: SettingWithCopyWarning:\n",
      "\n",
      "\n",
      "A value is trying to be set on a copy of a slice from a DataFrame.\n",
      "Try using .loc[row_indexer,col_indexer] = value instead\n",
      "\n",
      "See the caveats in the documentation: https://pandas.pydata.org/pandas-docs/stable/user_guide/indexing.html#returning-a-view-versus-a-copy\n",
      "\n"
     ]
    },
    {
     "data": {
      "image/png": "[encoded data removed]",
      "text/plain": [
       "<Figure size 1500x500 with 2 Axes>"
      ]
     },
     "metadata": {},
     "output_type": "display_data"
    }
   ],
   "source": [
    "# Assuming the 't2i' dictionary maps the class names to their respective numeric representations\n",
    "t_2_i = {\n",
    "    \"Clinical Trials\": '0',\n",
    "    \"pubmed\": '1',\n",
    "    \"bioarxiv\": '2',\n",
    "    \"chembl\": '3',\n",
    "}\n",
    "\n",
    "# Reverse the mapping for easier lookup: from numeric representation to class name\n",
    "i_2_t = {v: k for k, v in t_2_i.items()}\n",
    "\n",
    "# Replace numeric labels in the DataFrame with their corresponding class names\n",
    "log_df['answer'] = log_df['answer'].astype(str).map(i_2_t)\n",
    "log_df['prediction'] = log_df['prediction'].astype(str).map(i_2_t)\n",
    "\n",
    "# Group by model and actual class, and count the occurrences of each predicted class\n",
    "confusion_data = log_df.groupby(['llm', 'answer', 'prediction']).size().unstack(fill_value=0)\n",
    "\n",
    "# Plotting the confusion data as a bar graph\n",
    "fig, axes = plt.subplots(nrows=1, ncols=2, figsize=(15, 5), sharey=True)\n",
    "\n",
    "for i, (model, data) in enumerate(confusion_data.groupby(level=0)):\n",
    "    data.plot(kind='bar', ax=axes[i], stacked=True)\n",
    "    axes[i].set_title(model)\n",
    "    axes[i].set_xlabel('Actual Class')\n",
    "    axes[i].set_ylabel('Count')\n",
    "    axes[i].legend(title='Predicted Class', bbox_to_anchor=(1.05, 1), loc='upper left')\n",
    "\n",
    "fig.suptitle('Confusion predictions Across Gemma and GPT-3')\n",
    "plt.tight_layout()\n",
    "plt.show()\n"
   ]
  },
  {
   "cell_type": "code",
   "execution_count": 173,
   "metadata": {},
   "outputs": [],
   "source": [
    "wandb.log({'confusing_class':wandb.Image(fig)})"
   ]
  },
  {
   "cell_type": "code",
   "execution_count": 158,
   "metadata": {},
   "outputs": [
    {
     "name": "stderr",
     "output_type": "stream",
     "text": [
      "wandb: WARNING Source type is set to 'repo' but some required information is missing from the environment. A job will not be created from this run. See https://docs.wandb.ai/guides/launch/create-job\n"
     ]
    },
    {
     "data": {
      "text/html": [
       " View run <strong style=\"color:#cdcd00\">pe_router_optimization</strong> at: <a href='https://wandb.ai/curieo/pe_router/runs/fn7j3pgb' target=\"_blank\">https://wandb.ai/curieo/pe_router/runs/fn7j3pgb</a><br/>Synced 6 W&B file(s), 4 media file(s), 1 artifact file(s) and 0 other file(s)"
      ],
      "text/plain": [
       "<IPython.core.display.HTML object>"
      ]
     },
     "metadata": {},
     "output_type": "display_data"
    },
    {
     "data": {
      "text/html": [
       "Find logs at: <code>./wandb/run-20240314_121808-fn7j3pgb/logs</code>"
      ],
      "text/plain": [
       "<IPython.core.display.HTML object>"
      ]
     },
     "metadata": {},
     "output_type": "display_data"
    }
   ],
   "source": [
    "run.finish()"
   ]
  },
  {
   "cell_type": "markdown",
   "metadata": {},
   "source": [
    "## EXPERIMENTATION"
   ]
  },
  {
   "cell_type": "code",
   "execution_count": 145,
   "metadata": {},
   "outputs": [],
   "source": [
    "######### NOT WORKING\n",
    "# # signature optimizer \n",
    "# from dspy.teleprompt import SignatureOptimizer\n",
    "# from dspy.evaluate import Evaluate\n",
    "# dspy.settings.configure(lm=turbo)\n",
    "# def validate_context_and_answer(example, pred, trace=None):\n",
    "#     answer_EM = dspy.evaluate.answer_exact_match(example, pred)\n",
    "#     return answer_EM\n",
    "\n",
    "# NUM_THREADS = 5\n",
    "# evaluate = Evaluate(devset=total_data[:DEV_NUM], metric=validate_context_and_answer, num_threads=NUM_THREADS, display_progress=True, display_table=False)\n",
    "\n",
    "\n",
    "\n",
    "# teleprompter = SignatureOptimizer(\n",
    "#     metric=validate_context_and_answer,\n",
    "#     verbose=True,\n",
    "# )\n",
    "# kwargs = dict(num_threads=64, display_progress=True, display_table=0) # Used in Evaluate class in the optimization process\n",
    "\n",
    "# compiled_prompt_opt = teleprompter.compile(Router_module(), devset=total_data[:DEV_NUM], eval_kwargs=kwargs)\n",
    "# compiled_prompt_opt.save(\"pe_signature_optimizer.json\")\n"
   ]
  },
  {
   "cell_type": "code",
   "execution_count": 53,
   "metadata": {},
   "outputs": [
    {
     "name": "stdout",
     "output_type": "stream",
     "text": [
      "\n",
      "\n",
      "\n",
      "\n",
      "Given the fields `question`, produce the fields `answer`.\n",
      "\n",
      "---\n",
      "\n",
      "Follow the following format.\n",
      "\n",
      "Question: Question to be routed to route\n",
      "Reasoning: Let's think step by step in order to ${produce the answer}. We ...\n",
      "The route number to the question is: route option should be integer without any additional explaination\n",
      "\n",
      "---\n",
      "\n",
      "Question: Were there notable differences in the clinicopathological features of breast cancer based on the age of patients?\n",
      "Reasoning: Let's think step by step in order to answer this question. First, we need to understand the research paper's focus. After reviewing the title and question, it seems to be asking about potential differences in breast cancer based on the age of patients. To answer, we would need to look for relevant statistical analysis comparing clinicopathological features of breast cancer in different age groups.\n",
      "The route number to the question is: 1\n",
      "\n",
      "---\n",
      "\n",
      "Question: What treatment was given to the participants in Exposure, Dose, Body Burden and Health Effects of Lead\n",
      "Reasoning: Let's think step by step in order to answer the question. The study Exposure, Dose, Body Burden and Health Effects of Lead is about the health effects of lead, so the participants were likely exposed to lead in some way. However, the specific treatment is not provided in the question.\n",
      "The route number to the question is: 0.\n",
      "\n",
      "---\n",
      "\n",
      "Question: How many tumor samples were analyzed using RegTools in the research study?\n",
      "The route number to the question is: 2\n",
      "\n",
      "---\n",
      "\n",
      "Question: What is the type of following study: Exposure, Dose, Body Burden and Health Effects of Lead\n",
      "The route number to the question is: 0\n",
      "\n",
      "---\n",
      "\n",
      "Question: What clinical implication does the identification of these biomarkers hold for T2DM patients in terms of managing their coronary artery disease risk?\n",
      "The route number to the question is: 1\n",
      "\n",
      "---\n",
      "\n",
      "Question: Does Amoxicillin have any aromatic rings?\n",
      "The route number to the question is: 3\n",
      "\n",
      "---\n",
      "\n",
      "Question: Where did the study The Combined Effect of 2,3-Dimercaptosuccinic Acid and Multi-Nutrients on Children in Lead Poisoning take place\n",
      "The route number to the question is: 0\n",
      "\n",
      "---\n",
      "\n",
      "Question: How many families were reported to have the SNCA p.V15A variant according to the research paper?\n",
      "The route number to the question is: 1\n",
      "\n",
      "---\n",
      "\n",
      "Question: What brain region was affected by the hemorrhage in the case presented?\n",
      "The route number to the question is: 1\n",
      "\n",
      "---\n",
      "\n",
      "Question: What is the therapeutic flag for Aspirin?\n",
      "The route number to the question is: 3\n",
      "\n",
      "---\n",
      "\n",
      "Question: How does recording limb muscle activity contribute to understanding the influence of the non-chosen target?\n",
      "The route number to the question is: 2\n",
      "\n",
      "---\n",
      "\n",
      "Question: What is the chirality of Ibuprofen?\n",
      "The route number to the question is: 3\n",
      "\n",
      "---\n",
      "\n",
      "Question: How does the proposed z-drift detection and correction system compare to out-of-focus correction modules offered by microscope manufacturers for their flagship instruments?\n",
      "The route number to the question is: 2\n",
      "\n",
      "---\n",
      "\n",
      "Question: What treatment was given to the participants in Recipient Vessels for Free Tissue Flaps in Advanced Oncologic Defects of the Midface and Scalp\n",
      "The route number to the question is: 0\n",
      "\n",
      "---\n",
      "\n",
      "Question: Was there an abstract provided in the research paper?\n",
      "The route number to the question is: 1\n",
      "\n",
      "---\n",
      "\n",
      "Question: How is the coexpression of SMYD4 and PRMT5 associated with the prognosis of HCC patients?\n",
      "The route number to the question is: 1\n",
      "\n",
      "---\n",
      "\n",
      "Question: What is the molecular formula of Ciprofloxacin ?\n",
      "Reasoning: Let's think step by step in order to\u001b[32m answer this question. The molecular formula for Ciprofloxacin is C17H18FN3O3.\n",
      "The route number to the question is: 3.\u001b[0m\u001b[31m \t (and 116 other completions)\u001b[0m\n",
      "\n",
      "\n",
      "\n"
     ]
    }
   ],
   "source": [
    "# mixtral.inspect_history(n=1)"
   ]
  },
  {
   "cell_type": "code",
   "execution_count": 37,
   "metadata": {},
   "outputs": [],
   "source": [
    "compiled_rag.save(\"router_bootstrapped_12_eg.json\")"
   ]
  },
  {
   "cell_type": "markdown",
   "metadata": {},
   "source": [
    "## 🪧 BayesianSignature"
   ]
  },
  {
   "cell_type": "code",
   "execution_count": 38,
   "metadata": {},
   "outputs": [
    {
     "name": "stderr",
     "output_type": "stream",
     "text": [
      "  2%|▏         | 1/50 [00:01<01:11,  1.46s/it]"
     ]
    },
    {
     "name": "stdout",
     "output_type": "stream",
     "text": [
      "actual_answer 2\n",
      "predicted_answer The specific individual or organization should be named.\n"
     ]
    },
    {
     "name": "stderr",
     "output_type": "stream",
     "text": [
      "  4%|▍         | 2/50 [00:02<01:07,  1.41s/it]"
     ]
    },
    {
     "name": "stdout",
     "output_type": "stream",
     "text": [
      "actual_answer 2\n",
      "predicted_answer 3\n"
     ]
    },
    {
     "name": "stderr",
     "output_type": "stream",
     "text": [
      "  6%|▌         | 3/50 [00:24<08:15, 10.55s/it]"
     ]
    },
    {
     "name": "stdout",
     "output_type": "stream",
     "text": [
      "actual_answer 0\n",
      "predicted_answer 1\n"
     ]
    },
    {
     "name": "stderr",
     "output_type": "stream",
     "text": [
      "  8%|▊         | 4/50 [00:45<11:25, 14.91s/it]"
     ]
    },
    {
     "name": "stdout",
     "output_type": "stream",
     "text": [
      "actual_answer 0\n",
      "predicted_answer 20\n"
     ]
    },
    {
     "name": "stderr",
     "output_type": "stream",
     "text": [
      " 10%|█         | 5/50 [01:07<13:03, 17.40s/it]"
     ]
    },
    {
     "name": "stdout",
     "output_type": "stream",
     "text": [
      "actual_answer 1\n",
      "predicted_answer 3\n"
     ]
    },
    {
     "name": "stderr",
     "output_type": "stream",
     "text": [
      " 12%|█▏        | 6/50 [01:29<13:46, 18.78s/it]"
     ]
    },
    {
     "name": "stdout",
     "output_type": "stream",
     "text": [
      "actual_answer 0\n",
      "predicted_answer Ilomedin\n"
     ]
    },
    {
     "name": "stderr",
     "output_type": "stream",
     "text": [
      " 14%|█▍        | 7/50 [01:50<14:06, 19.68s/it]"
     ]
    },
    {
     "name": "stdout",
     "output_type": "stream",
     "text": [
      "actual_answer 1\n",
      "predicted_answer 2\n"
     ]
    },
    {
     "name": "stderr",
     "output_type": "stream",
     "text": [
      " 16%|█▌        | 8/50 [02:12<14:10, 20.26s/it]"
     ]
    },
    {
     "name": "stdout",
     "output_type": "stream",
     "text": [
      "actual_answer 3\n",
      "predicted_answer 1\n"
     ]
    },
    {
     "name": "stderr",
     "output_type": "stream",
     "text": [
      " 18%|█▊        | 9/50 [02:55<18:41, 27.35s/it]"
     ]
    },
    {
     "name": "stdout",
     "output_type": "stream",
     "text": [
      "actual_answer 1\n",
      "predicted_answer 3\n"
     ]
    },
    {
     "name": "stderr",
     "output_type": "stream",
     "text": [
      " 20%|██        | 10/50 [03:16<17:06, 25.67s/it]"
     ]
    },
    {
     "name": "stdout",
     "output_type": "stream",
     "text": [
      "actual_answer 0\n",
      "predicted_answer 3\n"
     ]
    },
    {
     "name": "stderr",
     "output_type": "stream",
     "text": [
      " 22%|██▏       | 11/50 [03:38<15:49, 24.35s/it]"
     ]
    },
    {
     "name": "stdout",
     "output_type": "stream",
     "text": [
      "actual_answer 3\n",
      "predicted_answer C9H8O4\n"
     ]
    },
    {
     "name": "stderr",
     "output_type": "stream",
     "text": [
      " 24%|██▍       | 12/50 [03:59<14:53, 23.52s/it]"
     ]
    },
    {
     "name": "stdout",
     "output_type": "stream",
     "text": [
      "actual_answer 2\n",
      "predicted_answer 3\n"
     ]
    },
    {
     "name": "stderr",
     "output_type": "stream",
     "text": [
      " 26%|██▌       | 13/50 [04:22<14:13, 23.08s/it]"
     ]
    },
    {
     "name": "stdout",
     "output_type": "stream",
     "text": [
      "actual_answer 1\n",
      "predicted_answer 3\n"
     ]
    },
    {
     "name": "stderr",
     "output_type": "stream",
     "text": [
      " 28%|██▊       | 14/50 [04:44<13:41, 22.83s/it]"
     ]
    },
    {
     "name": "stdout",
     "output_type": "stream",
     "text": [
      "actual_answer 2\n",
      "predicted_answer 3\n"
     ]
    },
    {
     "name": "stderr",
     "output_type": "stream",
     "text": [
      " 30%|███       | 15/50 [05:05<13:01, 22.34s/it]"
     ]
    },
    {
     "name": "stdout",
     "output_type": "stream",
     "text": [
      "actual_answer 0\n",
      "predicted_answer Germany\n"
     ]
    },
    {
     "name": "stderr",
     "output_type": "stream",
     "text": [
      " 32%|███▏      | 16/50 [05:28<12:44, 22.48s/it]"
     ]
    },
    {
     "name": "stdout",
     "output_type": "stream",
     "text": [
      "actual_answer 2\n",
      "predicted_answer 3\n"
     ]
    },
    {
     "name": "stderr",
     "output_type": "stream",
     "text": [
      " 34%|███▍      | 17/50 [05:50<12:17, 22.36s/it]"
     ]
    },
    {
     "name": "stdout",
     "output_type": "stream",
     "text": [
      "actual_answer 1\n",
      "predicted_answer route option should be integer only no additional text\n"
     ]
    },
    {
     "name": "stderr",
     "output_type": "stream",
     "text": [
      " 36%|███▌      | 18/50 [06:32<15:09, 28.43s/it]"
     ]
    },
    {
     "name": "stdout",
     "output_type": "stream",
     "text": [
      "actual_answer 3\n",
      "predicted_answer C17H18FN3O3\n"
     ]
    },
    {
     "name": "stderr",
     "output_type": "stream",
     "text": [
      " 38%|███▊      | 19/50 [06:54<11:16, 21.83s/it]\n"
     ]
    },
    {
     "name": "stdout",
     "output_type": "stream",
     "text": [
      "actual_answer 3\n",
      "predicted_answer 3\n",
      "Bootstrapped 1 full traces after 20 examples in round 0.\n"
     ]
    },
    {
     "name": "stderr",
     "output_type": "stream",
     "text": [
      "  2%|▏         | 1/50 [00:22<18:03, 22.11s/it]"
     ]
    },
    {
     "name": "stdout",
     "output_type": "stream",
     "text": [
      "actual_answer 0\n",
      "predicted_answer 1\n"
     ]
    },
    {
     "name": "stderr",
     "output_type": "stream",
     "text": [
      "  4%|▍         | 2/50 [00:44<17:37, 22.04s/it]"
     ]
    },
    {
     "name": "stdout",
     "output_type": "stream",
     "text": [
      "actual_answer 3\n",
      "predicted_answer 1\n"
     ]
    },
    {
     "name": "stderr",
     "output_type": "stream",
     "text": [
      "  6%|▌         | 3/50 [01:05<17:05, 21.82s/it]"
     ]
    },
    {
     "name": "stdout",
     "output_type": "stream",
     "text": [
      "actual_answer 0\n",
      "predicted_answer 1\n"
     ]
    },
    {
     "name": "stderr",
     "output_type": "stream",
     "text": [
      "  8%|▊         | 4/50 [01:06<12:48, 16.71s/it]"
     ]
    },
    {
     "name": "stdout",
     "output_type": "stream",
     "text": [
      "actual_answer 1\n",
      "predicted_answer 1\n",
      "Bootstrapped 1 full traces after 5 examples in round 0.\n"
     ]
    },
    {
     "name": "stderr",
     "output_type": "stream",
     "text": [
      "\n"
     ]
    },
    {
     "ename": "TypeError",
     "evalue": "'str' object is not callable",
     "output_type": "error",
     "traceback": [
      "\u001b[0;31m---------------------------------------------------------------------------\u001b[0m",
      "\u001b[0;31mTypeError\u001b[0m                                 Traceback (most recent call last)",
      "Cell \u001b[0;32mIn[38], line 3\u001b[0m\n\u001b[1;32m      1\u001b[0m teleprompter_baysian \u001b[38;5;241m=\u001b[39m BayesianSignatureOptimizer(prompt_model\u001b[38;5;241m=\u001b[39m\u001b[38;5;124m\"\u001b[39m\u001b[38;5;124mRoute the respective question to the required service\u001b[39m\u001b[38;5;124m\"\u001b[39m, task_model\u001b[38;5;241m=\u001b[39m\u001b[38;5;124m\"\u001b[39m\u001b[38;5;124mroute integer option\u001b[39m\u001b[38;5;124m\"\u001b[39m, metric\u001b[38;5;241m=\u001b[39mmetric, n\u001b[38;5;241m=\u001b[39m\u001b[38;5;241m3\u001b[39m)\n\u001b[1;32m      2\u001b[0m kwargs \u001b[38;5;241m=\u001b[39m \u001b[38;5;28mdict\u001b[39m(num_threads\u001b[38;5;241m=\u001b[39mNUM_THREADS, display_progress\u001b[38;5;241m=\u001b[39m\u001b[38;5;28;01mTrue\u001b[39;00m, display_table\u001b[38;5;241m=\u001b[39m\u001b[38;5;241m0\u001b[39m)\n\u001b[0;32m----> 3\u001b[0m compiled_router_prompt \u001b[38;5;241m=\u001b[39m \u001b[43mteleprompter_baysian\u001b[49m\u001b[38;5;241;43m.\u001b[39;49m\u001b[43mcompile\u001b[49m\u001b[43m(\u001b[49m\u001b[43mRouter_module\u001b[49m\u001b[43m(\u001b[49m\u001b[43m)\u001b[49m\u001b[43m,\u001b[49m\u001b[43m  \u001b[49m\u001b[43mdevset\u001b[49m\u001b[38;5;241;43m=\u001b[39;49m\u001b[43mtotal_data\u001b[49m\u001b[43m[\u001b[49m\u001b[43m:\u001b[49m\u001b[43mDEV_NUM\u001b[49m\u001b[43m]\u001b[49m\u001b[43m,\u001b[49m\u001b[43m \u001b[49m\u001b[43moptuna_trials_num\u001b[49m\u001b[38;5;241;43m=\u001b[39;49m\u001b[38;5;241;43m100\u001b[39;49m\u001b[43m,\u001b[49m\u001b[43m \u001b[49m\u001b[43mmax_bootstrapped_demos\u001b[49m\u001b[38;5;241;43m=\u001b[39;49m\u001b[38;5;241;43m1\u001b[39;49m\u001b[43m,\u001b[49m\u001b[43m \u001b[49m\u001b[43mmax_labeled_demos\u001b[49m\u001b[38;5;241;43m=\u001b[39;49m\u001b[38;5;241;43m2\u001b[39;49m\u001b[43m,\u001b[49m\u001b[43m \u001b[49m\u001b[43meval_kwargs\u001b[49m\u001b[38;5;241;43m=\u001b[39;49m\u001b[43mkwargs\u001b[49m\u001b[43m)\u001b[49m\n",
      "File \u001b[0;32m/opt/homebrew/lib/python3.11/site-packages/dspy/teleprompt/signature_opt_bayesian.py:301\u001b[0m, in \u001b[0;36mBayesianSignatureOptimizer.compile\u001b[0;34m(self, student, devset, optuna_trials_num, max_bootstrapped_demos, max_labeled_demos, eval_kwargs, seed, view_data, view_examples)\u001b[0m\n\u001b[1;32m    298\u001b[0m             demo_candidates[\u001b[38;5;28mid\u001b[39m(module_p)]\u001b[38;5;241m.\u001b[39mappend(candidate_p\u001b[38;5;241m.\u001b[39mdemos)\n\u001b[1;32m    300\u001b[0m \u001b[38;5;66;03m# Generate N candidate prompts\u001b[39;00m\n\u001b[0;32m--> 301\u001b[0m instruction_candidates, _ \u001b[38;5;241m=\u001b[39m \u001b[38;5;28;43mself\u001b[39;49m\u001b[38;5;241;43m.\u001b[39;49m\u001b[43m_generate_first_N_candidates\u001b[49m\u001b[43m(\u001b[49m\u001b[43mmodule\u001b[49m\u001b[43m,\u001b[49m\u001b[43m \u001b[49m\u001b[38;5;28;43mself\u001b[39;49m\u001b[38;5;241;43m.\u001b[39;49m\u001b[43mn\u001b[49m\u001b[43m,\u001b[49m\u001b[43m \u001b[49m\u001b[43mview_data\u001b[49m\u001b[43m,\u001b[49m\u001b[43m \u001b[49m\u001b[43mview_examples\u001b[49m\u001b[43m,\u001b[49m\u001b[43m \u001b[49m\u001b[43mdemo_candidates\u001b[49m\u001b[43m,\u001b[49m\u001b[43m \u001b[49m\u001b[43mdevset\u001b[49m\u001b[43m)\u001b[49m\n\u001b[1;32m    303\u001b[0m \u001b[38;5;66;03m# Initialize variables to store the best program and its score\u001b[39;00m\n\u001b[1;32m    304\u001b[0m best_score \u001b[38;5;241m=\u001b[39m \u001b[38;5;28mfloat\u001b[39m(\u001b[38;5;124m'\u001b[39m\u001b[38;5;124m-inf\u001b[39m\u001b[38;5;124m'\u001b[39m)\n",
      "File \u001b[0;32m/opt/homebrew/lib/python3.11/site-packages/dspy/teleprompt/signature_opt_bayesian.py:176\u001b[0m, in \u001b[0;36mBayesianSignatureOptimizer._generate_first_N_candidates\u001b[0;34m(self, module, N, view_data, view_examples, demo_candidates, devset)\u001b[0m\n\u001b[1;32m    174\u001b[0m     \u001b[38;5;28mself\u001b[39m\u001b[38;5;241m.\u001b[39mobservations \u001b[38;5;241m=\u001b[39m \u001b[38;5;28;01mNone\u001b[39;00m\n\u001b[1;32m    175\u001b[0m     \u001b[38;5;28;01mwith\u001b[39;00m dspy\u001b[38;5;241m.\u001b[39msettings\u001b[38;5;241m.\u001b[39mcontext(lm\u001b[38;5;241m=\u001b[39m\u001b[38;5;28mself\u001b[39m\u001b[38;5;241m.\u001b[39mprompt_model):\n\u001b[0;32m--> 176\u001b[0m         \u001b[38;5;28mself\u001b[39m\u001b[38;5;241m.\u001b[39mobservations \u001b[38;5;241m=\u001b[39m \u001b[38;5;28;43mself\u001b[39;49m\u001b[38;5;241;43m.\u001b[39;49m\u001b[43m_observe_data\u001b[49m\u001b[43m(\u001b[49m\u001b[43mdevset\u001b[49m\u001b[43m)\u001b[49m\u001b[38;5;241m.\u001b[39mreplace(\u001b[38;5;124m\"\u001b[39m\u001b[38;5;124mObservations:\u001b[39m\u001b[38;5;124m\"\u001b[39m,\u001b[38;5;124m\"\u001b[39m\u001b[38;5;124m\"\u001b[39m)\u001b[38;5;241m.\u001b[39mreplace(\u001b[38;5;124m\"\u001b[39m\u001b[38;5;124mSummary:\u001b[39m\u001b[38;5;124m\"\u001b[39m,\u001b[38;5;124m\"\u001b[39m\u001b[38;5;124m\"\u001b[39m)\n\u001b[1;32m    178\u001b[0m \u001b[38;5;28;01mif\u001b[39;00m view_examples:\n\u001b[1;32m    179\u001b[0m     example_sets \u001b[38;5;241m=\u001b[39m {}\n",
      "File \u001b[0;32m/opt/homebrew/lib/python3.11/site-packages/dspy/teleprompt/signature_opt_bayesian.py:131\u001b[0m, in \u001b[0;36mBayesianSignatureOptimizer._observe_data\u001b[0;34m(self, trainset)\u001b[0m\n\u001b[1;32m    129\u001b[0m \u001b[38;5;28;01mdef\u001b[39;00m \u001b[38;5;21m_observe_data\u001b[39m(\u001b[38;5;28mself\u001b[39m, trainset):\n\u001b[1;32m    130\u001b[0m     upper_lim \u001b[38;5;241m=\u001b[39m \u001b[38;5;28mmin\u001b[39m(\u001b[38;5;28mlen\u001b[39m(trainset), \u001b[38;5;28mself\u001b[39m\u001b[38;5;241m.\u001b[39mview_data_batch_size)\n\u001b[0;32m--> 131\u001b[0m     observation \u001b[38;5;241m=\u001b[39m \u001b[43mdspy\u001b[49m\u001b[38;5;241;43m.\u001b[39;49m\u001b[43mPredict\u001b[49m\u001b[43m(\u001b[49m\u001b[43mDatasetDescriptor\u001b[49m\u001b[43m,\u001b[49m\u001b[43m \u001b[49m\u001b[43mn\u001b[49m\u001b[38;5;241;43m=\u001b[39;49m\u001b[38;5;241;43m1\u001b[39;49m\u001b[43m,\u001b[49m\u001b[43m \u001b[49m\u001b[43mtemperature\u001b[49m\u001b[38;5;241;43m=\u001b[39;49m\u001b[38;5;241;43m1.0\u001b[39;49m\u001b[43m)\u001b[49m\u001b[43m(\u001b[49m\u001b[43mexamples\u001b[49m\u001b[38;5;241;43m=\u001b[39;49m\u001b[43m(\u001b[49m\u001b[43mtrainset\u001b[49m\u001b[43m[\u001b[49m\u001b[38;5;241;43m0\u001b[39;49m\u001b[43m:\u001b[49m\u001b[43mupper_lim\u001b[49m\u001b[43m]\u001b[49m\u001b[38;5;241;43m.\u001b[39;49m\u001b[38;5;21;43m__repr__\u001b[39;49m\u001b[43m(\u001b[49m\u001b[43m)\u001b[49m\u001b[43m)\u001b[49m\u001b[43m)\u001b[49m\n\u001b[1;32m    132\u001b[0m     observations \u001b[38;5;241m=\u001b[39m observation[\u001b[38;5;124m\"\u001b[39m\u001b[38;5;124mobservations\u001b[39m\u001b[38;5;124m\"\u001b[39m]\n\u001b[1;32m    134\u001b[0m     skips \u001b[38;5;241m=\u001b[39m \u001b[38;5;241m0\u001b[39m\n",
      "File \u001b[0;32m/opt/homebrew/lib/python3.11/site-packages/dspy/predict/predict.py:49\u001b[0m, in \u001b[0;36mPredict.__call__\u001b[0;34m(self, **kwargs)\u001b[0m\n\u001b[1;32m     48\u001b[0m \u001b[38;5;28;01mdef\u001b[39;00m \u001b[38;5;21m__call__\u001b[39m(\u001b[38;5;28mself\u001b[39m, \u001b[38;5;241m*\u001b[39m\u001b[38;5;241m*\u001b[39mkwargs):\n\u001b[0;32m---> 49\u001b[0m     \u001b[38;5;28;01mreturn\u001b[39;00m \u001b[38;5;28;43mself\u001b[39;49m\u001b[38;5;241;43m.\u001b[39;49m\u001b[43mforward\u001b[49m\u001b[43m(\u001b[49m\u001b[38;5;241;43m*\u001b[39;49m\u001b[38;5;241;43m*\u001b[39;49m\u001b[43mkwargs\u001b[49m\u001b[43m)\u001b[49m\n",
      "File \u001b[0;32m/opt/homebrew/lib/python3.11/site-packages/dspy/predict/predict.py:90\u001b[0m, in \u001b[0;36mPredict.forward\u001b[0;34m(self, **kwargs)\u001b[0m\n\u001b[1;32m     87\u001b[0m template \u001b[38;5;241m=\u001b[39m signature_to_template(signature)\n\u001b[1;32m     89\u001b[0m \u001b[38;5;28;01mif\u001b[39;00m \u001b[38;5;28mself\u001b[39m\u001b[38;5;241m.\u001b[39mlm \u001b[38;5;129;01mis\u001b[39;00m \u001b[38;5;28;01mNone\u001b[39;00m:\n\u001b[0;32m---> 90\u001b[0m     x, C \u001b[38;5;241m=\u001b[39m \u001b[43mdsp\u001b[49m\u001b[38;5;241;43m.\u001b[39;49m\u001b[43mgenerate\u001b[49m\u001b[43m(\u001b[49m\u001b[43mtemplate\u001b[49m\u001b[43m,\u001b[49m\u001b[43m \u001b[49m\u001b[38;5;241;43m*\u001b[39;49m\u001b[38;5;241;43m*\u001b[39;49m\u001b[43mconfig\u001b[49m\u001b[43m)\u001b[49m\u001b[43m(\u001b[49m\u001b[43mx\u001b[49m\u001b[43m,\u001b[49m\u001b[43m \u001b[49m\u001b[43mstage\u001b[49m\u001b[38;5;241;43m=\u001b[39;49m\u001b[38;5;28;43mself\u001b[39;49m\u001b[38;5;241;43m.\u001b[39;49m\u001b[43mstage\u001b[49m\u001b[43m)\u001b[49m\n\u001b[1;32m     91\u001b[0m \u001b[38;5;28;01melse\u001b[39;00m:\n\u001b[1;32m     92\u001b[0m     \u001b[38;5;66;03m# Note: query_only=True means the instructions and examples are not included.\u001b[39;00m\n\u001b[1;32m     93\u001b[0m     \u001b[38;5;66;03m# I'm not really sure why we'd want to do that, but it's there.\u001b[39;00m\n\u001b[1;32m     94\u001b[0m     \u001b[38;5;28;01mwith\u001b[39;00m dsp\u001b[38;5;241m.\u001b[39msettings\u001b[38;5;241m.\u001b[39mcontext(lm\u001b[38;5;241m=\u001b[39m\u001b[38;5;28mself\u001b[39m\u001b[38;5;241m.\u001b[39mlm, query_only\u001b[38;5;241m=\u001b[39m\u001b[38;5;28;01mTrue\u001b[39;00m):\n",
      "File \u001b[0;32m/opt/homebrew/lib/python3.11/site-packages/dsp/primitives/predict.py:77\u001b[0m, in \u001b[0;36m_generate.<locals>.do_generate\u001b[0;34m(example, stage, max_depth, original_example)\u001b[0m\n\u001b[1;32m     75\u001b[0m \u001b[38;5;66;03m# Generate and extract the fields.\u001b[39;00m\n\u001b[1;32m     76\u001b[0m prompt \u001b[38;5;241m=\u001b[39m template(example)\n\u001b[0;32m---> 77\u001b[0m completions: \u001b[38;5;28mlist\u001b[39m[\u001b[38;5;28mdict\u001b[39m[\u001b[38;5;28mstr\u001b[39m, Any]] \u001b[38;5;241m=\u001b[39m \u001b[43mgenerator\u001b[49m\u001b[43m(\u001b[49m\u001b[43mprompt\u001b[49m\u001b[43m,\u001b[49m\u001b[43m \u001b[49m\u001b[38;5;241;43m*\u001b[39;49m\u001b[38;5;241;43m*\u001b[39;49m\u001b[43mkwargs\u001b[49m\u001b[43m)\u001b[49m\n\u001b[1;32m     78\u001b[0m completions: \u001b[38;5;28mlist\u001b[39m[Example] \u001b[38;5;241m=\u001b[39m [template\u001b[38;5;241m.\u001b[39mextract(example, p) \u001b[38;5;28;01mfor\u001b[39;00m p \u001b[38;5;129;01min\u001b[39;00m completions]\n\u001b[1;32m     80\u001b[0m \u001b[38;5;66;03m# Find the completions that are most complete.\u001b[39;00m\n",
      "\u001b[0;31mTypeError\u001b[0m: 'str' object is not callable"
     ]
    }
   ],
   "source": [
    "# PARTIALLY WORKING\n",
    "# BayesianSignature optimizer is not working \n",
    "# teleprompter_baysian = BayesianSignatureOptimizer(prompt_model=\"Route the respective question to the required service\", task_model=\"route integer option\", metric=metric, n=3)\n",
    "# kwargs = dict(num_threads=NUM_THREADS, display_progress=True, display_table=0)\n",
    "# compiled_router_prompt = teleprompter_baysian.compile(Router_module(),  devset=total_data[:DEV_NUM], optuna_trials_num=100, max_bootstrapped_demos=1, max_labeled_demos=2, eval_kwargs=kwargs)\n"
   ]
  },
  {
   "cell_type": "code",
   "execution_count": 39,
   "metadata": {},
   "outputs": [
    {
     "ename": "ModuleNotFoundError",
     "evalue": "No module named 'dspy.teleprompt.signature_opt_typed'",
     "output_type": "error",
     "traceback": [
      "\u001b[0;31m---------------------------------------------------------------------------\u001b[0m",
      "\u001b[0;31mModuleNotFoundError\u001b[0m                       Traceback (most recent call last)",
      "Cell \u001b[0;32mIn[39], line 1\u001b[0m\n\u001b[0;32m----> 1\u001b[0m \u001b[38;5;28;01mfrom\u001b[39;00m \u001b[38;5;21;01mdspy\u001b[39;00m\u001b[38;5;21;01m.\u001b[39;00m\u001b[38;5;21;01mteleprompt\u001b[39;00m\u001b[38;5;21;01m.\u001b[39;00m\u001b[38;5;21;01msignature_opt_typed\u001b[39;00m \u001b[38;5;28;01mimport\u001b[39;00m optimize_signature\n\u001b[1;32m      2\u001b[0m \u001b[38;5;28;01mfrom\u001b[39;00m \u001b[38;5;21;01mdspy\u001b[39;00m\u001b[38;5;21;01m.\u001b[39;00m\u001b[38;5;21;01mevaluate\u001b[39;00m\u001b[38;5;21;01m.\u001b[39;00m\u001b[38;5;21;01mmetrics\u001b[39;00m \u001b[38;5;28;01mimport\u001b[39;00m answer_exact_match\n\u001b[1;32m      3\u001b[0m \u001b[38;5;28;01mfrom\u001b[39;00m \u001b[38;5;21;01mdspy\u001b[39;00m\u001b[38;5;21;01m.\u001b[39;00m\u001b[38;5;21;01mfunctional\u001b[39;00m \u001b[38;5;28;01mimport\u001b[39;00m TypedChainOfThought\n",
      "\u001b[0;31mModuleNotFoundError\u001b[0m: No module named 'dspy.teleprompt.signature_opt_typed'"
     ]
    }
   ],
   "source": [
    "##### NOT WORKING\n",
    "# from dspy.teleprompt.signature_opt_typed import optimize_signature\n",
    "# from dspy.evaluate.metrics import answer_exact_match\n",
    "# from dspy.functional import TypedChainOfThought\n",
    "\n",
    "# compiled_program = optimize_signature(\n",
    "#     student=TypedChainOfThought(\"question -> answer\"),\n",
    "#     evaluator=Evaluate(devset=total_data[:DEV_NUM], metric=answer_exact_match, num_threads=10, display_progress=True),\n",
    "#     n_iterations=50,\n",
    "# ).program"
   ]
  },
  {
   "cell_type": "markdown",
   "metadata": {},
   "source": [
    "## 🛥️ Bootstrap few shot with optuna"
   ]
  },
  {
   "cell_type": "code",
   "execution_count": 46,
   "metadata": {},
   "outputs": [
    {
     "name": "stdout",
     "output_type": "stream",
     "text": [
      "Going to sample between 1 and 2 traces per predictor.\n",
      "Will attempt to train 8 candidate sets.\n"
     ]
    },
    {
     "name": "stderr",
     "output_type": "stream",
     "text": [
      " 14%|█▍        | 7/50 [00:00<00:00, 334.19it/s]\n",
      "[I 2024-03-12 19:53:33,909] A new study created in memory with name: no-name-e0f37a3a-69ec-448e-bba4-73dbd777928f\n"
     ]
    },
    {
     "name": "stdout",
     "output_type": "stream",
     "text": [
      "actual_answer 1\n",
      "predicted_answer 2\n",
      "actual_answer 1\n",
      "predicted_answer 2\n",
      "actual_answer 2\n",
      "predicted_answer 2\n",
      "actual_answer 3\n",
      "predicted_answer 2\n",
      "actual_answer 1\n",
      "predicted_answer 2\n",
      "actual_answer 3\n",
      "predicted_answer 2\n",
      "actual_answer 2\n",
      "predicted_answer 2\n",
      "Bootstrapped 2 full traces after 8 examples in round 0.\n"
     ]
    },
    {
     "name": "stderr",
     "output_type": "stream",
     "text": [
      "Average Metric: 0 / 1  (0.0):  20%|██        | 1/5 [00:01<00:04,  1.14s/it]"
     ]
    },
    {
     "name": "stdout",
     "output_type": "stream",
     "text": [
      "actual_answer 3\n",
      "predicted_answer 1\n"
     ]
    },
    {
     "name": "stderr",
     "output_type": "stream",
     "text": [
      "Average Metric: 1 / 2  (50.0):  40%|████      | 2/5 [00:01<00:01,  1.66it/s]"
     ]
    },
    {
     "name": "stdout",
     "output_type": "stream",
     "text": [
      "actual_answer 2\n",
      "predicted_answer 2\n"
     ]
    },
    {
     "name": "stderr",
     "output_type": "stream",
     "text": [
      "Average Metric: 1 / 3  (33.3):  60%|██████    | 3/5 [00:21<00:19,  9.58s/it]"
     ]
    },
    {
     "name": "stdout",
     "output_type": "stream",
     "text": [
      "actual_answer 3\n",
      "predicted_answer 2\n",
      "Backing off 0.9 seconds after 1 tries calling function <function GPT3.request at 0x13debb7e0> with kwargs {'max_tokens': 75, 'n': 1, 'temperature': 0.0}\n"
     ]
    },
    {
     "name": "stderr",
     "output_type": "stream",
     "text": [
      "Average Metric: 2 / 4  (50.0):  80%|████████  | 4/5 [00:42<00:13, 13.89s/it]"
     ]
    },
    {
     "name": "stdout",
     "output_type": "stream",
     "text": [
      "actual_answer 2\n",
      "predicted_answer 2\n"
     ]
    },
    {
     "name": "stderr",
     "output_type": "stream",
     "text": [
      "Average Metric: 3 / 5  (60.0): 100%|██████████| 5/5 [01:03<00:00, 12.76s/it]\n",
      "/opt/homebrew/lib/python3.11/site-packages/dspy/evaluate/evaluate.py:142: FutureWarning: DataFrame.applymap has been deprecated. Use DataFrame.map instead.\n",
      "  df = df.applymap(truncate_cell)\n",
      "[I 2024-03-12 19:54:37,873] Trial 0 finished with value: 60.0 and parameters: {'demo_index_for_generate_answer': 6}. Best is trial 0 with value: 60.0.\n"
     ]
    },
    {
     "name": "stdout",
     "output_type": "stream",
     "text": [
      "actual_answer 1\n",
      "predicted_answer 1\n",
      "Average Metric: 3 / 5  (60.0%)\n"
     ]
    },
    {
     "name": "stderr",
     "output_type": "stream",
     "text": [
      "Average Metric: 0 / 1  (0.0):  20%|██        | 1/5 [00:21<01:26, 21.56s/it]"
     ]
    },
    {
     "name": "stdout",
     "output_type": "stream",
     "text": [
      "actual_answer 2\n",
      "predicted_answer 3\n",
      "Backing off 0.1 seconds after 1 tries calling function <function GPT3.request at 0x13debb7e0> with kwargs {}Backing off 0.4 seconds after 1 tries calling function <function GPT3.request at 0x13debb7e0> with kwargs {}\n",
      "\n",
      "Backing off 0.0 seconds after 1 tries calling function <function GPT3.request at 0x13debb7e0> with kwargs {}\n"
     ]
    },
    {
     "name": "stderr",
     "output_type": "stream",
     "text": [
      "Average Metric: 1 / 2  (50.0):  40%|████      | 2/5 [00:42<01:03, 21.10s/it]"
     ]
    },
    {
     "name": "stdout",
     "output_type": "stream",
     "text": [
      "actual_answer 1\n",
      "predicted_answer 1\n"
     ]
    },
    {
     "name": "stderr",
     "output_type": "stream",
     "text": [
      "Average Metric: 1 / 3  (33.3):  60%|██████    | 3/5 [01:02<00:41, 20.86s/it]"
     ]
    },
    {
     "name": "stdout",
     "output_type": "stream",
     "text": [
      "actual_answer 3\n",
      "predicted_answer 1\n",
      "Backing off 0.4 seconds after 2 tries calling function <function GPT3.request at 0x13debb7e0> with kwargs {}\n"
     ]
    },
    {
     "name": "stderr",
     "output_type": "stream",
     "text": [
      "Average Metric: 1 / 4  (25.0):  80%|████████  | 4/5 [01:23<00:20, 20.80s/it]"
     ]
    },
    {
     "name": "stdout",
     "output_type": "stream",
     "text": [
      "actual_answer 2\n",
      "predicted_answer 3\n"
     ]
    },
    {
     "name": "stderr",
     "output_type": "stream",
     "text": [
      "Average Metric: 1 / 5  (20.0): 100%|██████████| 5/5 [01:44<00:00, 20.93s/it]\n",
      "[I 2024-03-12 19:56:23,242] Trial 1 finished with value: 20.0 and parameters: {'demo_index_for_generate_answer': 0}. Best is trial 0 with value: 60.0.\n"
     ]
    },
    {
     "name": "stdout",
     "output_type": "stream",
     "text": [
      "actual_answer 3\n",
      "predicted_answer 1\n",
      "Average Metric: 1 / 5  (20.0%)\n"
     ]
    },
    {
     "name": "stderr",
     "output_type": "stream",
     "text": [
      "  0%|          | 0/5 [00:00<?, ?it/s]"
     ]
    },
    {
     "name": "stdout",
     "output_type": "stream",
     "text": [
      "Backing off 0.5 seconds after 1 tries calling function <function GPT3.request at 0x13debb7e0> with kwargs {}\n",
      "Backing off 0.0 seconds after 1 tries calling function <function GPT3.request at 0x13debb7e0> with kwargs {}\n",
      "Backing off 0.2 seconds after 1 tries calling function <function GPT3.request at 0x13debb7e0> with kwargs {}\n"
     ]
    },
    {
     "name": "stderr",
     "output_type": "stream",
     "text": [
      "Average Metric: 0 / 1  (0.0):  20%|██        | 1/5 [00:41<02:47, 41.91s/it]"
     ]
    },
    {
     "name": "stdout",
     "output_type": "stream",
     "text": [
      "actual_answer 3\n",
      "predicted_answer 0\n",
      "Backing off 0.6 seconds after 1 tries calling function <function GPT3.request at 0x13debb7e0> with kwargs {'max_tokens': 75, 'n': 1, 'temperature': 0.0}\n",
      "Backing off 1.1 seconds after 2 tries calling function <function GPT3.request at 0x13debb7e0> with kwargs {}\n"
     ]
    },
    {
     "name": "stderr",
     "output_type": "stream",
     "text": [
      "Average Metric: 0 / 2  (0.0):  40%|████      | 2/5 [01:23<02:04, 41.61s/it]"
     ]
    },
    {
     "name": "stdout",
     "output_type": "stream",
     "text": [
      "actual_answer 2\n",
      "predicted_answer patient outcome\n"
     ]
    },
    {
     "name": "stderr",
     "output_type": "stream",
     "text": [
      "Average Metric: 0 / 3  (0.0):  60%|██████    | 3/5 [01:43<01:03, 31.94s/it]"
     ]
    },
    {
     "name": "stdout",
     "output_type": "stream",
     "text": [
      "Backing off 0.4 seconds after 2 tries calling function <function GPT3.request at 0x13debb7e0> with kwargs {'max_tokens': 75, 'n': 1, 'temperature': 0.0}\n",
      "actual_answer 2\n",
      "predicted_answer 0\n",
      "Backing off 2.4 seconds after 3 tries calling function <function GPT3.request at 0x13debb7e0> with kwargs {}\n",
      "Backing off 3.2 seconds after 3 tries calling function <function GPT3.request at 0x13debb7e0> with kwargs {'max_tokens': 75, 'n': 1, 'temperature': 0.0}\n",
      "Backing off 0.1 seconds after 4 tries calling function <function GPT3.request at 0x13debb7e0> with kwargs {}\n",
      "Backing off 6.4 seconds after 4 tries calling function <function GPT3.request at 0x13debb7e0> with kwargs {'max_tokens': 75, 'n': 1, 'temperature': 0.0}\n",
      "Backing off 5.4 seconds after 5 tries calling function <function GPT3.request at 0x13debb7e0> with kwargs {}\n",
      "Backing off 15.3 seconds after 5 tries calling function <function GPT3.request at 0x13debb7e0> with kwargs {'max_tokens': 75, 'n': 1, 'temperature': 0.0}\n",
      "Backing off 3.0 seconds after 6 tries calling function <function GPT3.request at 0x13debb7e0> with kwargs {}\n",
      "Backing off 3.1 seconds after 6 tries calling function <function GPT3.request at 0x13debb7e0> with kwargs {'max_tokens': 75, 'n': 1, 'temperature': 0.0}\n",
      "Backing off 38.6 seconds after 7 tries calling function <function GPT3.request at 0x13debb7e0> with kwargs {'max_tokens': 75, 'n': 1, 'temperature': 0.0}\n",
      "Backing off 51.7 seconds after 7 tries calling function <function GPT3.request at 0x13debb7e0> with kwargs {}\n",
      "Backing off 124.6 seconds after 8 tries calling function <function GPT3.request at 0x13debb7e0> with kwargs {'max_tokens': 75, 'n': 1, 'temperature': 0.0}\n",
      "Backing off 70.7 seconds after 8 tries calling function <function GPT3.request at 0x13debb7e0> with kwargs {}\n",
      "Backing off 220.6 seconds after 9 tries calling function <function GPT3.request at 0x13debb7e0> with kwargs {}\n",
      "Backing off 180.4 seconds after 9 tries calling function <function GPT3.request at 0x13debb7e0> with kwargs {'max_tokens': 75, 'n': 1, 'temperature': 0.0}\n",
      "Backing off 40.9 seconds after 10 tries calling function <function GPT3.request at 0x13debb7e0> with kwargs {}\n",
      "Backing off 119.2 seconds after 10 tries calling function <function GPT3.request at 0x13debb7e0> with kwargs {'max_tokens': 75, 'n': 1, 'temperature': 0.0}\n"
     ]
    },
    {
     "name": "stderr",
     "output_type": "stream",
     "text": [
      "Average Metric: 0 / 4  (0.0):  80%|████████  | 4/5 [11:35<04:13, 253.00s/it]"
     ]
    },
    {
     "name": "stdout",
     "output_type": "stream",
     "text": [
      "actual_answer 3\n",
      "predicted_answer 1\n",
      "Backing off 230.1 seconds after 11 tries calling function <function GPT3.request at 0x13debb7e0> with kwargs {'max_tokens': 75, 'n': 1, 'temperature': 0.0}\n"
     ]
    },
    {
     "name": "stderr",
     "output_type": "stream",
     "text": [
      "Average Metric: 0.0 / 5  (0.0): 100%|██████████| 5/5 [17:08<00:00, 205.77s/it]\n",
      "[I 2024-03-12 20:13:32,172] Trial 2 finished with value: 0.0 and parameters: {'demo_index_for_generate_answer': 5}. Best is trial 0 with value: 60.0.\n"
     ]
    },
    {
     "name": "stdout",
     "output_type": "stream",
     "text": [
      "Error for example in dev set: \t\t Error code: 429 - {'error': {'message': 'Rate limit reached for gpt-3.5-turbo in organization org-O0hnOySDX6ccyh9Epmb8cENl on requests per day (RPD): Limit 200, Used 200, Requested 1. Please try again in 7m12s. Visit https://platform.openai.com/account/rate-limits to learn more. You can increase your rate limit by adding a payment method to your account at https://platform.openai.com/account/billing.', 'type': 'requests', 'param': None, 'code': 'rate_limit_exceeded'}}\n",
      "Average Metric: 0.0 / 5  (0.0%)\n"
     ]
    },
    {
     "name": "stderr",
     "output_type": "stream",
     "text": [
      "  0%|          | 0/5 [00:00<?, ?it/s]"
     ]
    },
    {
     "name": "stdout",
     "output_type": "stream",
     "text": [
      "Backing off 0.3 seconds after 1 tries calling function <function GPT3.request at 0x13debb7e0> with kwargs {}\n",
      "Backing off 0.9 seconds after 1 tries calling function <function GPT3.request at 0x13debb7e0> with kwargs {}Backing off 0.6 seconds after 1 tries calling function <function GPT3.request at 0x13debb7e0> with kwargs {}\n",
      "\n",
      "Backing off 0.6 seconds after 1 tries calling function <function GPT3.request at 0x13debb7e0> with kwargs {}\n",
      "Backing off 0.2 seconds after 1 tries calling function <function GPT3.request at 0x13debb7e0> with kwargs {}\n",
      "Backing off 0.3 seconds after 2 tries calling function <function GPT3.request at 0x13debb7e0> with kwargs {}\n",
      "Backing off 0.8 seconds after 2 tries calling function <function GPT3.request at 0x13debb7e0> with kwargs {}\n",
      "Backing off 2.0 seconds after 2 tries calling function <function GPT3.request at 0x13debb7e0> with kwargs {}Backing off 1.3 seconds after 2 tries calling function <function GPT3.request at 0x13debb7e0> with kwargs {}\n",
      "\n",
      "Backing off 1.1 seconds after 2 tries calling function <function GPT3.request at 0x13debb7e0> with kwargs {}\n",
      "Backing off 2.7 seconds after 3 tries calling function <function GPT3.request at 0x13debb7e0> with kwargs {}\n"
     ]
    },
    {
     "name": "stderr",
     "output_type": "stream",
     "text": [
      "Average Metric: 0 / 1  (0.0):  20%|██        | 1/5 [01:46<07:04, 106.07s/it]"
     ]
    },
    {
     "name": "stdout",
     "output_type": "stream",
     "text": [
      "Backing off 3.4 seconds after 3 tries calling function <function GPT3.request at 0x13debb7e0> with kwargs {}\n",
      "actual_answer 3\n",
      "predicted_answer 0\n",
      "Backing off 3.1 seconds after 3 tries calling function <function GPT3.request at 0x13debb7e0> with kwargs {}\n",
      "Backing off 0.9 seconds after 3 tries calling function <function GPT3.request at 0x13debb7e0> with kwargs {}\n",
      "Backing off 2.5 seconds after 4 tries calling function <function GPT3.request at 0x13debb7e0> with kwargs {}\n",
      "Backing off 2.1 seconds after 4 tries calling function <function GPT3.request at 0x13debb7e0> with kwargs {}\n",
      "Backing off 1.7 seconds after 4 tries calling function <function GPT3.request at 0x13debb7e0> with kwargs {}\n",
      "Backing off 7.5 seconds after 4 tries calling function <function GPT3.request at 0x13debb7e0> with kwargs {}\n",
      "Backing off 5.0 seconds after 5 tries calling function <function GPT3.request at 0x13debb7e0> with kwargs {}\n",
      "Backing off 10.5 seconds after 5 tries calling function <function GPT3.request at 0x13debb7e0> with kwargs {}\n",
      "Backing off 6.3 seconds after 5 tries calling function <function GPT3.request at 0x13debb7e0> with kwargs {}\n",
      "Backing off 7.3 seconds after 5 tries calling function <function GPT3.request at 0x13debb7e0> with kwargs {}\n",
      "Backing off 8.5 seconds after 6 tries calling function <function GPT3.request at 0x13debb7e0> with kwargs {}\n",
      "Backing off 7.9 seconds after 6 tries calling function <function GPT3.request at 0x13debb7e0> with kwargs {}\n",
      "Backing off 18.0 seconds after 6 tries calling function <function GPT3.request at 0x13debb7e0> with kwargs {}\n",
      "Backing off 8.4 seconds after 6 tries calling function <function GPT3.request at 0x13debb7e0> with kwargs {}\n",
      "Backing off 57.5 seconds after 7 tries calling function <function GPT3.request at 0x13debb7e0> with kwargs {}\n",
      "Backing off 14.0 seconds after 7 tries calling function <function GPT3.request at 0x13debb7e0> with kwargs {}\n",
      "Backing off 63.8 seconds after 7 tries calling function <function GPT3.request at 0x13debb7e0> with kwargs {}\n",
      "Backing off 32.6 seconds after 7 tries calling function <function GPT3.request at 0x13debb7e0> with kwargs {}\n",
      "Backing off 6.0 seconds after 8 tries calling function <function GPT3.request at 0x13debb7e0> with kwargs {}\n",
      "Backing off 202.8 seconds after 9 tries calling function <function GPT3.request at 0x13debb7e0> with kwargs {}\n",
      "Backing off 54.0 seconds after 8 tries calling function <function GPT3.request at 0x13debb7e0> with kwargs {}\n",
      "Backing off 8.1 seconds after 8 tries calling function <function GPT3.request at 0x13debb7e0> with kwargs {}\n",
      "Backing off 48.8 seconds after 8 tries calling function <function GPT3.request at 0x13debb7e0> with kwargs {}\n",
      "Backing off 135.5 seconds after 9 tries calling function <function GPT3.request at 0x13debb7e0> with kwargs {}\n",
      "Backing off 220.4 seconds after 9 tries calling function <function GPT3.request at 0x13debb7e0> with kwargs {}\n",
      "Backing off 184.5 seconds after 9 tries calling function <function GPT3.request at 0x13debb7e0> with kwargs {}\n"
     ]
    },
    {
     "name": "stderr",
     "output_type": "stream",
     "text": [
      "Average Metric: 0 / 2  (0.0):  40%|████      | 2/5 [08:55<14:48, 296.05s/it]"
     ]
    },
    {
     "name": "stdout",
     "output_type": "stream",
     "text": [
      "actual_answer 1\n",
      "predicted_answer 2\n",
      "Backing off 136.6 seconds after 10 tries calling function <function GPT3.request at 0x13debb7e0> with kwargs {}\n",
      "Backing off 232.3 seconds after 10 tries calling function <function GPT3.request at 0x13debb7e0> with kwargs {}\n",
      "Backing off 355.2 seconds after 10 tries calling function <function GPT3.request at 0x13debb7e0> with kwargs {}\n",
      "Backing off 269.7 seconds after 11 tries calling function <function GPT3.request at 0x13debb7e0> with kwargs {}\n",
      "Backing off 121.6 seconds after 11 tries calling function <function GPT3.request at 0x13debb7e0> with kwargs {}\n"
     ]
    },
    {
     "name": "stderr",
     "output_type": "stream",
     "text": [
      "Average Metric: 1 / 3  (33.3):  60%|██████    | 3/5 [16:20<12:08, 364.31s/it]"
     ]
    },
    {
     "name": "stdout",
     "output_type": "stream",
     "text": [
      "actual_answer 2\n",
      "predicted_answer 2\n"
     ]
    },
    {
     "name": "stderr",
     "output_type": "stream",
     "text": [
      "Average Metric: 1.0 / 4  (25.0):  80%|████████  | 4/5 [16:53<03:53, 233.41s/it]"
     ]
    },
    {
     "name": "stdout",
     "output_type": "stream",
     "text": [
      "Error for example in dev set: \t\t Error code: 429 - {'error': {'message': 'Rate limit reached for gpt-3.5-turbo in organization org-O0hnOySDX6ccyh9Epmb8cENl on requests per day (RPD): Limit 200, Used 200, Requested 1. Please try again in 7m12s. Visit https://platform.openai.com/account/rate-limits to learn more. You can increase your rate limit by adding a payment method to your account at https://platform.openai.com/account/billing.', 'type': 'requests', 'param': None, 'code': 'rate_limit_exceeded'}}\n"
     ]
    },
    {
     "name": "stderr",
     "output_type": "stream",
     "text": [
      "Average Metric: 1.0 / 5  (20.0): 100%|██████████| 5/5 [17:24<00:00, 208.99s/it]\n",
      "[I 2024-03-12 20:30:57,151] Trial 3 finished with value: 20.0 and parameters: {'demo_index_for_generate_answer': 12}. Best is trial 0 with value: 60.0.\n"
     ]
    },
    {
     "name": "stdout",
     "output_type": "stream",
     "text": [
      "Error for example in dev set: \t\t Error code: 429 - {'error': {'message': 'Rate limit reached for gpt-3.5-turbo in organization org-O0hnOySDX6ccyh9Epmb8cENl on requests per day (RPD): Limit 200, Used 200, Requested 1. Please try again in 7m12s. Visit https://platform.openai.com/account/rate-limits to learn more. You can increase your rate limit by adding a payment method to your account at https://platform.openai.com/account/billing.', 'type': 'requests', 'param': None, 'code': 'rate_limit_exceeded'}}\n",
      "Average Metric: 1.0 / 5  (20.0%)\n"
     ]
    },
    {
     "name": "stderr",
     "output_type": "stream",
     "text": [
      "  0%|          | 0/5 [00:00<?, ?it/s]"
     ]
    },
    {
     "name": "stdout",
     "output_type": "stream",
     "text": [
      "Backing off 0.2 seconds after 1 tries calling function <function GPT3.request at 0x13debb7e0> with kwargs {}\n",
      "Backing off 0.8 seconds after 1 tries calling function <function GPT3.request at 0x13debb7e0> with kwargs {}Backing off 0.5 seconds after 1 tries calling function <function GPT3.request at 0x13debb7e0> with kwargs {}\n",
      "\n",
      "Backing off 0.8 seconds after 1 tries calling function <function GPT3.request at 0x13debb7e0> with kwargs {}\n",
      "Backing off 0.5 seconds after 1 tries calling function <function GPT3.request at 0x13debb7e0> with kwargs {}\n",
      "Backing off 0.6 seconds after 2 tries calling function <function GPT3.request at 0x13debb7e0> with kwargs {}\n",
      "Backing off 0.0 seconds after 2 tries calling function <function GPT3.request at 0x13debb7e0> with kwargs {}\n",
      "Backing off 1.9 seconds after 2 tries calling function <function GPT3.request at 0x13debb7e0> with kwargs {}\n",
      "Backing off 1.8 seconds after 2 tries calling function <function GPT3.request at 0x13debb7e0> with kwargs {}\n",
      "Backing off 1.7 seconds after 2 tries calling function <function GPT3.request at 0x13debb7e0> with kwargs {}\n",
      "Backing off 0.2 seconds after 3 tries calling function <function GPT3.request at 0x13debb7e0> with kwargs {}\n",
      "Backing off 3.5 seconds after 3 tries calling function <function GPT3.request at 0x13debb7e0> with kwargs {}\n",
      "Backing off 3.8 seconds after 3 tries calling function <function GPT3.request at 0x13debb7e0> with kwargs {}\n",
      "Backing off 0.3 seconds after 3 tries calling function <function GPT3.request at 0x13debb7e0> with kwargs {}\n",
      "Backing off 1.9 seconds after 3 tries calling function <function GPT3.request at 0x13debb7e0> with kwargs {}\n",
      "Backing off 0.6 seconds after 4 tries calling function <function GPT3.request at 0x13debb7e0> with kwargs {}\n",
      "Backing off 6.1 seconds after 4 tries calling function <function GPT3.request at 0x13debb7e0> with kwargs {}\n",
      "Backing off 6.1 seconds after 4 tries calling function <function GPT3.request at 0x13debb7e0> with kwargs {}\n",
      "Backing off 1.0 seconds after 4 tries calling function <function GPT3.request at 0x13debb7e0> with kwargs {}\n",
      "Backing off 3.8 seconds after 4 tries calling function <function GPT3.request at 0x13debb7e0> with kwargs {}\n",
      "Backing off 4.2 seconds after 5 tries calling function <function GPT3.request at 0x13debb7e0> with kwargs {}\n",
      "Backing off 14.0 seconds after 5 tries calling function <function GPT3.request at 0x13debb7e0> with kwargs {}\n",
      "Backing off 6.8 seconds after 5 tries calling function <function GPT3.request at 0x13debb7e0> with kwargs {}\n",
      "Backing off 8.6 seconds after 5 tries calling function <function GPT3.request at 0x13debb7e0> with kwargs {}\n",
      "Backing off 11.7 seconds after 5 tries calling function <function GPT3.request at 0x13debb7e0> with kwargs {}\n",
      "Backing off 10.0 seconds after 6 tries calling function <function GPT3.request at 0x13debb7e0> with kwargs {}\n",
      "Backing off 31.8 seconds after 6 tries calling function <function GPT3.request at 0x13debb7e0> with kwargs {}\n",
      "Backing off 20.8 seconds after 6 tries calling function <function GPT3.request at 0x13debb7e0> with kwargs {}\n",
      "Backing off 16.6 seconds after 6 tries calling function <function GPT3.request at 0x13debb7e0> with kwargs {}\n",
      "Backing off 3.9 seconds after 6 tries calling function <function GPT3.request at 0x13debb7e0> with kwargs {}\n",
      "Backing off 21.6 seconds after 7 tries calling function <function GPT3.request at 0x13debb7e0> with kwargs {}\n",
      "Backing off 37.7 seconds after 7 tries calling function <function GPT3.request at 0x13debb7e0> with kwargs {}\n",
      "Backing off 14.7 seconds after 7 tries calling function <function GPT3.request at 0x13debb7e0> with kwargs {}\n",
      "Backing off 14.1 seconds after 7 tries calling function <function GPT3.request at 0x13debb7e0> with kwargs {}\n",
      "Backing off 4.5 seconds after 7 tries calling function <function GPT3.request at 0x13debb7e0> with kwargs {}\n",
      "Backing off 29.3 seconds after 8 tries calling function <function GPT3.request at 0x13debb7e0> with kwargs {}\n",
      "Backing off 115.9 seconds after 8 tries calling function <function GPT3.request at 0x13debb7e0> with kwargs {}\n",
      "Backing off 110.0 seconds after 8 tries calling function <function GPT3.request at 0x13debb7e0> with kwargs {}\n",
      "Backing off 9.1 seconds after 8 tries calling function <function GPT3.request at 0x13debb7e0> with kwargs {}\n",
      "Backing off 30.5 seconds after 8 tries calling function <function GPT3.request at 0x13debb7e0> with kwargs {}\n",
      "Backing off 54.8 seconds after 9 tries calling function <function GPT3.request at 0x13debb7e0> with kwargs {}\n",
      "Backing off 239.5 seconds after 9 tries calling function <function GPT3.request at 0x13debb7e0> with kwargs {}\n",
      "Backing off 146.2 seconds after 9 tries calling function <function GPT3.request at 0x13debb7e0> with kwargs {}\n",
      "Backing off 413.4 seconds after 10 tries calling function <function GPT3.request at 0x13debb7e0> with kwargs {}\n",
      "Backing off 48.7 seconds after 9 tries calling function <function GPT3.request at 0x13debb7e0> with kwargs {}\n",
      "Backing off 110.3 seconds after 9 tries calling function <function GPT3.request at 0x13debb7e0> with kwargs {}\n",
      "Backing off 373.3 seconds after 10 tries calling function <function GPT3.request at 0x13debb7e0> with kwargs {}\n",
      "Backing off 444.4 seconds after 10 tries calling function <function GPT3.request at 0x13debb7e0> with kwargs {}\n",
      "Backing off 206.1 seconds after 10 tries calling function <function GPT3.request at 0x13debb7e0> with kwargs {}\n",
      "Backing off 127.3 seconds after 10 tries calling function <function GPT3.request at 0x13debb7e0> with kwargs {}\n"
     ]
    },
    {
     "name": "stderr",
     "output_type": "stream",
     "text": [
      "Average Metric: 0 / 1  (0.0):  20%|██        | 1/5 [13:00<52:01, 780.34s/it]"
     ]
    },
    {
     "name": "stdout",
     "output_type": "stream",
     "text": [
      "actual_answer 3\n",
      "predicted_answer 1\n",
      "Backing off 177.8 seconds after 11 tries calling function <function GPT3.request at 0x13debb7e0> with kwargs {}\n",
      "Backing off 126.3 seconds after 11 tries calling function <function GPT3.request at 0x13debb7e0> with kwargs {}\n",
      "Backing off 97.4 seconds after 11 tries calling function <function GPT3.request at 0x13debb7e0> with kwargs {}\n"
     ]
    },
    {
     "name": "stderr",
     "output_type": "stream",
     "text": [
      "Average Metric: 0.0 / 3  (0.0):  40%|████      | 2/5 [17:05<23:16, 465.51s/it]"
     ]
    },
    {
     "name": "stdout",
     "output_type": "stream",
     "text": [
      "Error for example in dev set: \t\t Error code: 429 - {'error': {'message': 'Rate limit reached for gpt-3.5-turbo in organization org-O0hnOySDX6ccyh9Epmb8cENl on requests per day (RPD): Limit 200, Used 200, Requested 1. Please try again in 7m12s. Visit https://platform.openai.com/account/rate-limits to learn more. You can increase your rate limit by adding a payment method to your account at https://platform.openai.com/account/billing.', 'type': 'requests', 'param': None, 'code': 'rate_limit_exceeded'}}\n",
      "Error for example in dev set: \t\t Error code: 429 - {'error': {'message': 'Rate limit reached for gpt-3.5-turbo in organization org-O0hnOySDX6ccyh9Epmb8cENl on requests per min (RPM): Limit 3, Used 3, Requested 1. Please try again in 20s. Visit https://platform.openai.com/account/rate-limits to learn more. You can increase your rate limit by adding a payment method to your account at https://platform.openai.com/account/billing.', 'type': 'requests', 'param': None, 'code': 'rate_limit_exceeded'}}\n"
     ]
    },
    {
     "name": "stderr",
     "output_type": "stream",
     "text": [
      "Average Metric: 0.0 / 4  (0.0):  80%|████████  | 4/5 [17:05<02:53, 173.72s/it]"
     ]
    },
    {
     "name": "stdout",
     "output_type": "stream",
     "text": [
      "Error for example in dev set: \t\t Error code: 429 - {'error': {'message': 'Rate limit reached for gpt-3.5-turbo in organization org-O0hnOySDX6ccyh9Epmb8cENl on requests per min (RPM): Limit 3, Used 3, Requested 1. Please try again in 20s. Visit https://platform.openai.com/account/rate-limits to learn more. You can increase your rate limit by adding a payment method to your account at https://platform.openai.com/account/billing.', 'type': 'requests', 'param': None, 'code': 'rate_limit_exceeded'}}\n"
     ]
    },
    {
     "name": "stderr",
     "output_type": "stream",
     "text": [
      "Average Metric: 0.0 / 5  (0.0): 100%|██████████| 5/5 [17:43<00:00, 212.63s/it]\n",
      "[I 2024-03-12 20:48:40,365] Trial 4 finished with value: 0.0 and parameters: {'demo_index_for_generate_answer': 3}. Best is trial 0 with value: 60.0.\n"
     ]
    },
    {
     "name": "stdout",
     "output_type": "stream",
     "text": [
      "Error for example in dev set: \t\t Error code: 429 - {'error': {'message': 'Rate limit reached for gpt-3.5-turbo in organization org-O0hnOySDX6ccyh9Epmb8cENl on requests per day (RPD): Limit 200, Used 200, Requested 1. Please try again in 7m12s. Visit https://platform.openai.com/account/rate-limits to learn more. You can increase your rate limit by adding a payment method to your account at https://platform.openai.com/account/billing.', 'type': 'requests', 'param': None, 'code': 'rate_limit_exceeded'}}\n",
      "Average Metric: 0.0 / 5  (0.0%)\n",
      "actual_answer 2\n",
      "predicted_answer patient outcome\n",
      "actual_answer 3\n",
      "predicted_answer 0\n",
      "actual_answer 2\n",
      "predicted_answer 0\n",
      "actual_answer 3\n",
      "predicted_answer 1\n"
     ]
    },
    {
     "name": "stderr",
     "output_type": "stream",
     "text": [
      "Average Metric: 0 / 4  (0.0):  60%|██████    | 3/5 [00:00<00:00, 812.80it/s] "
     ]
    },
    {
     "name": "stdout",
     "output_type": "stream",
     "text": [
      "Backing off 0.9 seconds after 1 tries calling function <function GPT3.request at 0x13debb7e0> with kwargs {'max_tokens': 75, 'n': 1, 'temperature': 0.0}\n",
      "Backing off 0.3 seconds after 2 tries calling function <function GPT3.request at 0x13debb7e0> with kwargs {'max_tokens': 75, 'n': 1, 'temperature': 0.0}\n",
      "Backing off 0.9 seconds after 3 tries calling function <function GPT3.request at 0x13debb7e0> with kwargs {'max_tokens': 75, 'n': 1, 'temperature': 0.0}\n",
      "Backing off 0.5 seconds after 4 tries calling function <function GPT3.request at 0x13debb7e0> with kwargs {'max_tokens': 75, 'n': 1, 'temperature': 0.0}\n",
      "Backing off 15.8 seconds after 5 tries calling function <function GPT3.request at 0x13debb7e0> with kwargs {'max_tokens': 75, 'n': 1, 'temperature': 0.0}\n"
     ]
    },
    {
     "name": "stderr",
     "output_type": "stream",
     "text": [
      "Average Metric: 1 / 5  (20.0): 100%|██████████| 5/5 [02:34<00:00, 30.90s/it]\n",
      "[I 2024-03-12 20:51:14,876] Trial 5 finished with value: 20.0 and parameters: {'demo_index_for_generate_answer': 5}. Best is trial 0 with value: 60.0.\n"
     ]
    },
    {
     "name": "stdout",
     "output_type": "stream",
     "text": [
      "actual_answer 1\n",
      "predicted_answer 1\n",
      "Average Metric: 1 / 5  (20.0%)\n"
     ]
    },
    {
     "name": "stderr",
     "output_type": "stream",
     "text": [
      "  0%|          | 0/5 [00:00<?, ?it/s]"
     ]
    },
    {
     "name": "stdout",
     "output_type": "stream",
     "text": [
      "Backing off 0.5 seconds after 1 tries calling function <function GPT3.request at 0x13debb7e0> with kwargs {}\n",
      "Backing off 0.4 seconds after 1 tries calling function <function GPT3.request at 0x13debb7e0> with kwargs {}\n",
      "Backing off 1.0 seconds after 1 tries calling function <function GPT3.request at 0x13debb7e0> with kwargs {}\n",
      "Backing off 1.0 seconds after 1 tries calling function <function GPT3.request at 0x13debb7e0> with kwargs {}\n",
      "Backing off 0.6 seconds after 1 tries calling function <function GPT3.request at 0x13debb7e0> with kwargs {}\n",
      "Backing off 0.3 seconds after 2 tries calling function <function GPT3.request at 0x13debb7e0> with kwargs {}\n",
      "Backing off 0.6 seconds after 2 tries calling function <function GPT3.request at 0x13debb7e0> with kwargs {}\n",
      "Backing off 1.9 seconds after 2 tries calling function <function GPT3.request at 0x13debb7e0> with kwargs {}\n",
      "Backing off 1.2 seconds after 2 tries calling function <function GPT3.request at 0x13debb7e0> with kwargs {}\n",
      "Backing off 1.1 seconds after 2 tries calling function <function GPT3.request at 0x13debb7e0> with kwargs {}\n",
      "Backing off 0.2 seconds after 3 tries calling function <function GPT3.request at 0x13debb7e0> with kwargs {}\n",
      "Backing off 2.3 seconds after 3 tries calling function <function GPT3.request at 0x13debb7e0> with kwargs {}\n",
      "Backing off 2.0 seconds after 3 tries calling function <function GPT3.request at 0x13debb7e0> with kwargs {}\n",
      "Backing off 3.4 seconds after 3 tries calling function <function GPT3.request at 0x13debb7e0> with kwargs {}\n",
      "Backing off 0.6 seconds after 3 tries calling function <function GPT3.request at 0x13debb7e0> with kwargs {}\n",
      "Backing off 0.6 seconds after 4 tries calling function <function GPT3.request at 0x13debb7e0> with kwargs {}\n",
      "Backing off 4.8 seconds after 4 tries calling function <function GPT3.request at 0x13debb7e0> with kwargs {}\n",
      "Backing off 5.4 seconds after 4 tries calling function <function GPT3.request at 0x13debb7e0> with kwargs {}\n",
      "Backing off 1.9 seconds after 4 tries calling function <function GPT3.request at 0x13debb7e0> with kwargs {}\n",
      "Backing off 1.0 seconds after 4 tries calling function <function GPT3.request at 0x13debb7e0> with kwargs {}\n",
      "Backing off 14.2 seconds after 5 tries calling function <function GPT3.request at 0x13debb7e0> with kwargs {}\n",
      "Backing off 9.5 seconds after 5 tries calling function <function GPT3.request at 0x13debb7e0> with kwargs {}\n",
      "Backing off 9.9 seconds after 5 tries calling function <function GPT3.request at 0x13debb7e0> with kwargs {}\n",
      "Backing off 6.7 seconds after 5 tries calling function <function GPT3.request at 0x13debb7e0> with kwargs {}\n",
      "Backing off 9.3 seconds after 5 tries calling function <function GPT3.request at 0x13debb7e0> with kwargs {}\n",
      "Backing off 29.9 seconds after 6 tries calling function <function GPT3.request at 0x13debb7e0> with kwargs {}\n",
      "Backing off 6.5 seconds after 6 tries calling function <function GPT3.request at 0x13debb7e0> with kwargs {}\n",
      "Backing off 7.6 seconds after 6 tries calling function <function GPT3.request at 0x13debb7e0> with kwargs {}\n",
      "Backing off 12.7 seconds after 6 tries calling function <function GPT3.request at 0x13debb7e0> with kwargs {}\n",
      "Backing off 21.5 seconds after 6 tries calling function <function GPT3.request at 0x13debb7e0> with kwargs {}\n",
      "Backing off 19.2 seconds after 7 tries calling function <function GPT3.request at 0x13debb7e0> with kwargs {}\n",
      "Backing off 48.1 seconds after 7 tries calling function <function GPT3.request at 0x13debb7e0> with kwargs {}\n",
      "Backing off 4.6 seconds after 7 tries calling function <function GPT3.request at 0x13debb7e0> with kwargs {}\n",
      "Backing off 29.3 seconds after 7 tries calling function <function GPT3.request at 0x13debb7e0> with kwargs {}\n",
      "Backing off 63.9 seconds after 7 tries calling function <function GPT3.request at 0x13debb7e0> with kwargs {}\n",
      "Backing off 127.5 seconds after 8 tries calling function <function GPT3.request at 0x13debb7e0> with kwargs {}\n",
      "Backing off 9.4 seconds after 8 tries calling function <function GPT3.request at 0x13debb7e0> with kwargs {}\n",
      "Backing off 33.9 seconds after 8 tries calling function <function GPT3.request at 0x13debb7e0> with kwargs {}\n",
      "Backing off 238.9 seconds after 9 tries calling function <function GPT3.request at 0x13debb7e0> with kwargs {}\n",
      "Backing off 112.8 seconds after 8 tries calling function <function GPT3.request at 0x13debb7e0> with kwargs {}\n",
      "Backing off 47.3 seconds after 8 tries calling function <function GPT3.request at 0x13debb7e0> with kwargs {}\n",
      "Backing off 40.4 seconds after 9 tries calling function <function GPT3.request at 0x13debb7e0> with kwargs {}\n"
     ]
    },
    {
     "name": "stderr",
     "output_type": "stream",
     "text": [
      "Average Metric: 0 / 1  (0.0):  20%|██        | 1/5 [07:23<29:33, 443.38s/it]"
     ]
    },
    {
     "name": "stdout",
     "output_type": "stream",
     "text": [
      "actual_answer 3\n",
      "predicted_answer 1\n",
      "Backing off 180.1 seconds after 9 tries calling function <function GPT3.request at 0x13debb7e0> with kwargs {}\n",
      "Backing off 505.5 seconds after 10 tries calling function <function GPT3.request at 0x13debb7e0> with kwargs {}\n",
      "Backing off 167.4 seconds after 9 tries calling function <function GPT3.request at 0x13debb7e0> with kwargs {}\n",
      "Backing off 153.3 seconds after 10 tries calling function <function GPT3.request at 0x13debb7e0> with kwargs {}\n",
      "Backing off 68.8 seconds after 10 tries calling function <function GPT3.request at 0x13debb7e0> with kwargs {}\n",
      "Backing off 54.8 seconds after 10 tries calling function <function GPT3.request at 0x13debb7e0> with kwargs {}\n",
      "Backing off 274.6 seconds after 11 tries calling function <function GPT3.request at 0x13debb7e0> with kwargs {}\n",
      "Backing off 241.3 seconds after 11 tries calling function <function GPT3.request at 0x13debb7e0> with kwargs {}\n",
      "Backing off 208.5 seconds after 11 tries calling function <function GPT3.request at 0x13debb7e0> with kwargs {}\n"
     ]
    },
    {
     "name": "stderr",
     "output_type": "stream",
     "text": [
      "Average Metric: 0 / 2  (0.0):  40%|████      | 2/5 [16:50<25:48, 516.14s/it]"
     ]
    },
    {
     "name": "stdout",
     "output_type": "stream",
     "text": [
      "actual_answer 2\n",
      "predicted_answer 3\n"
     ]
    },
    {
     "name": "stderr",
     "output_type": "stream",
     "text": [
      "Average Metric: 0.0 / 3  (0.0):  60%|██████    | 3/5 [16:59<09:29, 284.67s/it]"
     ]
    },
    {
     "name": "stdout",
     "output_type": "stream",
     "text": [
      "Error for example in dev set: \t\t Error code: 429 - {'error': {'message': 'Rate limit reached for gpt-3.5-turbo in organization org-O0hnOySDX6ccyh9Epmb8cENl on requests per min (RPM): Limit 3, Used 3, Requested 1. Please try again in 20s. Visit https://platform.openai.com/account/rate-limits to learn more. You can increase your rate limit by adding a payment method to your account at https://platform.openai.com/account/billing.', 'type': 'requests', 'param': None, 'code': 'rate_limit_exceeded'}}\n"
     ]
    },
    {
     "name": "stderr",
     "output_type": "stream",
     "text": [
      "Average Metric: 0.0 / 4  (0.0):  80%|████████  | 4/5 [17:24<03:02, 182.19s/it]"
     ]
    },
    {
     "name": "stdout",
     "output_type": "stream",
     "text": [
      "Error for example in dev set: \t\t Error code: 429 - {'error': {'message': 'Rate limit reached for gpt-3.5-turbo in organization org-O0hnOySDX6ccyh9Epmb8cENl on requests per min (RPM): Limit 3, Used 3, Requested 1. Please try again in 20s. Visit https://platform.openai.com/account/rate-limits to learn more. You can increase your rate limit by adding a payment method to your account at https://platform.openai.com/account/billing.', 'type': 'requests', 'param': None, 'code': 'rate_limit_exceeded'}}\n"
     ]
    },
    {
     "name": "stderr",
     "output_type": "stream",
     "text": [
      "Average Metric: 0.0 / 5  (0.0): 100%|██████████| 5/5 [17:42<00:00, 212.60s/it]\n",
      "[I 2024-03-12 21:08:57,897] Trial 6 finished with value: 0.0 and parameters: {'demo_index_for_generate_answer': 10}. Best is trial 0 with value: 60.0.\n"
     ]
    },
    {
     "name": "stdout",
     "output_type": "stream",
     "text": [
      "Error for example in dev set: \t\t Error code: 429 - {'error': {'message': 'Rate limit reached for gpt-3.5-turbo in organization org-O0hnOySDX6ccyh9Epmb8cENl on requests per day (RPD): Limit 200, Used 200, Requested 1. Please try again in 7m12s. Visit https://platform.openai.com/account/rate-limits to learn more. You can increase your rate limit by adding a payment method to your account at https://platform.openai.com/account/billing.', 'type': 'requests', 'param': None, 'code': 'rate_limit_exceeded'}}\n",
      "Average Metric: 0.0 / 5  (0.0%)\n"
     ]
    },
    {
     "name": "stderr",
     "output_type": "stream",
     "text": [
      "  0%|          | 0/5 [00:00<?, ?it/s]"
     ]
    },
    {
     "name": "stdout",
     "output_type": "stream",
     "text": [
      "Backing off 0.8 seconds after 1 tries calling function <function GPT3.request at 0x13debb7e0> with kwargs {}\n",
      "Backing off 0.1 seconds after 1 tries calling function <function GPT3.request at 0x13debb7e0> with kwargs {}\n",
      "Backing off 0.4 seconds after 1 tries calling function <function GPT3.request at 0x13debb7e0> with kwargs {}\n",
      "Backing off 0.3 seconds after 1 tries calling function <function GPT3.request at 0x13debb7e0> with kwargs {}\n",
      "Backing off 0.0 seconds after 1 tries calling function <function GPT3.request at 0x13debb7e0> with kwargs {}\n",
      "Backing off 1.3 seconds after 2 tries calling function <function GPT3.request at 0x13debb7e0> with kwargs {}\n",
      "Backing off 0.5 seconds after 2 tries calling function <function GPT3.request at 0x13debb7e0> with kwargs {}\n",
      "Backing off 1.5 seconds after 2 tries calling function <function GPT3.request at 0x13debb7e0> with kwargs {}\n",
      "Backing off 1.1 seconds after 2 tries calling function <function GPT3.request at 0x13debb7e0> with kwargs {}\n",
      "Backing off 0.9 seconds after 2 tries calling function <function GPT3.request at 0x13debb7e0> with kwargs {}\n",
      "Backing off 0.3 seconds after 3 tries calling function <function GPT3.request at 0x13debb7e0> with kwargs {}\n",
      "Backing off 3.5 seconds after 3 tries calling function <function GPT3.request at 0x13debb7e0> with kwargs {}\n",
      "Backing off 3.6 seconds after 3 tries calling function <function GPT3.request at 0x13debb7e0> with kwargs {}\n",
      "Backing off 3.3 seconds after 3 tries calling function <function GPT3.request at 0x13debb7e0> with kwargs {}\n",
      "Backing off 2.3 seconds after 3 tries calling function <function GPT3.request at 0x13debb7e0> with kwargs {}\n",
      "Backing off 1.0 seconds after 4 tries calling function <function GPT3.request at 0x13debb7e0> with kwargs {}\n",
      "Backing off 2.5 seconds after 4 tries calling function <function GPT3.request at 0x13debb7e0> with kwargs {}\n",
      "Backing off 6.4 seconds after 4 tries calling function <function GPT3.request at 0x13debb7e0> with kwargs {}\n",
      "Backing off 6.9 seconds after 4 tries calling function <function GPT3.request at 0x13debb7e0> with kwargs {}\n",
      "Backing off 7.2 seconds after 4 tries calling function <function GPT3.request at 0x13debb7e0> with kwargs {}\n",
      "Backing off 3.4 seconds after 5 tries calling function <function GPT3.request at 0x13debb7e0> with kwargs {}\n",
      "Backing off 4.0 seconds after 5 tries calling function <function GPT3.request at 0x13debb7e0> with kwargs {}\n",
      "Backing off 12.5 seconds after 5 tries calling function <function GPT3.request at 0x13debb7e0> with kwargs {}\n",
      "Backing off 28.3 seconds after 6 tries calling function <function GPT3.request at 0x13debb7e0> with kwargs {}\n",
      "Backing off 6.5 seconds after 5 tries calling function <function GPT3.request at 0x13debb7e0> with kwargs {}\n",
      "Backing off 2.5 seconds after 5 tries calling function <function GPT3.request at 0x13debb7e0> with kwargs {}\n",
      "Backing off 29.8 seconds after 6 tries calling function <function GPT3.request at 0x13debb7e0> with kwargs {}\n",
      "Backing off 27.7 seconds after 6 tries calling function <function GPT3.request at 0x13debb7e0> with kwargs {}\n",
      "Backing off 31.2 seconds after 6 tries calling function <function GPT3.request at 0x13debb7e0> with kwargs {}\n",
      "Backing off 56.4 seconds after 7 tries calling function <function GPT3.request at 0x13debb7e0> with kwargs {}\n",
      "Backing off 0.8 seconds after 6 tries calling function <function GPT3.request at 0x13debb7e0> with kwargs {}\n",
      "Backing off 21.3 seconds after 7 tries calling function <function GPT3.request at 0x13debb7e0> with kwargs {}\n",
      "Backing off 51.3 seconds after 7 tries calling function <function GPT3.request at 0x13debb7e0> with kwargs {}\n",
      "Backing off 55.3 seconds after 7 tries calling function <function GPT3.request at 0x13debb7e0> with kwargs {}\n",
      "Backing off 103.8 seconds after 8 tries calling function <function GPT3.request at 0x13debb7e0> with kwargs {}\n",
      "Backing off 17.1 seconds after 7 tries calling function <function GPT3.request at 0x13debb7e0> with kwargs {}\n",
      "Backing off 13.8 seconds after 8 tries calling function <function GPT3.request at 0x13debb7e0> with kwargs {}\n",
      "Backing off 109.9 seconds after 8 tries calling function <function GPT3.request at 0x13debb7e0> with kwargs {}\n",
      "Backing off 28.5 seconds after 8 tries calling function <function GPT3.request at 0x13debb7e0> with kwargs {}\n",
      "Backing off 104.5 seconds after 8 tries calling function <function GPT3.request at 0x13debb7e0> with kwargs {}\n",
      "Backing off 117.8 seconds after 9 tries calling function <function GPT3.request at 0x13debb7e0> with kwargs {}\n",
      "Backing off 203.6 seconds after 9 tries calling function <function GPT3.request at 0x13debb7e0> with kwargs {}\n",
      "Backing off 58.3 seconds after 9 tries calling function <function GPT3.request at 0x13debb7e0> with kwargs {}\n",
      "Backing off 84.0 seconds after 9 tries calling function <function GPT3.request at 0x13debb7e0> with kwargs {}\n",
      "Backing off 142.9 seconds after 10 tries calling function <function GPT3.request at 0x13debb7e0> with kwargs {}\n",
      "Backing off 328.4 seconds after 10 tries calling function <function GPT3.request at 0x13debb7e0> with kwargs {}\n",
      "Backing off 102.3 seconds after 9 tries calling function <function GPT3.request at 0x13debb7e0> with kwargs {}\n",
      "Backing off 274.5 seconds after 10 tries calling function <function GPT3.request at 0x13debb7e0> with kwargs {}\n",
      "Backing off 91.4 seconds after 10 tries calling function <function GPT3.request at 0x13debb7e0> with kwargs {}\n",
      "Backing off 352.5 seconds after 10 tries calling function <function GPT3.request at 0x13debb7e0> with kwargs {}\n",
      "Backing off 0.1 seconds after 1 tries calling function <function GPT3.request at 0x13debb7e0> with kwargs {'max_tokens': 75, 'n': 1, 'temperature': 0.0}\n",
      "Backing off 1.5 seconds after 2 tries calling function <function GPT3.request at 0x13debb7e0> with kwargs {'max_tokens': 75, 'n': 1, 'temperature': 0.0}\n",
      "Backing off 2.4 seconds after 3 tries calling function <function GPT3.request at 0x13debb7e0> with kwargs {'max_tokens': 75, 'n': 1, 'temperature': 0.0}\n",
      "Backing off 3.1 seconds after 4 tries calling function <function GPT3.request at 0x13debb7e0> with kwargs {'max_tokens': 75, 'n': 1, 'temperature': 0.0}\n",
      "Backing off 259.5 seconds after 11 tries calling function <function GPT3.request at 0x13debb7e0> with kwargs {}\n",
      "Backing off 11.3 seconds after 5 tries calling function <function GPT3.request at 0x13debb7e0> with kwargs {'max_tokens': 75, 'n': 1, 'temperature': 0.0}\n",
      "Backing off 29.6 seconds after 6 tries calling function <function GPT3.request at 0x13debb7e0> with kwargs {'max_tokens': 75, 'n': 1, 'temperature': 0.0}\n",
      "Backing off 147.9 seconds after 11 tries calling function <function GPT3.request at 0x13debb7e0> with kwargs {}\n",
      "Backing off 23.3 seconds after 7 tries calling function <function GPT3.request at 0x13debb7e0> with kwargs {'max_tokens': 75, 'n': 1, 'temperature': 0.0}\n",
      "Backing off 71.7 seconds after 11 tries calling function <function GPT3.request at 0x13debb7e0> with kwargs {}\n",
      "Backing off 42.3 seconds after 8 tries calling function <function GPT3.request at 0x13debb7e0> with kwargs {'max_tokens': 75, 'n': 1, 'temperature': 0.0}\n",
      "Backing off 184.3 seconds after 9 tries calling function <function GPT3.request at 0x13debb7e0> with kwargs {'max_tokens': 75, 'n': 1, 'temperature': 0.0}\n",
      "Backing off 37.1 seconds after 12 tries calling function <function GPT3.request at 0x13debb7e0> with kwargs {}\n"
     ]
    },
    {
     "name": "stderr",
     "output_type": "stream",
     "text": [
      "Average Metric: 0.0 / 2  (0.0):  20%|██        | 1/5 [17:23<1:09:35, 1043.75s/it]"
     ]
    },
    {
     "name": "stdout",
     "output_type": "stream",
     "text": [
      "Error for example in dev set: \t\t Error code: 429 - {'error': {'message': 'Rate limit reached for gpt-3.5-turbo in organization org-O0hnOySDX6ccyh9Epmb8cENl on requests per min (RPM): Limit 3, Used 3, Requested 1. Please try again in 20s. Visit https://platform.openai.com/account/rate-limits to learn more. You can increase your rate limit by adding a payment method to your account at https://platform.openai.com/account/billing.', 'type': 'requests', 'param': None, 'code': 'rate_limit_exceeded'}}\n",
      "Error for example in dev set: \t\t Error code: 429 - {'error': {'message': 'Rate limit reached for gpt-3.5-turbo in organization org-O0hnOySDX6ccyh9Epmb8cENl on requests per min (RPM): Limit 3, Used 3, Requested 1. Please try again in 20s. Visit https://platform.openai.com/account/rate-limits to learn more. You can increase your rate limit by adding a payment method to your account at https://platform.openai.com/account/billing.', 'type': 'requests', 'param': None, 'code': 'rate_limit_exceeded'}}\n"
     ]
    },
    {
     "name": "stderr",
     "output_type": "stream",
     "text": [
      "Average Metric: 0.0 / 4  (0.0):  80%|████████  | 4/5 [17:43<03:01, 181.70s/it]   "
     ]
    },
    {
     "name": "stdout",
     "output_type": "stream",
     "text": [
      "Error for example in dev set: \t\t Error code: 429 - {'error': {'message': 'Rate limit reached for gpt-3.5-turbo in organization org-O0hnOySDX6ccyh9Epmb8cENl on requests per day (RPD): Limit 200, Used 200, Requested 1. Please try again in 7m12s. Visit https://platform.openai.com/account/rate-limits to learn more. You can increase your rate limit by adding a payment method to your account at https://platform.openai.com/account/billing.', 'type': 'requests', 'param': None, 'code': 'rate_limit_exceeded'}}\n",
      "Error for example in dev set: \t\t Error code: 429 - {'error': {'message': 'Rate limit reached for gpt-3.5-turbo in organization org-O0hnOySDX6ccyh9Epmb8cENl on requests per min (RPM): Limit 3, Used 3, Requested 1. Please try again in 20s. Visit https://platform.openai.com/account/rate-limits to learn more. You can increase your rate limit by adding a payment method to your account at https://platform.openai.com/account/billing.', 'type': 'requests', 'param': None, 'code': 'rate_limit_exceeded'}}\n"
     ]
    },
    {
     "name": "stderr",
     "output_type": "stream",
     "text": [
      "Average Metric: 0.0 / 5  (0.0): 100%|██████████| 5/5 [19:29<00:00, 233.92s/it]\n",
      "[I 2024-03-12 21:28:27,540] Trial 7 finished with value: 0.0 and parameters: {'demo_index_for_generate_answer': 1}. Best is trial 0 with value: 60.0.\n"
     ]
    },
    {
     "name": "stdout",
     "output_type": "stream",
     "text": [
      "actual_answer 3\n",
      "predicted_answer 1\n",
      "Average Metric: 0.0 / 5  (0.0%)\n",
      "Best score: 60.0\n",
      "Best program: generate_answer = ChainOfThought(Signature(question -> answer\n",
      "    instructions='Given the fields `question`, produce the fields `answer`.'\n",
      "    question = Field(annotation=str required=True json_schema_extra={'desc': 'Question to be routed to route', '__dspy_field_type': 'input', 'prefix': 'Question:'})\n",
      "    answer = Field(annotation=str required=True json_schema_extra={'desc': 'route option should be integer only no additional text', '__dspy_field_type': 'output', 'prefix': 'Answer:'})\n",
      "))\n"
     ]
    }
   ],
   "source": [
    "from dspy.teleprompt import BootstrapFewShotWithOptuna\n",
    "\n",
    "fewshot_optuna_optimizer = BootstrapFewShotWithOptuna(metric=metric, max_bootstrapped_demos=2, num_candidate_programs=8, num_threads=NUM_THREADS)\n",
    "\n",
    "your_dspy_program_compiled = fewshot_optuna_optimizer.compile(student=Router_module(),max_demos = 2,  trainset=total_data[:DEV_NUM], valset=total_data[DEV_NUM: DEV_NUM + 5])"
   ]
  },
  {
   "cell_type": "code",
   "execution_count": 48,
   "metadata": {},
   "outputs": [],
   "source": [
    "your_dspy_program_compiled.save(\"router_bootstrapped_few_shot_optuna.json\")"
   ]
  },
  {
   "cell_type": "code",
   "execution_count": 49,
   "metadata": {},
   "outputs": [
    {
     "name": "stdout",
     "output_type": "stream",
     "text": [
      "\n",
      "\n",
      "\n",
      "\n",
      "Given the fields `question`, produce the fields `answer`.\n",
      "\n",
      "---\n",
      "\n",
      "Follow the following format.\n",
      "\n",
      "Question: Question to be routed to route\n",
      "Reasoning: Let's think step by step in order to ${produce the answer}. We ...\n",
      "Answer: route option should be integer only no additional text\n",
      "\n",
      "---\n",
      "\n",
      "Question: What is the role of CRISPR-Cas systems in Enterococcus faecalis strains?\n",
      "Reasoning: Let's think step by step in order to Answer: 2\n",
      "Answer: 2\n",
      "\n",
      "---\n",
      "\n",
      "Question: How many aromatic rings are present in the structure of Lisinopril?\n",
      "Reasoning: Let's think step by step in order to Answer: 1\n",
      "Answer:\u001b[32m 1\u001b[0m\n",
      "\n",
      "\n",
      "\n"
     ]
    }
   ],
   "source": [
    "turbo.inspect_history(n =1 )"
   ]
  },
  {
   "cell_type": "code",
   "execution_count": null,
   "metadata": {},
   "outputs": [],
   "source": []
  }
 ],
 "metadata": {
  "kernelspec": {
   "display_name": "Python 3",
   "language": "python",
   "name": "python3"
  },
  "language_info": {
   "codemirror_mode": {
    "name": "ipython",
    "version": 3
   },
   "file_extension": ".py",
   "mimetype": "text/x-python",
   "name": "python",
   "nbconvert_exporter": "python",
   "pygments_lexer": "ipython3",
   "version": "3.11.6"
  }
 },
 "nbformat": 4,
 "nbformat_minor": 2
}
